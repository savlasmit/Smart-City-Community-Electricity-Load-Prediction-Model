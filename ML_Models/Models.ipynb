{
 "cells": [
  {
   "cell_type": "markdown",
   "id": "7f18a5d9",
   "metadata": {},
   "source": [
    "# Data-Driven Electricity Load Forecasting For a Smart City Community Using Machine Learning Approaches"
   ]
  },
  {
   "cell_type": "code",
   "execution_count": 1,
   "id": "16cfb91a",
   "metadata": {},
   "outputs": [],
   "source": [
    "import pandas as pd\n",
    "import numpy as np\n",
    "import matplotlib.pyplot as plt"
   ]
  },
  {
   "cell_type": "code",
   "execution_count": 2,
   "id": "b860158a",
   "metadata": {},
   "outputs": [],
   "source": [
    "%matplotlib inline"
   ]
  },
  {
   "cell_type": "code",
   "execution_count": 3,
   "id": "818c55e6",
   "metadata": {
    "scrolled": true
   },
   "outputs": [
    {
     "data": {
      "text/plain": [
       "'1.4.2'"
      ]
     },
     "execution_count": 3,
     "metadata": {},
     "output_type": "execute_result"
    }
   ],
   "source": [
    "pd.__version__"
   ]
  },
  {
   "cell_type": "markdown",
   "id": "80577547",
   "metadata": {},
   "source": [
    "### Solar Dataset"
   ]
  },
  {
   "cell_type": "code",
   "execution_count": 4,
   "id": "ca87cddf",
   "metadata": {
    "scrolled": true
   },
   "outputs": [
    {
     "data": {
      "text/html": [
       "<div>\n",
       "<style scoped>\n",
       "    .dataframe tbody tr th:only-of-type {\n",
       "        vertical-align: middle;\n",
       "    }\n",
       "\n",
       "    .dataframe tbody tr th {\n",
       "        vertical-align: top;\n",
       "    }\n",
       "\n",
       "    .dataframe thead th {\n",
       "        text-align: right;\n",
       "    }\n",
       "</style>\n",
       "<table border=\"1\" class=\"dataframe\">\n",
       "  <thead>\n",
       "    <tr style=\"text-align: right;\">\n",
       "      <th></th>\n",
       "      <th>Customer</th>\n",
       "      <th>Generator Capacity</th>\n",
       "      <th>Postcode</th>\n",
       "      <th>Consumption Category</th>\n",
       "      <th>date</th>\n",
       "      <th>0:30</th>\n",
       "      <th>1:00</th>\n",
       "      <th>1:30</th>\n",
       "      <th>2:00</th>\n",
       "      <th>2:30</th>\n",
       "      <th>...</th>\n",
       "      <th>20:00</th>\n",
       "      <th>20:30</th>\n",
       "      <th>21:00</th>\n",
       "      <th>21:30</th>\n",
       "      <th>22:00</th>\n",
       "      <th>22:30</th>\n",
       "      <th>23:00</th>\n",
       "      <th>23:30</th>\n",
       "      <th>0:00</th>\n",
       "      <th>Row Quality</th>\n",
       "    </tr>\n",
       "  </thead>\n",
       "  <tbody>\n",
       "    <tr>\n",
       "      <th>0</th>\n",
       "      <td>1</td>\n",
       "      <td>3.78</td>\n",
       "      <td>2076</td>\n",
       "      <td>GC</td>\n",
       "      <td>2010-07-01</td>\n",
       "      <td>0.303</td>\n",
       "      <td>0.471</td>\n",
       "      <td>0.083</td>\n",
       "      <td>0.121</td>\n",
       "      <td>0.361</td>\n",
       "      <td>...</td>\n",
       "      <td>0.54</td>\n",
       "      <td>0.406</td>\n",
       "      <td>0.543</td>\n",
       "      <td>0.495</td>\n",
       "      <td>0.216</td>\n",
       "      <td>0.378</td>\n",
       "      <td>0.128</td>\n",
       "      <td>0.078</td>\n",
       "      <td>0.125</td>\n",
       "      <td></td>\n",
       "    </tr>\n",
       "    <tr>\n",
       "      <th>1</th>\n",
       "      <td>1</td>\n",
       "      <td>3.78</td>\n",
       "      <td>2076</td>\n",
       "      <td>CL</td>\n",
       "      <td>2010-07-01</td>\n",
       "      <td>1.250</td>\n",
       "      <td>1.244</td>\n",
       "      <td>1.256</td>\n",
       "      <td>0.744</td>\n",
       "      <td>0.019</td>\n",
       "      <td>...</td>\n",
       "      <td>0.00</td>\n",
       "      <td>0.000</td>\n",
       "      <td>0.000</td>\n",
       "      <td>0.000</td>\n",
       "      <td>0.000</td>\n",
       "      <td>0.000</td>\n",
       "      <td>0.000</td>\n",
       "      <td>0.000</td>\n",
       "      <td>1.075</td>\n",
       "      <td></td>\n",
       "    </tr>\n",
       "    <tr>\n",
       "      <th>2</th>\n",
       "      <td>1</td>\n",
       "      <td>3.78</td>\n",
       "      <td>2076</td>\n",
       "      <td>GG</td>\n",
       "      <td>2010-07-01</td>\n",
       "      <td>0.000</td>\n",
       "      <td>0.000</td>\n",
       "      <td>0.000</td>\n",
       "      <td>0.000</td>\n",
       "      <td>0.000</td>\n",
       "      <td>...</td>\n",
       "      <td>0.00</td>\n",
       "      <td>0.000</td>\n",
       "      <td>0.000</td>\n",
       "      <td>0.000</td>\n",
       "      <td>0.000</td>\n",
       "      <td>0.000</td>\n",
       "      <td>0.000</td>\n",
       "      <td>0.000</td>\n",
       "      <td>0.000</td>\n",
       "      <td></td>\n",
       "    </tr>\n",
       "    <tr>\n",
       "      <th>3</th>\n",
       "      <td>1</td>\n",
       "      <td>3.78</td>\n",
       "      <td>2076</td>\n",
       "      <td>GC</td>\n",
       "      <td>2010-07-02</td>\n",
       "      <td>0.116</td>\n",
       "      <td>0.346</td>\n",
       "      <td>0.122</td>\n",
       "      <td>0.079</td>\n",
       "      <td>0.120</td>\n",
       "      <td>...</td>\n",
       "      <td>1.10</td>\n",
       "      <td>1.012</td>\n",
       "      <td>0.817</td>\n",
       "      <td>0.526</td>\n",
       "      <td>0.335</td>\n",
       "      <td>0.402</td>\n",
       "      <td>0.142</td>\n",
       "      <td>0.120</td>\n",
       "      <td>0.111</td>\n",
       "      <td></td>\n",
       "    </tr>\n",
       "    <tr>\n",
       "      <th>4</th>\n",
       "      <td>1</td>\n",
       "      <td>3.78</td>\n",
       "      <td>2076</td>\n",
       "      <td>CL</td>\n",
       "      <td>2010-07-02</td>\n",
       "      <td>1.238</td>\n",
       "      <td>1.238</td>\n",
       "      <td>1.256</td>\n",
       "      <td>1.250</td>\n",
       "      <td>0.169</td>\n",
       "      <td>...</td>\n",
       "      <td>0.00</td>\n",
       "      <td>0.000</td>\n",
       "      <td>0.000</td>\n",
       "      <td>0.000</td>\n",
       "      <td>0.000</td>\n",
       "      <td>0.000</td>\n",
       "      <td>0.000</td>\n",
       "      <td>0.000</td>\n",
       "      <td>1.088</td>\n",
       "      <td></td>\n",
       "    </tr>\n",
       "  </tbody>\n",
       "</table>\n",
       "<p>5 rows × 54 columns</p>\n",
       "</div>"
      ],
      "text/plain": [
       "   Customer  Generator Capacity  Postcode Consumption Category       date  \\\n",
       "0         1                3.78      2076                   GC 2010-07-01   \n",
       "1         1                3.78      2076                   CL 2010-07-01   \n",
       "2         1                3.78      2076                   GG 2010-07-01   \n",
       "3         1                3.78      2076                   GC 2010-07-02   \n",
       "4         1                3.78      2076                   CL 2010-07-02   \n",
       "\n",
       "    0:30   1:00   1:30   2:00   2:30  ...  20:00  20:30  21:00  21:30  22:00  \\\n",
       "0  0.303  0.471  0.083  0.121  0.361  ...   0.54  0.406  0.543  0.495  0.216   \n",
       "1  1.250  1.244  1.256  0.744  0.019  ...   0.00  0.000  0.000  0.000  0.000   \n",
       "2  0.000  0.000  0.000  0.000  0.000  ...   0.00  0.000  0.000  0.000  0.000   \n",
       "3  0.116  0.346  0.122  0.079  0.120  ...   1.10  1.012  0.817  0.526  0.335   \n",
       "4  1.238  1.238  1.256  1.250  0.169  ...   0.00  0.000  0.000  0.000  0.000   \n",
       "\n",
       "   22:30  23:00  23:30   0:00  Row Quality  \n",
       "0  0.378  0.128  0.078  0.125               \n",
       "1  0.000  0.000  0.000  1.075               \n",
       "2  0.000  0.000  0.000  0.000               \n",
       "3  0.402  0.142  0.120  0.111               \n",
       "4  0.000  0.000  0.000  1.088               \n",
       "\n",
       "[5 rows x 54 columns]"
      ]
     },
     "execution_count": 4,
     "metadata": {},
     "output_type": "execute_result"
    }
   ],
   "source": [
    "solar_df_10 = pd.read_csv('2010-2011/2010-2011 Solar home electricity data.csv', skiprows=1, parse_dates=['date'], dayfirst=True,\n",
    "                      na_filter=False, dtype={'Row Quality': str})\n",
    "solar_df_10.head()"
   ]
  },
  {
   "cell_type": "code",
   "execution_count": 5,
   "id": "631b64e4",
   "metadata": {},
   "outputs": [
    {
     "data": {
      "text/html": [
       "<div>\n",
       "<style scoped>\n",
       "    .dataframe tbody tr th:only-of-type {\n",
       "        vertical-align: middle;\n",
       "    }\n",
       "\n",
       "    .dataframe tbody tr th {\n",
       "        vertical-align: top;\n",
       "    }\n",
       "\n",
       "    .dataframe thead th {\n",
       "        text-align: right;\n",
       "    }\n",
       "</style>\n",
       "<table border=\"1\" class=\"dataframe\">\n",
       "  <thead>\n",
       "    <tr style=\"text-align: right;\">\n",
       "      <th></th>\n",
       "      <th>Customer</th>\n",
       "      <th>Generator Capacity</th>\n",
       "      <th>Postcode</th>\n",
       "      <th>Consumption Category</th>\n",
       "      <th>date</th>\n",
       "      <th>0:30</th>\n",
       "      <th>1:00</th>\n",
       "      <th>1:30</th>\n",
       "      <th>2:00</th>\n",
       "      <th>2:30</th>\n",
       "      <th>...</th>\n",
       "      <th>20:00</th>\n",
       "      <th>20:30</th>\n",
       "      <th>21:00</th>\n",
       "      <th>21:30</th>\n",
       "      <th>22:00</th>\n",
       "      <th>22:30</th>\n",
       "      <th>23:00</th>\n",
       "      <th>23:30</th>\n",
       "      <th>0:00</th>\n",
       "      <th>Row Quality</th>\n",
       "    </tr>\n",
       "  </thead>\n",
       "  <tbody>\n",
       "    <tr>\n",
       "      <th>0</th>\n",
       "      <td>1</td>\n",
       "      <td>3.78</td>\n",
       "      <td>2076</td>\n",
       "      <td>CL</td>\n",
       "      <td>2011-07-01</td>\n",
       "      <td>1.250</td>\n",
       "      <td>1.250</td>\n",
       "      <td>1.250</td>\n",
       "      <td>0.625</td>\n",
       "      <td>0.219</td>\n",
       "      <td>...</td>\n",
       "      <td>0.000</td>\n",
       "      <td>0.000</td>\n",
       "      <td>0.000</td>\n",
       "      <td>0.000</td>\n",
       "      <td>0.000</td>\n",
       "      <td>0.000</td>\n",
       "      <td>0.000</td>\n",
       "      <td>0.000</td>\n",
       "      <td>1.063</td>\n",
       "      <td></td>\n",
       "    </tr>\n",
       "    <tr>\n",
       "      <th>1</th>\n",
       "      <td>1</td>\n",
       "      <td>3.78</td>\n",
       "      <td>2076</td>\n",
       "      <td>GC</td>\n",
       "      <td>2011-07-01</td>\n",
       "      <td>1.077</td>\n",
       "      <td>0.669</td>\n",
       "      <td>0.674</td>\n",
       "      <td>0.615</td>\n",
       "      <td>0.321</td>\n",
       "      <td>...</td>\n",
       "      <td>0.276</td>\n",
       "      <td>0.241</td>\n",
       "      <td>0.168</td>\n",
       "      <td>0.234</td>\n",
       "      <td>0.164</td>\n",
       "      <td>0.639</td>\n",
       "      <td>0.118</td>\n",
       "      <td>0.219</td>\n",
       "      <td>0.162</td>\n",
       "      <td></td>\n",
       "    </tr>\n",
       "    <tr>\n",
       "      <th>2</th>\n",
       "      <td>1</td>\n",
       "      <td>3.78</td>\n",
       "      <td>2076</td>\n",
       "      <td>GG</td>\n",
       "      <td>2011-07-01</td>\n",
       "      <td>0.000</td>\n",
       "      <td>0.000</td>\n",
       "      <td>0.000</td>\n",
       "      <td>0.000</td>\n",
       "      <td>0.000</td>\n",
       "      <td>...</td>\n",
       "      <td>0.000</td>\n",
       "      <td>0.000</td>\n",
       "      <td>0.000</td>\n",
       "      <td>0.000</td>\n",
       "      <td>0.000</td>\n",
       "      <td>0.000</td>\n",
       "      <td>0.000</td>\n",
       "      <td>0.000</td>\n",
       "      <td>0.000</td>\n",
       "      <td></td>\n",
       "    </tr>\n",
       "    <tr>\n",
       "      <th>3</th>\n",
       "      <td>1</td>\n",
       "      <td>3.78</td>\n",
       "      <td>2076</td>\n",
       "      <td>CL</td>\n",
       "      <td>2011-07-02</td>\n",
       "      <td>1.238</td>\n",
       "      <td>1.244</td>\n",
       "      <td>1.194</td>\n",
       "      <td>0.000</td>\n",
       "      <td>0.888</td>\n",
       "      <td>...</td>\n",
       "      <td>0.000</td>\n",
       "      <td>0.000</td>\n",
       "      <td>0.000</td>\n",
       "      <td>0.000</td>\n",
       "      <td>0.000</td>\n",
       "      <td>0.000</td>\n",
       "      <td>0.000</td>\n",
       "      <td>0.000</td>\n",
       "      <td>1.075</td>\n",
       "      <td></td>\n",
       "    </tr>\n",
       "    <tr>\n",
       "      <th>4</th>\n",
       "      <td>1</td>\n",
       "      <td>3.78</td>\n",
       "      <td>2076</td>\n",
       "      <td>GC</td>\n",
       "      <td>2011-07-02</td>\n",
       "      <td>0.476</td>\n",
       "      <td>0.130</td>\n",
       "      <td>0.044</td>\n",
       "      <td>0.094</td>\n",
       "      <td>0.032</td>\n",
       "      <td>...</td>\n",
       "      <td>0.234</td>\n",
       "      <td>0.306</td>\n",
       "      <td>0.183</td>\n",
       "      <td>0.240</td>\n",
       "      <td>0.170</td>\n",
       "      <td>0.506</td>\n",
       "      <td>0.224</td>\n",
       "      <td>0.088</td>\n",
       "      <td>0.084</td>\n",
       "      <td></td>\n",
       "    </tr>\n",
       "  </tbody>\n",
       "</table>\n",
       "<p>5 rows × 54 columns</p>\n",
       "</div>"
      ],
      "text/plain": [
       "   Customer  Generator Capacity  Postcode Consumption Category       date  \\\n",
       "0         1                3.78      2076                   CL 2011-07-01   \n",
       "1         1                3.78      2076                   GC 2011-07-01   \n",
       "2         1                3.78      2076                   GG 2011-07-01   \n",
       "3         1                3.78      2076                   CL 2011-07-02   \n",
       "4         1                3.78      2076                   GC 2011-07-02   \n",
       "\n",
       "    0:30   1:00   1:30   2:00   2:30  ...  20:00  20:30  21:00  21:30  22:00  \\\n",
       "0  1.250  1.250  1.250  0.625  0.219  ...  0.000  0.000  0.000  0.000  0.000   \n",
       "1  1.077  0.669  0.674  0.615  0.321  ...  0.276  0.241  0.168  0.234  0.164   \n",
       "2  0.000  0.000  0.000  0.000  0.000  ...  0.000  0.000  0.000  0.000  0.000   \n",
       "3  1.238  1.244  1.194  0.000  0.888  ...  0.000  0.000  0.000  0.000  0.000   \n",
       "4  0.476  0.130  0.044  0.094  0.032  ...  0.234  0.306  0.183  0.240  0.170   \n",
       "\n",
       "   22:30  23:00  23:30   0:00  Row Quality  \n",
       "0  0.000  0.000  0.000  1.063               \n",
       "1  0.639  0.118  0.219  0.162               \n",
       "2  0.000  0.000  0.000  0.000               \n",
       "3  0.000  0.000  0.000  1.075               \n",
       "4  0.506  0.224  0.088  0.084               \n",
       "\n",
       "[5 rows x 54 columns]"
      ]
     },
     "execution_count": 5,
     "metadata": {},
     "output_type": "execute_result"
    }
   ],
   "source": [
    "solar_df_11 = pd.read_csv('2011-2012/2011-2012 Solar home electricity data.csv', skiprows=1, parse_dates=['date'], dayfirst=True,\n",
    "                      na_filter=False, dtype={'Row Quality': str})\n",
    "solar_df_11.head()"
   ]
  },
  {
   "cell_type": "code",
   "execution_count": 6,
   "id": "0f383022",
   "metadata": {},
   "outputs": [
    {
     "data": {
      "text/html": [
       "<div>\n",
       "<style scoped>\n",
       "    .dataframe tbody tr th:only-of-type {\n",
       "        vertical-align: middle;\n",
       "    }\n",
       "\n",
       "    .dataframe tbody tr th {\n",
       "        vertical-align: top;\n",
       "    }\n",
       "\n",
       "    .dataframe thead th {\n",
       "        text-align: right;\n",
       "    }\n",
       "</style>\n",
       "<table border=\"1\" class=\"dataframe\">\n",
       "  <thead>\n",
       "    <tr style=\"text-align: right;\">\n",
       "      <th></th>\n",
       "      <th>Customer</th>\n",
       "      <th>Generator Capacity</th>\n",
       "      <th>Postcode</th>\n",
       "      <th>Consumption Category</th>\n",
       "      <th>date</th>\n",
       "      <th>0:30</th>\n",
       "      <th>1:00</th>\n",
       "      <th>1:30</th>\n",
       "      <th>2:00</th>\n",
       "      <th>2:30</th>\n",
       "      <th>...</th>\n",
       "      <th>20:00</th>\n",
       "      <th>20:30</th>\n",
       "      <th>21:00</th>\n",
       "      <th>21:30</th>\n",
       "      <th>22:00</th>\n",
       "      <th>22:30</th>\n",
       "      <th>23:00</th>\n",
       "      <th>23:30</th>\n",
       "      <th>0:00</th>\n",
       "      <th>Row Quality</th>\n",
       "    </tr>\n",
       "  </thead>\n",
       "  <tbody>\n",
       "    <tr>\n",
       "      <th>0</th>\n",
       "      <td>1</td>\n",
       "      <td>3.78</td>\n",
       "      <td>2076</td>\n",
       "      <td>CL</td>\n",
       "      <td>2012-07-01</td>\n",
       "      <td>1.250</td>\n",
       "      <td>1.250</td>\n",
       "      <td>1.250</td>\n",
       "      <td>1.263</td>\n",
       "      <td>0.131</td>\n",
       "      <td>...</td>\n",
       "      <td>0.000</td>\n",
       "      <td>0.000</td>\n",
       "      <td>0.000</td>\n",
       "      <td>0.000</td>\n",
       "      <td>0.000</td>\n",
       "      <td>0.000</td>\n",
       "      <td>0.000</td>\n",
       "      <td>0.000</td>\n",
       "      <td>1.081</td>\n",
       "      <td></td>\n",
       "    </tr>\n",
       "    <tr>\n",
       "      <th>1</th>\n",
       "      <td>1</td>\n",
       "      <td>3.78</td>\n",
       "      <td>2076</td>\n",
       "      <td>GC</td>\n",
       "      <td>2012-07-01</td>\n",
       "      <td>0.855</td>\n",
       "      <td>0.786</td>\n",
       "      <td>0.604</td>\n",
       "      <td>0.544</td>\n",
       "      <td>0.597</td>\n",
       "      <td>...</td>\n",
       "      <td>0.374</td>\n",
       "      <td>0.447</td>\n",
       "      <td>0.549</td>\n",
       "      <td>0.136</td>\n",
       "      <td>0.288</td>\n",
       "      <td>0.181</td>\n",
       "      <td>0.651</td>\n",
       "      <td>0.090</td>\n",
       "      <td>0.068</td>\n",
       "      <td></td>\n",
       "    </tr>\n",
       "    <tr>\n",
       "      <th>2</th>\n",
       "      <td>1</td>\n",
       "      <td>3.78</td>\n",
       "      <td>2076</td>\n",
       "      <td>GG</td>\n",
       "      <td>2012-07-01</td>\n",
       "      <td>0.000</td>\n",
       "      <td>0.000</td>\n",
       "      <td>0.000</td>\n",
       "      <td>0.000</td>\n",
       "      <td>0.000</td>\n",
       "      <td>...</td>\n",
       "      <td>0.000</td>\n",
       "      <td>0.000</td>\n",
       "      <td>0.000</td>\n",
       "      <td>0.000</td>\n",
       "      <td>0.000</td>\n",
       "      <td>0.000</td>\n",
       "      <td>0.000</td>\n",
       "      <td>0.000</td>\n",
       "      <td>0.000</td>\n",
       "      <td></td>\n",
       "    </tr>\n",
       "    <tr>\n",
       "      <th>3</th>\n",
       "      <td>1</td>\n",
       "      <td>3.78</td>\n",
       "      <td>2076</td>\n",
       "      <td>CL</td>\n",
       "      <td>2012-07-02</td>\n",
       "      <td>1.250</td>\n",
       "      <td>1.250</td>\n",
       "      <td>1.125</td>\n",
       "      <td>0.000</td>\n",
       "      <td>0.925</td>\n",
       "      <td>...</td>\n",
       "      <td>0.000</td>\n",
       "      <td>0.000</td>\n",
       "      <td>0.000</td>\n",
       "      <td>0.000</td>\n",
       "      <td>0.000</td>\n",
       "      <td>0.000</td>\n",
       "      <td>0.000</td>\n",
       "      <td>0.000</td>\n",
       "      <td>1.069</td>\n",
       "      <td></td>\n",
       "    </tr>\n",
       "    <tr>\n",
       "      <th>4</th>\n",
       "      <td>1</td>\n",
       "      <td>3.78</td>\n",
       "      <td>2076</td>\n",
       "      <td>GC</td>\n",
       "      <td>2012-07-02</td>\n",
       "      <td>0.309</td>\n",
       "      <td>0.082</td>\n",
       "      <td>0.059</td>\n",
       "      <td>0.097</td>\n",
       "      <td>0.290</td>\n",
       "      <td>...</td>\n",
       "      <td>0.353</td>\n",
       "      <td>0.464</td>\n",
       "      <td>0.229</td>\n",
       "      <td>0.811</td>\n",
       "      <td>0.222</td>\n",
       "      <td>0.306</td>\n",
       "      <td>1.034</td>\n",
       "      <td>0.136</td>\n",
       "      <td>0.067</td>\n",
       "      <td></td>\n",
       "    </tr>\n",
       "  </tbody>\n",
       "</table>\n",
       "<p>5 rows × 54 columns</p>\n",
       "</div>"
      ],
      "text/plain": [
       "   Customer  Generator Capacity  Postcode Consumption Category       date  \\\n",
       "0         1                3.78      2076                   CL 2012-07-01   \n",
       "1         1                3.78      2076                   GC 2012-07-01   \n",
       "2         1                3.78      2076                   GG 2012-07-01   \n",
       "3         1                3.78      2076                   CL 2012-07-02   \n",
       "4         1                3.78      2076                   GC 2012-07-02   \n",
       "\n",
       "    0:30   1:00   1:30   2:00   2:30  ...  20:00  20:30  21:00  21:30  22:00  \\\n",
       "0  1.250  1.250  1.250  1.263  0.131  ...  0.000  0.000  0.000  0.000  0.000   \n",
       "1  0.855  0.786  0.604  0.544  0.597  ...  0.374  0.447  0.549  0.136  0.288   \n",
       "2  0.000  0.000  0.000  0.000  0.000  ...  0.000  0.000  0.000  0.000  0.000   \n",
       "3  1.250  1.250  1.125  0.000  0.925  ...  0.000  0.000  0.000  0.000  0.000   \n",
       "4  0.309  0.082  0.059  0.097  0.290  ...  0.353  0.464  0.229  0.811  0.222   \n",
       "\n",
       "   22:30  23:00  23:30   0:00  Row Quality  \n",
       "0  0.000  0.000  0.000  1.081               \n",
       "1  0.181  0.651  0.090  0.068               \n",
       "2  0.000  0.000  0.000  0.000               \n",
       "3  0.000  0.000  0.000  1.069               \n",
       "4  0.306  1.034  0.136  0.067               \n",
       "\n",
       "[5 rows x 54 columns]"
      ]
     },
     "execution_count": 6,
     "metadata": {},
     "output_type": "execute_result"
    }
   ],
   "source": [
    "solar_df_12 = pd.read_csv('2012-2013/2012-2013 Solar home electricity data.csv', skiprows=1, parse_dates=['date'], dayfirst=True,\n",
    "                      na_filter=False, dtype={'Row Quality': str})\n",
    "solar_df_12.head()"
   ]
  },
  {
   "cell_type": "code",
   "execution_count": 7,
   "id": "905bdb1e",
   "metadata": {},
   "outputs": [
    {
     "data": {
      "text/html": [
       "<div>\n",
       "<style scoped>\n",
       "    .dataframe tbody tr th:only-of-type {\n",
       "        vertical-align: middle;\n",
       "    }\n",
       "\n",
       "    .dataframe tbody tr th {\n",
       "        vertical-align: top;\n",
       "    }\n",
       "\n",
       "    .dataframe thead th {\n",
       "        text-align: right;\n",
       "    }\n",
       "</style>\n",
       "<table border=\"1\" class=\"dataframe\">\n",
       "  <thead>\n",
       "    <tr style=\"text-align: right;\">\n",
       "      <th></th>\n",
       "      <th>Customer</th>\n",
       "      <th>Generator Capacity</th>\n",
       "      <th>Postcode</th>\n",
       "      <th>Consumption Category</th>\n",
       "      <th>date</th>\n",
       "      <th>0:30</th>\n",
       "      <th>1:00</th>\n",
       "      <th>1:30</th>\n",
       "      <th>2:00</th>\n",
       "      <th>2:30</th>\n",
       "      <th>...</th>\n",
       "      <th>20:00</th>\n",
       "      <th>20:30</th>\n",
       "      <th>21:00</th>\n",
       "      <th>21:30</th>\n",
       "      <th>22:00</th>\n",
       "      <th>22:30</th>\n",
       "      <th>23:00</th>\n",
       "      <th>23:30</th>\n",
       "      <th>0:00</th>\n",
       "      <th>Row Quality</th>\n",
       "    </tr>\n",
       "  </thead>\n",
       "  <tbody>\n",
       "    <tr>\n",
       "      <th>269730</th>\n",
       "      <td>300</td>\n",
       "      <td>3.36</td>\n",
       "      <td>2086</td>\n",
       "      <td>CL</td>\n",
       "      <td>2011-06-29</td>\n",
       "      <td>2.136</td>\n",
       "      <td>0.000</td>\n",
       "      <td>0.000</td>\n",
       "      <td>0.000</td>\n",
       "      <td>0.000</td>\n",
       "      <td>...</td>\n",
       "      <td>0.000</td>\n",
       "      <td>0.000</td>\n",
       "      <td>0.000</td>\n",
       "      <td>0.000</td>\n",
       "      <td>0.000</td>\n",
       "      <td>0.00</td>\n",
       "      <td>0.000</td>\n",
       "      <td>0.000</td>\n",
       "      <td>2.490</td>\n",
       "      <td></td>\n",
       "    </tr>\n",
       "    <tr>\n",
       "      <th>269731</th>\n",
       "      <td>300</td>\n",
       "      <td>3.36</td>\n",
       "      <td>2086</td>\n",
       "      <td>GG</td>\n",
       "      <td>2011-06-29</td>\n",
       "      <td>0.000</td>\n",
       "      <td>0.000</td>\n",
       "      <td>0.000</td>\n",
       "      <td>0.000</td>\n",
       "      <td>0.000</td>\n",
       "      <td>...</td>\n",
       "      <td>0.000</td>\n",
       "      <td>0.000</td>\n",
       "      <td>0.000</td>\n",
       "      <td>0.000</td>\n",
       "      <td>0.000</td>\n",
       "      <td>0.00</td>\n",
       "      <td>0.000</td>\n",
       "      <td>0.000</td>\n",
       "      <td>0.000</td>\n",
       "      <td></td>\n",
       "    </tr>\n",
       "    <tr>\n",
       "      <th>269732</th>\n",
       "      <td>300</td>\n",
       "      <td>3.36</td>\n",
       "      <td>2086</td>\n",
       "      <td>GC</td>\n",
       "      <td>2011-06-30</td>\n",
       "      <td>1.306</td>\n",
       "      <td>0.851</td>\n",
       "      <td>0.113</td>\n",
       "      <td>0.151</td>\n",
       "      <td>0.104</td>\n",
       "      <td>...</td>\n",
       "      <td>0.917</td>\n",
       "      <td>0.872</td>\n",
       "      <td>0.832</td>\n",
       "      <td>0.863</td>\n",
       "      <td>0.789</td>\n",
       "      <td>0.28</td>\n",
       "      <td>0.224</td>\n",
       "      <td>0.259</td>\n",
       "      <td>0.774</td>\n",
       "      <td></td>\n",
       "    </tr>\n",
       "    <tr>\n",
       "      <th>269733</th>\n",
       "      <td>300</td>\n",
       "      <td>3.36</td>\n",
       "      <td>2086</td>\n",
       "      <td>CL</td>\n",
       "      <td>2011-06-30</td>\n",
       "      <td>0.904</td>\n",
       "      <td>0.000</td>\n",
       "      <td>0.000</td>\n",
       "      <td>0.000</td>\n",
       "      <td>0.000</td>\n",
       "      <td>...</td>\n",
       "      <td>0.000</td>\n",
       "      <td>0.000</td>\n",
       "      <td>0.000</td>\n",
       "      <td>0.000</td>\n",
       "      <td>0.000</td>\n",
       "      <td>0.00</td>\n",
       "      <td>0.000</td>\n",
       "      <td>0.000</td>\n",
       "      <td>2.528</td>\n",
       "      <td></td>\n",
       "    </tr>\n",
       "    <tr>\n",
       "      <th>269734</th>\n",
       "      <td>300</td>\n",
       "      <td>3.36</td>\n",
       "      <td>2086</td>\n",
       "      <td>GG</td>\n",
       "      <td>2011-06-30</td>\n",
       "      <td>0.000</td>\n",
       "      <td>0.000</td>\n",
       "      <td>0.000</td>\n",
       "      <td>0.000</td>\n",
       "      <td>0.000</td>\n",
       "      <td>...</td>\n",
       "      <td>0.000</td>\n",
       "      <td>0.000</td>\n",
       "      <td>0.000</td>\n",
       "      <td>0.000</td>\n",
       "      <td>0.000</td>\n",
       "      <td>0.00</td>\n",
       "      <td>0.000</td>\n",
       "      <td>0.000</td>\n",
       "      <td>0.000</td>\n",
       "      <td></td>\n",
       "    </tr>\n",
       "  </tbody>\n",
       "</table>\n",
       "<p>5 rows × 54 columns</p>\n",
       "</div>"
      ],
      "text/plain": [
       "        Customer  Generator Capacity  Postcode Consumption Category  \\\n",
       "269730       300                3.36      2086                   CL   \n",
       "269731       300                3.36      2086                   GG   \n",
       "269732       300                3.36      2086                   GC   \n",
       "269733       300                3.36      2086                   CL   \n",
       "269734       300                3.36      2086                   GG   \n",
       "\n",
       "             date   0:30   1:00   1:30   2:00   2:30  ...  20:00  20:30  \\\n",
       "269730 2011-06-29  2.136  0.000  0.000  0.000  0.000  ...  0.000  0.000   \n",
       "269731 2011-06-29  0.000  0.000  0.000  0.000  0.000  ...  0.000  0.000   \n",
       "269732 2011-06-30  1.306  0.851  0.113  0.151  0.104  ...  0.917  0.872   \n",
       "269733 2011-06-30  0.904  0.000  0.000  0.000  0.000  ...  0.000  0.000   \n",
       "269734 2011-06-30  0.000  0.000  0.000  0.000  0.000  ...  0.000  0.000   \n",
       "\n",
       "        21:00  21:30  22:00  22:30  23:00  23:30   0:00  Row Quality  \n",
       "269730  0.000  0.000  0.000   0.00  0.000  0.000  2.490               \n",
       "269731  0.000  0.000  0.000   0.00  0.000  0.000  0.000               \n",
       "269732  0.832  0.863  0.789   0.28  0.224  0.259  0.774               \n",
       "269733  0.000  0.000  0.000   0.00  0.000  0.000  2.528               \n",
       "269734  0.000  0.000  0.000   0.00  0.000  0.000  0.000               \n",
       "\n",
       "[5 rows x 54 columns]"
      ]
     },
     "execution_count": 7,
     "metadata": {},
     "output_type": "execute_result"
    }
   ],
   "source": [
    "solar_df_10.tail()"
   ]
  },
  {
   "cell_type": "code",
   "execution_count": 8,
   "id": "66fbc42a",
   "metadata": {},
   "outputs": [
    {
     "data": {
      "text/html": [
       "<div>\n",
       "<style scoped>\n",
       "    .dataframe tbody tr th:only-of-type {\n",
       "        vertical-align: middle;\n",
       "    }\n",
       "\n",
       "    .dataframe tbody tr th {\n",
       "        vertical-align: top;\n",
       "    }\n",
       "\n",
       "    .dataframe thead th {\n",
       "        text-align: right;\n",
       "    }\n",
       "</style>\n",
       "<table border=\"1\" class=\"dataframe\">\n",
       "  <thead>\n",
       "    <tr style=\"text-align: right;\">\n",
       "      <th></th>\n",
       "      <th>Customer</th>\n",
       "      <th>Generator Capacity</th>\n",
       "      <th>Postcode</th>\n",
       "      <th>Consumption Category</th>\n",
       "      <th>date</th>\n",
       "      <th>0:30</th>\n",
       "      <th>1:00</th>\n",
       "      <th>1:30</th>\n",
       "      <th>2:00</th>\n",
       "      <th>2:30</th>\n",
       "      <th>...</th>\n",
       "      <th>20:00</th>\n",
       "      <th>20:30</th>\n",
       "      <th>21:00</th>\n",
       "      <th>21:30</th>\n",
       "      <th>22:00</th>\n",
       "      <th>22:30</th>\n",
       "      <th>23:00</th>\n",
       "      <th>23:30</th>\n",
       "      <th>0:00</th>\n",
       "      <th>Row Quality</th>\n",
       "    </tr>\n",
       "  </thead>\n",
       "  <tbody>\n",
       "    <tr>\n",
       "      <th>270299</th>\n",
       "      <td>300</td>\n",
       "      <td>3.36</td>\n",
       "      <td>2086</td>\n",
       "      <td>GC</td>\n",
       "      <td>2012-06-29</td>\n",
       "      <td>0.082</td>\n",
       "      <td>0.129</td>\n",
       "      <td>0.084</td>\n",
       "      <td>0.123</td>\n",
       "      <td>0.091</td>\n",
       "      <td>...</td>\n",
       "      <td>0.496</td>\n",
       "      <td>0.387</td>\n",
       "      <td>0.357</td>\n",
       "      <td>0.387</td>\n",
       "      <td>0.408</td>\n",
       "      <td>0.527</td>\n",
       "      <td>0.517</td>\n",
       "      <td>0.393</td>\n",
       "      <td>0.226</td>\n",
       "      <td></td>\n",
       "    </tr>\n",
       "    <tr>\n",
       "      <th>270300</th>\n",
       "      <td>300</td>\n",
       "      <td>3.36</td>\n",
       "      <td>2086</td>\n",
       "      <td>GG</td>\n",
       "      <td>2012-06-29</td>\n",
       "      <td>0.000</td>\n",
       "      <td>0.000</td>\n",
       "      <td>0.000</td>\n",
       "      <td>0.000</td>\n",
       "      <td>0.000</td>\n",
       "      <td>...</td>\n",
       "      <td>0.000</td>\n",
       "      <td>0.000</td>\n",
       "      <td>0.000</td>\n",
       "      <td>0.000</td>\n",
       "      <td>0.000</td>\n",
       "      <td>0.000</td>\n",
       "      <td>0.000</td>\n",
       "      <td>0.000</td>\n",
       "      <td>0.000</td>\n",
       "      <td></td>\n",
       "    </tr>\n",
       "    <tr>\n",
       "      <th>270301</th>\n",
       "      <td>300</td>\n",
       "      <td>3.36</td>\n",
       "      <td>2086</td>\n",
       "      <td>CL</td>\n",
       "      <td>2012-06-30</td>\n",
       "      <td>2.110</td>\n",
       "      <td>0.000</td>\n",
       "      <td>0.000</td>\n",
       "      <td>0.000</td>\n",
       "      <td>0.000</td>\n",
       "      <td>...</td>\n",
       "      <td>0.000</td>\n",
       "      <td>0.000</td>\n",
       "      <td>0.000</td>\n",
       "      <td>0.000</td>\n",
       "      <td>0.000</td>\n",
       "      <td>0.000</td>\n",
       "      <td>0.000</td>\n",
       "      <td>0.000</td>\n",
       "      <td>2.621</td>\n",
       "      <td></td>\n",
       "    </tr>\n",
       "    <tr>\n",
       "      <th>270302</th>\n",
       "      <td>300</td>\n",
       "      <td>3.36</td>\n",
       "      <td>2086</td>\n",
       "      <td>GC</td>\n",
       "      <td>2012-06-30</td>\n",
       "      <td>0.247</td>\n",
       "      <td>0.193</td>\n",
       "      <td>0.109</td>\n",
       "      <td>0.115</td>\n",
       "      <td>0.096</td>\n",
       "      <td>...</td>\n",
       "      <td>1.526</td>\n",
       "      <td>0.799</td>\n",
       "      <td>0.822</td>\n",
       "      <td>0.244</td>\n",
       "      <td>0.200</td>\n",
       "      <td>0.204</td>\n",
       "      <td>0.131</td>\n",
       "      <td>0.358</td>\n",
       "      <td>0.235</td>\n",
       "      <td></td>\n",
       "    </tr>\n",
       "    <tr>\n",
       "      <th>270303</th>\n",
       "      <td>300</td>\n",
       "      <td>3.36</td>\n",
       "      <td>2086</td>\n",
       "      <td>GG</td>\n",
       "      <td>2012-06-30</td>\n",
       "      <td>0.000</td>\n",
       "      <td>0.000</td>\n",
       "      <td>0.000</td>\n",
       "      <td>0.000</td>\n",
       "      <td>0.000</td>\n",
       "      <td>...</td>\n",
       "      <td>0.000</td>\n",
       "      <td>0.000</td>\n",
       "      <td>0.000</td>\n",
       "      <td>0.000</td>\n",
       "      <td>0.000</td>\n",
       "      <td>0.000</td>\n",
       "      <td>0.000</td>\n",
       "      <td>0.000</td>\n",
       "      <td>0.000</td>\n",
       "      <td></td>\n",
       "    </tr>\n",
       "  </tbody>\n",
       "</table>\n",
       "<p>5 rows × 54 columns</p>\n",
       "</div>"
      ],
      "text/plain": [
       "        Customer  Generator Capacity  Postcode Consumption Category  \\\n",
       "270299       300                3.36      2086                   GC   \n",
       "270300       300                3.36      2086                   GG   \n",
       "270301       300                3.36      2086                   CL   \n",
       "270302       300                3.36      2086                   GC   \n",
       "270303       300                3.36      2086                   GG   \n",
       "\n",
       "             date   0:30   1:00   1:30   2:00   2:30  ...  20:00  20:30  \\\n",
       "270299 2012-06-29  0.082  0.129  0.084  0.123  0.091  ...  0.496  0.387   \n",
       "270300 2012-06-29  0.000  0.000  0.000  0.000  0.000  ...  0.000  0.000   \n",
       "270301 2012-06-30  2.110  0.000  0.000  0.000  0.000  ...  0.000  0.000   \n",
       "270302 2012-06-30  0.247  0.193  0.109  0.115  0.096  ...  1.526  0.799   \n",
       "270303 2012-06-30  0.000  0.000  0.000  0.000  0.000  ...  0.000  0.000   \n",
       "\n",
       "        21:00  21:30  22:00  22:30  23:00  23:30   0:00  Row Quality  \n",
       "270299  0.357  0.387  0.408  0.527  0.517  0.393  0.226               \n",
       "270300  0.000  0.000  0.000  0.000  0.000  0.000  0.000               \n",
       "270301  0.000  0.000  0.000  0.000  0.000  0.000  2.621               \n",
       "270302  0.822  0.244  0.200  0.204  0.131  0.358  0.235               \n",
       "270303  0.000  0.000  0.000  0.000  0.000  0.000  0.000               \n",
       "\n",
       "[5 rows x 54 columns]"
      ]
     },
     "execution_count": 8,
     "metadata": {},
     "output_type": "execute_result"
    }
   ],
   "source": [
    "solar_df_11.tail()"
   ]
  },
  {
   "cell_type": "code",
   "execution_count": 9,
   "id": "08df185a",
   "metadata": {},
   "outputs": [
    {
     "data": {
      "text/html": [
       "<div>\n",
       "<style scoped>\n",
       "    .dataframe tbody tr th:only-of-type {\n",
       "        vertical-align: middle;\n",
       "    }\n",
       "\n",
       "    .dataframe tbody tr th {\n",
       "        vertical-align: top;\n",
       "    }\n",
       "\n",
       "    .dataframe thead th {\n",
       "        text-align: right;\n",
       "    }\n",
       "</style>\n",
       "<table border=\"1\" class=\"dataframe\">\n",
       "  <thead>\n",
       "    <tr style=\"text-align: right;\">\n",
       "      <th></th>\n",
       "      <th>Customer</th>\n",
       "      <th>Generator Capacity</th>\n",
       "      <th>Postcode</th>\n",
       "      <th>Consumption Category</th>\n",
       "      <th>date</th>\n",
       "      <th>0:30</th>\n",
       "      <th>1:00</th>\n",
       "      <th>1:30</th>\n",
       "      <th>2:00</th>\n",
       "      <th>2:30</th>\n",
       "      <th>...</th>\n",
       "      <th>20:00</th>\n",
       "      <th>20:30</th>\n",
       "      <th>21:00</th>\n",
       "      <th>21:30</th>\n",
       "      <th>22:00</th>\n",
       "      <th>22:30</th>\n",
       "      <th>23:00</th>\n",
       "      <th>23:30</th>\n",
       "      <th>0:00</th>\n",
       "      <th>Row Quality</th>\n",
       "    </tr>\n",
       "  </thead>\n",
       "  <tbody>\n",
       "    <tr>\n",
       "      <th>268552</th>\n",
       "      <td>300</td>\n",
       "      <td>3.36</td>\n",
       "      <td>2086</td>\n",
       "      <td>GC</td>\n",
       "      <td>2013-06-29</td>\n",
       "      <td>0.171</td>\n",
       "      <td>0.832</td>\n",
       "      <td>0.440</td>\n",
       "      <td>0.745</td>\n",
       "      <td>0.149</td>\n",
       "      <td>...</td>\n",
       "      <td>0.383</td>\n",
       "      <td>0.404</td>\n",
       "      <td>0.367</td>\n",
       "      <td>0.398</td>\n",
       "      <td>0.350</td>\n",
       "      <td>0.228</td>\n",
       "      <td>0.170</td>\n",
       "      <td>0.139</td>\n",
       "      <td>0.171</td>\n",
       "      <td></td>\n",
       "    </tr>\n",
       "    <tr>\n",
       "      <th>268553</th>\n",
       "      <td>300</td>\n",
       "      <td>3.36</td>\n",
       "      <td>2086</td>\n",
       "      <td>GG</td>\n",
       "      <td>2013-06-29</td>\n",
       "      <td>0.000</td>\n",
       "      <td>0.000</td>\n",
       "      <td>0.000</td>\n",
       "      <td>0.000</td>\n",
       "      <td>0.000</td>\n",
       "      <td>...</td>\n",
       "      <td>0.000</td>\n",
       "      <td>0.000</td>\n",
       "      <td>0.000</td>\n",
       "      <td>0.000</td>\n",
       "      <td>0.000</td>\n",
       "      <td>0.000</td>\n",
       "      <td>0.000</td>\n",
       "      <td>0.000</td>\n",
       "      <td>0.000</td>\n",
       "      <td></td>\n",
       "    </tr>\n",
       "    <tr>\n",
       "      <th>268554</th>\n",
       "      <td>300</td>\n",
       "      <td>3.36</td>\n",
       "      <td>2086</td>\n",
       "      <td>CL</td>\n",
       "      <td>2013-06-30</td>\n",
       "      <td>2.501</td>\n",
       "      <td>2.475</td>\n",
       "      <td>2.491</td>\n",
       "      <td>2.508</td>\n",
       "      <td>2.490</td>\n",
       "      <td>...</td>\n",
       "      <td>0.000</td>\n",
       "      <td>0.000</td>\n",
       "      <td>0.000</td>\n",
       "      <td>0.000</td>\n",
       "      <td>0.000</td>\n",
       "      <td>0.000</td>\n",
       "      <td>0.000</td>\n",
       "      <td>0.000</td>\n",
       "      <td>2.468</td>\n",
       "      <td></td>\n",
       "    </tr>\n",
       "    <tr>\n",
       "      <th>268555</th>\n",
       "      <td>300</td>\n",
       "      <td>3.36</td>\n",
       "      <td>2086</td>\n",
       "      <td>GC</td>\n",
       "      <td>2013-06-30</td>\n",
       "      <td>0.150</td>\n",
       "      <td>0.158</td>\n",
       "      <td>0.157</td>\n",
       "      <td>0.137</td>\n",
       "      <td>0.163</td>\n",
       "      <td>...</td>\n",
       "      <td>0.625</td>\n",
       "      <td>0.595</td>\n",
       "      <td>0.695</td>\n",
       "      <td>0.646</td>\n",
       "      <td>0.581</td>\n",
       "      <td>0.458</td>\n",
       "      <td>0.472</td>\n",
       "      <td>0.732</td>\n",
       "      <td>0.297</td>\n",
       "      <td></td>\n",
       "    </tr>\n",
       "    <tr>\n",
       "      <th>268556</th>\n",
       "      <td>300</td>\n",
       "      <td>3.36</td>\n",
       "      <td>2086</td>\n",
       "      <td>GG</td>\n",
       "      <td>2013-06-30</td>\n",
       "      <td>0.000</td>\n",
       "      <td>0.000</td>\n",
       "      <td>0.000</td>\n",
       "      <td>0.000</td>\n",
       "      <td>0.000</td>\n",
       "      <td>...</td>\n",
       "      <td>0.000</td>\n",
       "      <td>0.000</td>\n",
       "      <td>0.000</td>\n",
       "      <td>0.000</td>\n",
       "      <td>0.000</td>\n",
       "      <td>0.000</td>\n",
       "      <td>0.000</td>\n",
       "      <td>0.000</td>\n",
       "      <td>0.000</td>\n",
       "      <td></td>\n",
       "    </tr>\n",
       "  </tbody>\n",
       "</table>\n",
       "<p>5 rows × 54 columns</p>\n",
       "</div>"
      ],
      "text/plain": [
       "        Customer  Generator Capacity  Postcode Consumption Category  \\\n",
       "268552       300                3.36      2086                   GC   \n",
       "268553       300                3.36      2086                   GG   \n",
       "268554       300                3.36      2086                   CL   \n",
       "268555       300                3.36      2086                   GC   \n",
       "268556       300                3.36      2086                   GG   \n",
       "\n",
       "             date   0:30   1:00   1:30   2:00   2:30  ...  20:00  20:30  \\\n",
       "268552 2013-06-29  0.171  0.832  0.440  0.745  0.149  ...  0.383  0.404   \n",
       "268553 2013-06-29  0.000  0.000  0.000  0.000  0.000  ...  0.000  0.000   \n",
       "268554 2013-06-30  2.501  2.475  2.491  2.508  2.490  ...  0.000  0.000   \n",
       "268555 2013-06-30  0.150  0.158  0.157  0.137  0.163  ...  0.625  0.595   \n",
       "268556 2013-06-30  0.000  0.000  0.000  0.000  0.000  ...  0.000  0.000   \n",
       "\n",
       "        21:00  21:30  22:00  22:30  23:00  23:30   0:00  Row Quality  \n",
       "268552  0.367  0.398  0.350  0.228  0.170  0.139  0.171               \n",
       "268553  0.000  0.000  0.000  0.000  0.000  0.000  0.000               \n",
       "268554  0.000  0.000  0.000  0.000  0.000  0.000  2.468               \n",
       "268555  0.695  0.646  0.581  0.458  0.472  0.732  0.297               \n",
       "268556  0.000  0.000  0.000  0.000  0.000  0.000  0.000               \n",
       "\n",
       "[5 rows x 54 columns]"
      ]
     },
     "execution_count": 9,
     "metadata": {},
     "output_type": "execute_result"
    }
   ],
   "source": [
    "solar_df_12.tail()"
   ]
  },
  {
   "cell_type": "code",
   "execution_count": 10,
   "id": "5ce958d3",
   "metadata": {},
   "outputs": [
    {
     "data": {
      "text/plain": [
       "100"
      ]
     },
     "execution_count": 10,
     "metadata": {},
     "output_type": "execute_result"
    }
   ],
   "source": [
    "len(solar_df_10.Postcode.unique())"
   ]
  },
  {
   "cell_type": "code",
   "execution_count": 11,
   "id": "ac4a9ddd",
   "metadata": {},
   "outputs": [
    {
     "data": {
      "text/plain": [
       "100"
      ]
     },
     "execution_count": 11,
     "metadata": {},
     "output_type": "execute_result"
    }
   ],
   "source": [
    "len(solar_df_11.Postcode.unique())"
   ]
  },
  {
   "cell_type": "code",
   "execution_count": 12,
   "id": "e8483f77",
   "metadata": {},
   "outputs": [
    {
     "data": {
      "text/plain": [
       "100"
      ]
     },
     "execution_count": 12,
     "metadata": {},
     "output_type": "execute_result"
    }
   ],
   "source": [
    "len(solar_df_12.Postcode.unique())"
   ]
  },
  {
   "cell_type": "code",
   "execution_count": 13,
   "id": "28ce0a39",
   "metadata": {},
   "outputs": [
    {
     "name": "stdout",
     "output_type": "stream",
     "text": [
      "[2008, 2010, 2018, 2021, 2025, 2026, 2029, 2031, 2034, 2037, 2039, 2041, 2044, 2046, 2047, 2048, 2066, 2074, 2076, 2077, 2079, 2081, 2082, 2084, 2085, 2086, 2087, 2088, 2092, 2093, 2096, 2099, 2100, 2111, 2119, 2120, 2126, 2134, 2135, 2137, 2154, 2159, 2162, 2190, 2196, 2198, 2200, 2203, 2204, 2205, 2207, 2208, 2209, 2211, 2216, 2218, 2219, 2220, 2224, 2227, 2228, 2229, 2230, 2231, 2233, 2250, 2251, 2259, 2260, 2261, 2262, 2263, 2264, 2265, 2278, 2280, 2281, 2282, 2283, 2284, 2285, 2286, 2289, 2290, 2291, 2292, 2293, 2294, 2295, 2296, 2300, 2303, 2305, 2315, 2320, 2321, 2324, 2325, 2326, 2330]\n"
     ]
    }
   ],
   "source": [
    "print(sorted(solar_df_10.Postcode.unique()))"
   ]
  },
  {
   "cell_type": "code",
   "execution_count": 14,
   "id": "4a82045c",
   "metadata": {},
   "outputs": [
    {
     "name": "stdout",
     "output_type": "stream",
     "text": [
      "[2008, 2010, 2018, 2021, 2025, 2026, 2029, 2031, 2034, 2037, 2039, 2041, 2044, 2046, 2047, 2048, 2066, 2074, 2076, 2077, 2079, 2081, 2082, 2084, 2085, 2086, 2087, 2088, 2092, 2093, 2096, 2099, 2100, 2111, 2119, 2120, 2126, 2134, 2135, 2137, 2154, 2159, 2162, 2190, 2196, 2198, 2200, 2203, 2204, 2205, 2207, 2208, 2209, 2211, 2216, 2218, 2219, 2220, 2224, 2227, 2228, 2229, 2230, 2231, 2233, 2250, 2251, 2259, 2260, 2261, 2262, 2263, 2264, 2265, 2278, 2280, 2281, 2282, 2283, 2284, 2285, 2286, 2289, 2290, 2291, 2292, 2293, 2294, 2295, 2296, 2300, 2303, 2305, 2315, 2320, 2321, 2324, 2325, 2326, 2330]\n"
     ]
    }
   ],
   "source": [
    "print(sorted(solar_df_11.Postcode.unique()))"
   ]
  },
  {
   "cell_type": "code",
   "execution_count": 15,
   "id": "5d6ccd8e",
   "metadata": {},
   "outputs": [
    {
     "name": "stdout",
     "output_type": "stream",
     "text": [
      "[2008, 2010, 2018, 2021, 2025, 2026, 2029, 2031, 2034, 2037, 2039, 2041, 2044, 2046, 2047, 2048, 2066, 2074, 2076, 2077, 2079, 2081, 2082, 2084, 2085, 2086, 2087, 2088, 2092, 2093, 2096, 2099, 2100, 2111, 2119, 2120, 2126, 2134, 2135, 2137, 2154, 2159, 2162, 2190, 2196, 2198, 2200, 2203, 2204, 2205, 2207, 2208, 2209, 2211, 2216, 2218, 2219, 2220, 2224, 2227, 2228, 2229, 2230, 2231, 2233, 2250, 2251, 2259, 2260, 2261, 2262, 2263, 2264, 2265, 2278, 2280, 2281, 2282, 2283, 2284, 2285, 2286, 2289, 2290, 2291, 2292, 2293, 2294, 2295, 2296, 2300, 2303, 2305, 2315, 2320, 2321, 2324, 2325, 2326, 2330]\n"
     ]
    }
   ],
   "source": [
    "print(sorted(solar_df_12.Postcode.unique()))"
   ]
  },
  {
   "cell_type": "code",
   "execution_count": 16,
   "id": "c05c404e",
   "metadata": {},
   "outputs": [
    {
     "data": {
      "text/plain": [
       "(Timestamp('2010-07-01 00:00:00'), Timestamp('2011-06-30 00:00:00'))"
      ]
     },
     "execution_count": 16,
     "metadata": {},
     "output_type": "execute_result"
    }
   ],
   "source": [
    "d0_10 = solar_df_10.date.min()\n",
    "d1_10 = solar_df_10.date.max()\n",
    "d0_10, d1_10"
   ]
  },
  {
   "cell_type": "code",
   "execution_count": 17,
   "id": "909d244b",
   "metadata": {},
   "outputs": [
    {
     "data": {
      "text/plain": [
       "(Timestamp('2011-07-01 00:00:00'), Timestamp('2012-06-30 00:00:00'))"
      ]
     },
     "execution_count": 17,
     "metadata": {},
     "output_type": "execute_result"
    }
   ],
   "source": [
    "d0_11 = solar_df_11.date.min()\n",
    "d1_11 = solar_df_11.date.max()\n",
    "d0_11, d1_11"
   ]
  },
  {
   "cell_type": "code",
   "execution_count": 18,
   "id": "7ae91580",
   "metadata": {},
   "outputs": [
    {
     "data": {
      "text/plain": [
       "(Timestamp('2012-07-01 00:00:00'), Timestamp('2013-06-30 00:00:00'))"
      ]
     },
     "execution_count": 18,
     "metadata": {},
     "output_type": "execute_result"
    }
   ],
   "source": [
    "d0_12 = solar_df_12.date.min()\n",
    "d1_12 = solar_df_12.date.max()\n",
    "d0_12, d1_12"
   ]
  },
  {
   "cell_type": "code",
   "execution_count": 19,
   "id": "96c65881",
   "metadata": {},
   "outputs": [
    {
     "data": {
      "text/plain": [
       "array([''], dtype=object)"
      ]
     },
     "execution_count": 19,
     "metadata": {},
     "output_type": "execute_result"
    }
   ],
   "source": [
    "solar_df_10['Row Quality'].unique()"
   ]
  },
  {
   "cell_type": "code",
   "execution_count": 20,
   "id": "c9aa525a",
   "metadata": {},
   "outputs": [
    {
     "data": {
      "text/plain": [
       "array(['', 'NA'], dtype=object)"
      ]
     },
     "execution_count": 20,
     "metadata": {},
     "output_type": "execute_result"
    }
   ],
   "source": [
    "solar_df_11['Row Quality'].unique()"
   ]
  },
  {
   "cell_type": "code",
   "execution_count": 21,
   "id": "1ba115ab",
   "metadata": {},
   "outputs": [
    {
     "data": {
      "text/plain": [
       "array(['', 'NA'], dtype=object)"
      ]
     },
     "execution_count": 21,
     "metadata": {},
     "output_type": "execute_result"
    }
   ],
   "source": [
    "solar_df_12['Row Quality'].unique()"
   ]
  },
  {
   "cell_type": "code",
   "execution_count": 22,
   "id": "e571e55e",
   "metadata": {},
   "outputs": [
    {
     "data": {
      "text/plain": [
       "    269735\n",
       "Name: Row Quality, dtype: int64"
      ]
     },
     "execution_count": 22,
     "metadata": {},
     "output_type": "execute_result"
    }
   ],
   "source": [
    "solar_df_10['Row Quality'].value_counts()"
   ]
  },
  {
   "cell_type": "code",
   "execution_count": 23,
   "id": "3045ebc8",
   "metadata": {},
   "outputs": [
    {
     "data": {
      "text/plain": [
       "      270204\n",
       "NA       100\n",
       "Name: Row Quality, dtype: int64"
      ]
     },
     "execution_count": 23,
     "metadata": {},
     "output_type": "execute_result"
    }
   ],
   "source": [
    "solar_df_11['Row Quality'].value_counts()"
   ]
  },
  {
   "cell_type": "code",
   "execution_count": 24,
   "id": "2f877172",
   "metadata": {},
   "outputs": [
    {
     "data": {
      "text/plain": [
       "      268126\n",
       "NA       431\n",
       "Name: Row Quality, dtype: int64"
      ]
     },
     "execution_count": 24,
     "metadata": {},
     "output_type": "execute_result"
    }
   ],
   "source": [
    "solar_df_12['Row Quality'].value_counts()"
   ]
  },
  {
   "cell_type": "code",
   "execution_count": 25,
   "id": "8b71e032",
   "metadata": {},
   "outputs": [
    {
     "data": {
      "text/plain": [
       "300"
      ]
     },
     "execution_count": 25,
     "metadata": {},
     "output_type": "execute_result"
    }
   ],
   "source": [
    "len(solar_df_10['Customer'].unique())"
   ]
  },
  {
   "cell_type": "code",
   "execution_count": 26,
   "id": "42dfc4b4",
   "metadata": {},
   "outputs": [
    {
     "data": {
      "text/plain": [
       "300"
      ]
     },
     "execution_count": 26,
     "metadata": {},
     "output_type": "execute_result"
    }
   ],
   "source": [
    "len(solar_df_11['Customer'].unique())"
   ]
  },
  {
   "cell_type": "code",
   "execution_count": 27,
   "id": "81c34ea1",
   "metadata": {},
   "outputs": [
    {
     "data": {
      "text/plain": [
       "300"
      ]
     },
     "execution_count": 27,
     "metadata": {},
     "output_type": "execute_result"
    }
   ],
   "source": [
    "len(solar_df_12['Customer'].unique())"
   ]
  },
  {
   "cell_type": "code",
   "execution_count": 28,
   "id": "8685da0e",
   "metadata": {},
   "outputs": [
    {
     "data": {
      "text/plain": [
       "array([  1,   2,   3,   4,   5,   6,   7,   8,   9,  10,  11,  12,  13,\n",
       "        14,  15,  16,  17,  18,  19,  20,  21,  22,  23,  24,  25,  26,\n",
       "        27,  28,  29,  30,  31,  32,  33,  34,  35,  36,  37,  38,  39,\n",
       "        40,  41,  42,  43,  44,  45,  46,  47,  48,  49,  50,  51,  52,\n",
       "        53,  54,  55,  56,  57,  58,  59,  60,  61,  62,  63,  64,  65,\n",
       "        66,  67,  68,  69,  70,  71,  72,  73,  74,  75,  76,  77,  78,\n",
       "        79,  80,  81,  82,  83,  84,  85,  86,  87,  88,  89,  90,  91,\n",
       "        92,  93,  94,  95,  96,  97,  98,  99, 100, 101, 102, 103, 104,\n",
       "       105, 106, 107, 108, 109, 110, 111, 112, 113, 114, 115, 116, 117,\n",
       "       118, 119, 120, 121, 122, 123, 124, 125, 126, 127, 128, 129, 130,\n",
       "       131, 132, 133, 134, 135, 136, 137, 138, 139, 140, 141, 142, 143,\n",
       "       144, 145, 146, 147, 148, 149, 150, 151, 152, 153, 154, 155, 156,\n",
       "       157, 158, 159, 160, 161, 162, 163, 164, 165, 166, 167, 168, 169,\n",
       "       170, 171, 172, 173, 174, 175, 176, 177, 178, 179, 180, 181, 182,\n",
       "       183, 184, 185, 186, 187, 188, 189, 190, 191, 192, 193, 194, 195,\n",
       "       196, 197, 198, 199, 200, 201, 202, 203, 204, 205, 206, 207, 208,\n",
       "       209, 210, 211, 212, 213, 214, 215, 216, 217, 218, 219, 220, 221,\n",
       "       222, 223, 224, 225, 226, 227, 228, 229, 230, 231, 232, 233, 234,\n",
       "       235, 236, 237, 238, 239, 240, 241, 242, 243, 244, 245, 246, 247,\n",
       "       248, 249, 250, 251, 252, 253, 254, 255, 256, 257, 258, 259, 260,\n",
       "       261, 262, 263, 264, 265, 266, 267, 268, 269, 270, 271, 272, 273,\n",
       "       274, 275, 276, 277, 278, 279, 280, 281, 282, 283, 284, 285, 286,\n",
       "       287, 288, 289, 290, 291, 292, 293, 294, 295, 296, 297, 298, 299,\n",
       "       300])"
      ]
     },
     "execution_count": 28,
     "metadata": {},
     "output_type": "execute_result"
    }
   ],
   "source": [
    "solar_df_10['Customer'].unique()"
   ]
  },
  {
   "cell_type": "code",
   "execution_count": 29,
   "id": "573ce58a",
   "metadata": {},
   "outputs": [
    {
     "data": {
      "text/plain": [
       "GC    1.000000\n",
       "GG    1.000000\n",
       "CL    0.463333\n",
       "Name: Consumption Category, dtype: float64"
      ]
     },
     "execution_count": 29,
     "metadata": {},
     "output_type": "execute_result"
    }
   ],
   "source": [
    "solar_df_10['Consumption Category'].value_counts()/300/365"
   ]
  },
  {
   "cell_type": "code",
   "execution_count": 30,
   "id": "01a46279",
   "metadata": {},
   "outputs": [
    {
     "data": {
      "text/plain": [
       "GC    1.000000\n",
       "GG    1.000000\n",
       "CL    0.461785\n",
       "Name: Consumption Category, dtype: float64"
      ]
     },
     "execution_count": 30,
     "metadata": {},
     "output_type": "execute_result"
    }
   ],
   "source": [
    "solar_df_11['Consumption Category'].value_counts()/300/366"
   ]
  },
  {
   "cell_type": "code",
   "execution_count": 31,
   "id": "4520f893",
   "metadata": {},
   "outputs": [
    {
     "data": {
      "text/plain": [
       "GC    0.999260\n",
       "GG    0.999260\n",
       "CL    0.454055\n",
       "Name: Consumption Category, dtype: float64"
      ]
     },
     "execution_count": 31,
     "metadata": {},
     "output_type": "execute_result"
    }
   ],
   "source": [
    "solar_df_12['Consumption Category'].value_counts()/300/365"
   ]
  },
  {
   "cell_type": "markdown",
   "id": "6cb012c8",
   "metadata": {},
   "source": [
    "### Data Preprocessing"
   ]
  },
  {
   "cell_type": "code",
   "execution_count": 32,
   "id": "e1be5821",
   "metadata": {},
   "outputs": [],
   "source": [
    "from pandas.tseries.offsets import Day"
   ]
  },
  {
   "cell_type": "code",
   "execution_count": 33,
   "id": "5606acc8",
   "metadata": {},
   "outputs": [
    {
     "data": {
      "text/plain": [
       "Timestamp('2011-06-30 00:00:00')"
      ]
     },
     "execution_count": 33,
     "metadata": {},
     "output_type": "execute_result"
    }
   ],
   "source": [
    "d1_10"
   ]
  },
  {
   "cell_type": "code",
   "execution_count": 34,
   "id": "ab36bb0b",
   "metadata": {},
   "outputs": [
    {
     "data": {
      "text/plain": [
       "Timestamp('2012-06-30 00:00:00')"
      ]
     },
     "execution_count": 34,
     "metadata": {},
     "output_type": "execute_result"
    }
   ],
   "source": [
    "d1_11"
   ]
  },
  {
   "cell_type": "code",
   "execution_count": 35,
   "id": "9faa3fc3",
   "metadata": {},
   "outputs": [
    {
     "data": {
      "text/plain": [
       "Timestamp('2013-06-30 00:00:00')"
      ]
     },
     "execution_count": 35,
     "metadata": {},
     "output_type": "execute_result"
    }
   ],
   "source": [
    "d1_12"
   ]
  },
  {
   "cell_type": "code",
   "execution_count": 36,
   "id": "8400c70d",
   "metadata": {},
   "outputs": [
    {
     "data": {
      "text/plain": [
       "Timestamp('2011-07-01 00:00:00')"
      ]
     },
     "execution_count": 36,
     "metadata": {},
     "output_type": "execute_result"
    }
   ],
   "source": [
    "d1_10 + Day(1)"
   ]
  },
  {
   "cell_type": "code",
   "execution_count": 37,
   "id": "5074af12",
   "metadata": {},
   "outputs": [
    {
     "data": {
      "text/plain": [
       "Timestamp('2012-07-01 00:00:00')"
      ]
     },
     "execution_count": 37,
     "metadata": {},
     "output_type": "execute_result"
    }
   ],
   "source": [
    "d1_11 + Day(1)"
   ]
  },
  {
   "cell_type": "code",
   "execution_count": 38,
   "id": "cd54d305",
   "metadata": {},
   "outputs": [
    {
     "data": {
      "text/plain": [
       "Timestamp('2013-07-01 00:00:00')"
      ]
     },
     "execution_count": 38,
     "metadata": {},
     "output_type": "execute_result"
    }
   ],
   "source": [
    "d1_12 + Day(1)"
   ]
  },
  {
   "cell_type": "code",
   "execution_count": 39,
   "id": "250001bf",
   "metadata": {},
   "outputs": [
    {
     "name": "stderr",
     "output_type": "stream",
     "text": [
      "/var/folders/g0/g337bxdd06j0sv_7y9k95gj80000gn/T/ipykernel_18035/4079845629.py:1: FutureWarning: Argument `closed` is deprecated in favor of `inclusive`.\n",
      "  index_10 = pd.date_range(d0_10, d1_10 + Day(1), freq='30T', closed='left')\n"
     ]
    },
    {
     "data": {
      "text/plain": [
       "DatetimeIndex(['2010-07-01 00:00:00', '2010-07-01 00:30:00',\n",
       "               '2010-07-01 01:00:00', '2010-07-01 01:30:00',\n",
       "               '2010-07-01 02:00:00', '2010-07-01 02:30:00',\n",
       "               '2010-07-01 03:00:00', '2010-07-01 03:30:00',\n",
       "               '2010-07-01 04:00:00', '2010-07-01 04:30:00',\n",
       "               ...\n",
       "               '2011-06-30 19:00:00', '2011-06-30 19:30:00',\n",
       "               '2011-06-30 20:00:00', '2011-06-30 20:30:00',\n",
       "               '2011-06-30 21:00:00', '2011-06-30 21:30:00',\n",
       "               '2011-06-30 22:00:00', '2011-06-30 22:30:00',\n",
       "               '2011-06-30 23:00:00', '2011-06-30 23:30:00'],\n",
       "              dtype='datetime64[ns]', length=17520, freq='30T')"
      ]
     },
     "execution_count": 39,
     "metadata": {},
     "output_type": "execute_result"
    }
   ],
   "source": [
    "index_10 = pd.date_range(d0_10, d1_10 + Day(1), freq='30T', closed='left')\n",
    "index_10"
   ]
  },
  {
   "cell_type": "code",
   "execution_count": 40,
   "id": "c61e8b98",
   "metadata": {},
   "outputs": [
    {
     "name": "stderr",
     "output_type": "stream",
     "text": [
      "/var/folders/g0/g337bxdd06j0sv_7y9k95gj80000gn/T/ipykernel_18035/1271887161.py:1: FutureWarning: Argument `closed` is deprecated in favor of `inclusive`.\n",
      "  index_11 = pd.date_range(d0_11, d1_11 + Day(1), freq='30T', closed='left')\n"
     ]
    },
    {
     "data": {
      "text/plain": [
       "DatetimeIndex(['2011-07-01 00:00:00', '2011-07-01 00:30:00',\n",
       "               '2011-07-01 01:00:00', '2011-07-01 01:30:00',\n",
       "               '2011-07-01 02:00:00', '2011-07-01 02:30:00',\n",
       "               '2011-07-01 03:00:00', '2011-07-01 03:30:00',\n",
       "               '2011-07-01 04:00:00', '2011-07-01 04:30:00',\n",
       "               ...\n",
       "               '2012-06-30 19:00:00', '2012-06-30 19:30:00',\n",
       "               '2012-06-30 20:00:00', '2012-06-30 20:30:00',\n",
       "               '2012-06-30 21:00:00', '2012-06-30 21:30:00',\n",
       "               '2012-06-30 22:00:00', '2012-06-30 22:30:00',\n",
       "               '2012-06-30 23:00:00', '2012-06-30 23:30:00'],\n",
       "              dtype='datetime64[ns]', length=17568, freq='30T')"
      ]
     },
     "execution_count": 40,
     "metadata": {},
     "output_type": "execute_result"
    }
   ],
   "source": [
    "index_11 = pd.date_range(d0_11, d1_11 + Day(1), freq='30T', closed='left')\n",
    "index_11"
   ]
  },
  {
   "cell_type": "code",
   "execution_count": 41,
   "id": "b6162644",
   "metadata": {},
   "outputs": [
    {
     "name": "stderr",
     "output_type": "stream",
     "text": [
      "/var/folders/g0/g337bxdd06j0sv_7y9k95gj80000gn/T/ipykernel_18035/1613600740.py:1: FutureWarning: Argument `closed` is deprecated in favor of `inclusive`.\n",
      "  index_12 = pd.date_range(d0_12, d1_12 + Day(1), freq='30T', closed='left')\n"
     ]
    },
    {
     "data": {
      "text/plain": [
       "DatetimeIndex(['2012-07-01 00:00:00', '2012-07-01 00:30:00',\n",
       "               '2012-07-01 01:00:00', '2012-07-01 01:30:00',\n",
       "               '2012-07-01 02:00:00', '2012-07-01 02:30:00',\n",
       "               '2012-07-01 03:00:00', '2012-07-01 03:30:00',\n",
       "               '2012-07-01 04:00:00', '2012-07-01 04:30:00',\n",
       "               ...\n",
       "               '2013-06-30 19:00:00', '2013-06-30 19:30:00',\n",
       "               '2013-06-30 20:00:00', '2013-06-30 20:30:00',\n",
       "               '2013-06-30 21:00:00', '2013-06-30 21:30:00',\n",
       "               '2013-06-30 22:00:00', '2013-06-30 22:30:00',\n",
       "               '2013-06-30 23:00:00', '2013-06-30 23:30:00'],\n",
       "              dtype='datetime64[ns]', length=17520, freq='30T')"
      ]
     },
     "execution_count": 41,
     "metadata": {},
     "output_type": "execute_result"
    }
   ],
   "source": [
    "index_12 = pd.date_range(d0_12, d1_12 + Day(1), freq='30T', closed='left')\n",
    "index_12"
   ]
  },
  {
   "cell_type": "code",
   "execution_count": 42,
   "id": "7de30579",
   "metadata": {},
   "outputs": [
    {
     "name": "stdout",
     "output_type": "stream",
     "text": [
      "[1, 2, 3, 4, 5, 6, 7, 8, 9, 10, 11, 12, 13, 14, 15, 16, 17, 18, 19, 20, 21, 22, 23, 24, 25, 26, 27, 28, 29, 30, 31, 32, 33, 34, 35, 36, 37, 38, 39, 40, 41, 42, 43, 44, 45, 46, 47, 48, 49, 50, 51, 52, 53, 54, 55, 56, 57, 58, 59, 60, 61, 62, 63, 64, 65, 66, 67, 68, 69, 70, 71, 72, 73, 74, 75, 76, 77, 78, 79, 80, 81, 82, 83, 84, 85, 86, 87, 88, 89, 90, 91, 92, 93, 94, 95, 96, 97, 98, 99, 100, 101, 102, 103, 104, 105, 106, 107, 108, 109, 110, 111, 112, 113, 114, 115, 116, 117, 118, 119, 120, 121, 122, 123, 124, 125, 126, 127, 128, 129, 130, 131, 132, 133, 134, 135, 136, 137, 138, 139, 140, 141, 142, 143, 144, 145, 146, 147, 148, 149, 150, 151, 152, 153, 154, 155, 156, 157, 158, 159, 160, 161, 162, 163, 164, 165, 166, 167, 168, 169, 170, 171, 172, 173, 174, 175, 176, 177, 178, 179, 180, 181, 182, 183, 184, 185, 186, 187, 188, 189, 190, 191, 192, 193, 194, 195, 196, 197, 198, 199, 200, 201, 202, 203, 204, 205, 206, 207, 208, 209, 210, 211, 212, 213, 214, 215, 216, 217, 218, 219, 220, 221, 222, 223, 224, 225, 226, 227, 228, 229, 230, 231, 232, 233, 234, 235, 236, 237, 238, 239, 240, 241, 242, 243, 244, 245, 246, 247, 248, 249, 250, 251, 252, 253, 254, 255, 256, 257, 258, 259, 260, 261, 262, 263, 264, 265, 266, 267, 268, 269, 270, 271, 272, 273, 274, 275, 276, 277, 278, 279, 280, 281, 282, 283, 284, 285, 286, 287, 288, 289, 290, 291, 292, 293, 294, 295, 296, 297, 298, 299, 300]\n"
     ]
    }
   ],
   "source": [
    "customers_10 = sorted(solar_df_10.Customer.unique())\n",
    "print(customers_10)"
   ]
  },
  {
   "cell_type": "code",
   "execution_count": 43,
   "id": "690b0d78",
   "metadata": {},
   "outputs": [
    {
     "name": "stdout",
     "output_type": "stream",
     "text": [
      "[1, 2, 3, 4, 5, 6, 7, 8, 9, 10, 11, 12, 13, 14, 15, 16, 17, 18, 19, 20, 21, 22, 23, 24, 25, 26, 27, 28, 29, 30, 31, 32, 33, 34, 35, 36, 37, 38, 39, 40, 41, 42, 43, 44, 45, 46, 47, 48, 49, 50, 51, 52, 53, 54, 55, 56, 57, 58, 59, 60, 61, 62, 63, 64, 65, 66, 67, 68, 69, 70, 71, 72, 73, 74, 75, 76, 77, 78, 79, 80, 81, 82, 83, 84, 85, 86, 87, 88, 89, 90, 91, 92, 93, 94, 95, 96, 97, 98, 99, 100, 101, 102, 103, 104, 105, 106, 107, 108, 109, 110, 111, 112, 113, 114, 115, 116, 117, 118, 119, 120, 121, 122, 123, 124, 125, 126, 127, 128, 129, 130, 131, 132, 133, 134, 135, 136, 137, 138, 139, 140, 141, 142, 143, 144, 145, 146, 147, 148, 149, 150, 151, 152, 153, 154, 155, 156, 157, 158, 159, 160, 161, 162, 163, 164, 165, 166, 167, 168, 169, 170, 171, 172, 173, 174, 175, 176, 177, 178, 179, 180, 181, 182, 183, 184, 185, 186, 187, 188, 189, 190, 191, 192, 193, 194, 195, 196, 197, 198, 199, 200, 201, 202, 203, 204, 205, 206, 207, 208, 209, 210, 211, 212, 213, 214, 215, 216, 217, 218, 219, 220, 221, 222, 223, 224, 225, 226, 227, 228, 229, 230, 231, 232, 233, 234, 235, 236, 237, 238, 239, 240, 241, 242, 243, 244, 245, 246, 247, 248, 249, 250, 251, 252, 253, 254, 255, 256, 257, 258, 259, 260, 261, 262, 263, 264, 265, 266, 267, 268, 269, 270, 271, 272, 273, 274, 275, 276, 277, 278, 279, 280, 281, 282, 283, 284, 285, 286, 287, 288, 289, 290, 291, 292, 293, 294, 295, 296, 297, 298, 299, 300]\n"
     ]
    }
   ],
   "source": [
    "customers_11 = sorted(solar_df_11.Customer.unique())\n",
    "print(customers_11)"
   ]
  },
  {
   "cell_type": "code",
   "execution_count": 44,
   "id": "d55fe529",
   "metadata": {},
   "outputs": [
    {
     "name": "stdout",
     "output_type": "stream",
     "text": [
      "[1, 2, 3, 4, 5, 6, 7, 8, 9, 10, 11, 12, 13, 14, 15, 16, 17, 18, 19, 20, 21, 22, 23, 24, 25, 26, 27, 28, 29, 30, 31, 32, 33, 34, 35, 36, 37, 38, 39, 40, 41, 42, 43, 44, 45, 46, 47, 48, 49, 50, 51, 52, 53, 54, 55, 56, 57, 58, 59, 60, 61, 62, 63, 64, 65, 66, 67, 68, 69, 70, 71, 72, 73, 74, 75, 76, 77, 78, 79, 80, 81, 82, 83, 84, 85, 86, 87, 88, 89, 90, 91, 92, 93, 94, 95, 96, 97, 98, 99, 100, 101, 102, 103, 104, 105, 106, 107, 108, 109, 110, 111, 112, 113, 114, 115, 116, 117, 118, 119, 120, 121, 122, 123, 124, 125, 126, 127, 128, 129, 130, 131, 132, 133, 134, 135, 136, 137, 138, 139, 140, 141, 142, 143, 144, 145, 146, 147, 148, 149, 150, 151, 152, 153, 154, 155, 156, 157, 158, 159, 160, 161, 162, 163, 164, 165, 166, 167, 168, 169, 170, 171, 172, 173, 174, 175, 176, 177, 178, 179, 180, 181, 182, 183, 184, 185, 186, 187, 188, 189, 190, 191, 192, 193, 194, 195, 196, 197, 198, 199, 200, 201, 202, 203, 204, 205, 206, 207, 208, 209, 210, 211, 212, 213, 214, 215, 216, 217, 218, 219, 220, 221, 222, 223, 224, 225, 226, 227, 228, 229, 230, 231, 232, 233, 234, 235, 236, 237, 238, 239, 240, 241, 242, 243, 244, 245, 246, 247, 248, 249, 250, 251, 252, 253, 254, 255, 256, 257, 258, 259, 260, 261, 262, 263, 264, 265, 266, 267, 268, 269, 270, 271, 272, 273, 274, 275, 276, 277, 278, 279, 280, 281, 282, 283, 284, 285, 286, 287, 288, 289, 290, 291, 292, 293, 294, 295, 296, 297, 298, 299, 300]\n"
     ]
    }
   ],
   "source": [
    "customers_12 = sorted(solar_df_12.Customer.unique())\n",
    "print(customers_12)"
   ]
  },
  {
   "cell_type": "code",
   "execution_count": 45,
   "id": "c46fa597",
   "metadata": {},
   "outputs": [
    {
     "data": {
      "text/plain": [
       "array(['GC', 'CL', 'GG'], dtype=object)"
      ]
     },
     "execution_count": 45,
     "metadata": {},
     "output_type": "execute_result"
    }
   ],
   "source": [
    "channels = solar_df_10['Consumption Category'].unique()\n",
    "channels"
   ]
  },
  {
   "cell_type": "code",
   "execution_count": 46,
   "id": "acb71282",
   "metadata": {},
   "outputs": [],
   "source": [
    "channels = ['GC', 'GG', 'CL']"
   ]
  },
  {
   "cell_type": "code",
   "execution_count": 47,
   "id": "5c70f3ce",
   "metadata": {},
   "outputs": [
    {
     "data": {
      "text/plain": [
       "MultiIndex([(  1, 'GC'),\n",
       "            (  1, 'GG'),\n",
       "            (  1, 'CL'),\n",
       "            (  2, 'GC'),\n",
       "            (  2, 'GG'),\n",
       "            (  2, 'CL'),\n",
       "            (  3, 'GC'),\n",
       "            (  3, 'GG'),\n",
       "            (  3, 'CL'),\n",
       "            (  4, 'GC'),\n",
       "            ...\n",
       "            (297, 'CL'),\n",
       "            (298, 'GC'),\n",
       "            (298, 'GG'),\n",
       "            (298, 'CL'),\n",
       "            (299, 'GC'),\n",
       "            (299, 'GG'),\n",
       "            (299, 'CL'),\n",
       "            (300, 'GC'),\n",
       "            (300, 'GG'),\n",
       "            (300, 'CL')],\n",
       "           names=['Customer', 'Channel'], length=900)"
      ]
     },
     "execution_count": 47,
     "metadata": {},
     "output_type": "execute_result"
    }
   ],
   "source": [
    "columns_new_10 = pd.MultiIndex.from_product(\n",
    "    ([customers_10,channels]), names=['Customer', 'Channel'])\n",
    "columns_new_10"
   ]
  },
  {
   "cell_type": "code",
   "execution_count": 48,
   "id": "c0e318af",
   "metadata": {},
   "outputs": [
    {
     "data": {
      "text/plain": [
       "MultiIndex([(  1, 'GC'),\n",
       "            (  1, 'GG'),\n",
       "            (  1, 'CL'),\n",
       "            (  2, 'GC'),\n",
       "            (  2, 'GG'),\n",
       "            (  2, 'CL'),\n",
       "            (  3, 'GC'),\n",
       "            (  3, 'GG'),\n",
       "            (  3, 'CL'),\n",
       "            (  4, 'GC'),\n",
       "            ...\n",
       "            (297, 'CL'),\n",
       "            (298, 'GC'),\n",
       "            (298, 'GG'),\n",
       "            (298, 'CL'),\n",
       "            (299, 'GC'),\n",
       "            (299, 'GG'),\n",
       "            (299, 'CL'),\n",
       "            (300, 'GC'),\n",
       "            (300, 'GG'),\n",
       "            (300, 'CL')],\n",
       "           names=['Customer', 'Channel'], length=900)"
      ]
     },
     "execution_count": 48,
     "metadata": {},
     "output_type": "execute_result"
    }
   ],
   "source": [
    "columns_new_11 = pd.MultiIndex.from_product(\n",
    "    ([customers_11,channels]), names=['Customer', 'Channel'])\n",
    "columns_new_11"
   ]
  },
  {
   "cell_type": "code",
   "execution_count": 49,
   "id": "5734f498",
   "metadata": {},
   "outputs": [
    {
     "data": {
      "text/plain": [
       "MultiIndex([(  1, 'GC'),\n",
       "            (  1, 'GG'),\n",
       "            (  1, 'CL'),\n",
       "            (  2, 'GC'),\n",
       "            (  2, 'GG'),\n",
       "            (  2, 'CL'),\n",
       "            (  3, 'GC'),\n",
       "            (  3, 'GG'),\n",
       "            (  3, 'CL'),\n",
       "            (  4, 'GC'),\n",
       "            ...\n",
       "            (297, 'CL'),\n",
       "            (298, 'GC'),\n",
       "            (298, 'GG'),\n",
       "            (298, 'CL'),\n",
       "            (299, 'GC'),\n",
       "            (299, 'GG'),\n",
       "            (299, 'CL'),\n",
       "            (300, 'GC'),\n",
       "            (300, 'GG'),\n",
       "            (300, 'CL')],\n",
       "           names=['Customer', 'Channel'], length=900)"
      ]
     },
     "execution_count": 49,
     "metadata": {},
     "output_type": "execute_result"
    }
   ],
   "source": [
    "columns_new_12 = pd.MultiIndex.from_product(\n",
    "    ([customers_12,channels]), names=['Customer', 'Channel'])\n",
    "columns_new_12"
   ]
  },
  {
   "cell_type": "code",
   "execution_count": 50,
   "id": "1f262670",
   "metadata": {},
   "outputs": [
    {
     "data": {
      "text/html": [
       "<div>\n",
       "<style scoped>\n",
       "    .dataframe tbody tr th:only-of-type {\n",
       "        vertical-align: middle;\n",
       "    }\n",
       "\n",
       "    .dataframe tbody tr th {\n",
       "        vertical-align: top;\n",
       "    }\n",
       "\n",
       "    .dataframe thead tr th {\n",
       "        text-align: left;\n",
       "    }\n",
       "</style>\n",
       "<table border=\"1\" class=\"dataframe\">\n",
       "  <thead>\n",
       "    <tr>\n",
       "      <th>Customer</th>\n",
       "      <th colspan=\"3\" halign=\"left\">1</th>\n",
       "      <th colspan=\"3\" halign=\"left\">2</th>\n",
       "      <th colspan=\"3\" halign=\"left\">3</th>\n",
       "      <th>4</th>\n",
       "      <th>...</th>\n",
       "      <th>297</th>\n",
       "      <th colspan=\"3\" halign=\"left\">298</th>\n",
       "      <th colspan=\"3\" halign=\"left\">299</th>\n",
       "      <th colspan=\"3\" halign=\"left\">300</th>\n",
       "    </tr>\n",
       "    <tr>\n",
       "      <th>Channel</th>\n",
       "      <th>GC</th>\n",
       "      <th>GG</th>\n",
       "      <th>CL</th>\n",
       "      <th>GC</th>\n",
       "      <th>GG</th>\n",
       "      <th>CL</th>\n",
       "      <th>GC</th>\n",
       "      <th>GG</th>\n",
       "      <th>CL</th>\n",
       "      <th>GC</th>\n",
       "      <th>...</th>\n",
       "      <th>CL</th>\n",
       "      <th>GC</th>\n",
       "      <th>GG</th>\n",
       "      <th>CL</th>\n",
       "      <th>GC</th>\n",
       "      <th>GG</th>\n",
       "      <th>CL</th>\n",
       "      <th>GC</th>\n",
       "      <th>GG</th>\n",
       "      <th>CL</th>\n",
       "    </tr>\n",
       "  </thead>\n",
       "  <tbody>\n",
       "    <tr>\n",
       "      <th>2010-07-01 00:00:00</th>\n",
       "      <td>NaN</td>\n",
       "      <td>NaN</td>\n",
       "      <td>NaN</td>\n",
       "      <td>NaN</td>\n",
       "      <td>NaN</td>\n",
       "      <td>NaN</td>\n",
       "      <td>NaN</td>\n",
       "      <td>NaN</td>\n",
       "      <td>NaN</td>\n",
       "      <td>NaN</td>\n",
       "      <td>...</td>\n",
       "      <td>NaN</td>\n",
       "      <td>NaN</td>\n",
       "      <td>NaN</td>\n",
       "      <td>NaN</td>\n",
       "      <td>NaN</td>\n",
       "      <td>NaN</td>\n",
       "      <td>NaN</td>\n",
       "      <td>NaN</td>\n",
       "      <td>NaN</td>\n",
       "      <td>NaN</td>\n",
       "    </tr>\n",
       "    <tr>\n",
       "      <th>2010-07-01 00:30:00</th>\n",
       "      <td>NaN</td>\n",
       "      <td>NaN</td>\n",
       "      <td>NaN</td>\n",
       "      <td>NaN</td>\n",
       "      <td>NaN</td>\n",
       "      <td>NaN</td>\n",
       "      <td>NaN</td>\n",
       "      <td>NaN</td>\n",
       "      <td>NaN</td>\n",
       "      <td>NaN</td>\n",
       "      <td>...</td>\n",
       "      <td>NaN</td>\n",
       "      <td>NaN</td>\n",
       "      <td>NaN</td>\n",
       "      <td>NaN</td>\n",
       "      <td>NaN</td>\n",
       "      <td>NaN</td>\n",
       "      <td>NaN</td>\n",
       "      <td>NaN</td>\n",
       "      <td>NaN</td>\n",
       "      <td>NaN</td>\n",
       "    </tr>\n",
       "    <tr>\n",
       "      <th>2010-07-01 01:00:00</th>\n",
       "      <td>NaN</td>\n",
       "      <td>NaN</td>\n",
       "      <td>NaN</td>\n",
       "      <td>NaN</td>\n",
       "      <td>NaN</td>\n",
       "      <td>NaN</td>\n",
       "      <td>NaN</td>\n",
       "      <td>NaN</td>\n",
       "      <td>NaN</td>\n",
       "      <td>NaN</td>\n",
       "      <td>...</td>\n",
       "      <td>NaN</td>\n",
       "      <td>NaN</td>\n",
       "      <td>NaN</td>\n",
       "      <td>NaN</td>\n",
       "      <td>NaN</td>\n",
       "      <td>NaN</td>\n",
       "      <td>NaN</td>\n",
       "      <td>NaN</td>\n",
       "      <td>NaN</td>\n",
       "      <td>NaN</td>\n",
       "    </tr>\n",
       "    <tr>\n",
       "      <th>2010-07-01 01:30:00</th>\n",
       "      <td>NaN</td>\n",
       "      <td>NaN</td>\n",
       "      <td>NaN</td>\n",
       "      <td>NaN</td>\n",
       "      <td>NaN</td>\n",
       "      <td>NaN</td>\n",
       "      <td>NaN</td>\n",
       "      <td>NaN</td>\n",
       "      <td>NaN</td>\n",
       "      <td>NaN</td>\n",
       "      <td>...</td>\n",
       "      <td>NaN</td>\n",
       "      <td>NaN</td>\n",
       "      <td>NaN</td>\n",
       "      <td>NaN</td>\n",
       "      <td>NaN</td>\n",
       "      <td>NaN</td>\n",
       "      <td>NaN</td>\n",
       "      <td>NaN</td>\n",
       "      <td>NaN</td>\n",
       "      <td>NaN</td>\n",
       "    </tr>\n",
       "    <tr>\n",
       "      <th>2010-07-01 02:00:00</th>\n",
       "      <td>NaN</td>\n",
       "      <td>NaN</td>\n",
       "      <td>NaN</td>\n",
       "      <td>NaN</td>\n",
       "      <td>NaN</td>\n",
       "      <td>NaN</td>\n",
       "      <td>NaN</td>\n",
       "      <td>NaN</td>\n",
       "      <td>NaN</td>\n",
       "      <td>NaN</td>\n",
       "      <td>...</td>\n",
       "      <td>NaN</td>\n",
       "      <td>NaN</td>\n",
       "      <td>NaN</td>\n",
       "      <td>NaN</td>\n",
       "      <td>NaN</td>\n",
       "      <td>NaN</td>\n",
       "      <td>NaN</td>\n",
       "      <td>NaN</td>\n",
       "      <td>NaN</td>\n",
       "      <td>NaN</td>\n",
       "    </tr>\n",
       "    <tr>\n",
       "      <th>...</th>\n",
       "      <td>...</td>\n",
       "      <td>...</td>\n",
       "      <td>...</td>\n",
       "      <td>...</td>\n",
       "      <td>...</td>\n",
       "      <td>...</td>\n",
       "      <td>...</td>\n",
       "      <td>...</td>\n",
       "      <td>...</td>\n",
       "      <td>...</td>\n",
       "      <td>...</td>\n",
       "      <td>...</td>\n",
       "      <td>...</td>\n",
       "      <td>...</td>\n",
       "      <td>...</td>\n",
       "      <td>...</td>\n",
       "      <td>...</td>\n",
       "      <td>...</td>\n",
       "      <td>...</td>\n",
       "      <td>...</td>\n",
       "      <td>...</td>\n",
       "    </tr>\n",
       "    <tr>\n",
       "      <th>2011-06-30 21:30:00</th>\n",
       "      <td>NaN</td>\n",
       "      <td>NaN</td>\n",
       "      <td>NaN</td>\n",
       "      <td>NaN</td>\n",
       "      <td>NaN</td>\n",
       "      <td>NaN</td>\n",
       "      <td>NaN</td>\n",
       "      <td>NaN</td>\n",
       "      <td>NaN</td>\n",
       "      <td>NaN</td>\n",
       "      <td>...</td>\n",
       "      <td>NaN</td>\n",
       "      <td>NaN</td>\n",
       "      <td>NaN</td>\n",
       "      <td>NaN</td>\n",
       "      <td>NaN</td>\n",
       "      <td>NaN</td>\n",
       "      <td>NaN</td>\n",
       "      <td>NaN</td>\n",
       "      <td>NaN</td>\n",
       "      <td>NaN</td>\n",
       "    </tr>\n",
       "    <tr>\n",
       "      <th>2011-06-30 22:00:00</th>\n",
       "      <td>NaN</td>\n",
       "      <td>NaN</td>\n",
       "      <td>NaN</td>\n",
       "      <td>NaN</td>\n",
       "      <td>NaN</td>\n",
       "      <td>NaN</td>\n",
       "      <td>NaN</td>\n",
       "      <td>NaN</td>\n",
       "      <td>NaN</td>\n",
       "      <td>NaN</td>\n",
       "      <td>...</td>\n",
       "      <td>NaN</td>\n",
       "      <td>NaN</td>\n",
       "      <td>NaN</td>\n",
       "      <td>NaN</td>\n",
       "      <td>NaN</td>\n",
       "      <td>NaN</td>\n",
       "      <td>NaN</td>\n",
       "      <td>NaN</td>\n",
       "      <td>NaN</td>\n",
       "      <td>NaN</td>\n",
       "    </tr>\n",
       "    <tr>\n",
       "      <th>2011-06-30 22:30:00</th>\n",
       "      <td>NaN</td>\n",
       "      <td>NaN</td>\n",
       "      <td>NaN</td>\n",
       "      <td>NaN</td>\n",
       "      <td>NaN</td>\n",
       "      <td>NaN</td>\n",
       "      <td>NaN</td>\n",
       "      <td>NaN</td>\n",
       "      <td>NaN</td>\n",
       "      <td>NaN</td>\n",
       "      <td>...</td>\n",
       "      <td>NaN</td>\n",
       "      <td>NaN</td>\n",
       "      <td>NaN</td>\n",
       "      <td>NaN</td>\n",
       "      <td>NaN</td>\n",
       "      <td>NaN</td>\n",
       "      <td>NaN</td>\n",
       "      <td>NaN</td>\n",
       "      <td>NaN</td>\n",
       "      <td>NaN</td>\n",
       "    </tr>\n",
       "    <tr>\n",
       "      <th>2011-06-30 23:00:00</th>\n",
       "      <td>NaN</td>\n",
       "      <td>NaN</td>\n",
       "      <td>NaN</td>\n",
       "      <td>NaN</td>\n",
       "      <td>NaN</td>\n",
       "      <td>NaN</td>\n",
       "      <td>NaN</td>\n",
       "      <td>NaN</td>\n",
       "      <td>NaN</td>\n",
       "      <td>NaN</td>\n",
       "      <td>...</td>\n",
       "      <td>NaN</td>\n",
       "      <td>NaN</td>\n",
       "      <td>NaN</td>\n",
       "      <td>NaN</td>\n",
       "      <td>NaN</td>\n",
       "      <td>NaN</td>\n",
       "      <td>NaN</td>\n",
       "      <td>NaN</td>\n",
       "      <td>NaN</td>\n",
       "      <td>NaN</td>\n",
       "    </tr>\n",
       "    <tr>\n",
       "      <th>2011-06-30 23:30:00</th>\n",
       "      <td>NaN</td>\n",
       "      <td>NaN</td>\n",
       "      <td>NaN</td>\n",
       "      <td>NaN</td>\n",
       "      <td>NaN</td>\n",
       "      <td>NaN</td>\n",
       "      <td>NaN</td>\n",
       "      <td>NaN</td>\n",
       "      <td>NaN</td>\n",
       "      <td>NaN</td>\n",
       "      <td>...</td>\n",
       "      <td>NaN</td>\n",
       "      <td>NaN</td>\n",
       "      <td>NaN</td>\n",
       "      <td>NaN</td>\n",
       "      <td>NaN</td>\n",
       "      <td>NaN</td>\n",
       "      <td>NaN</td>\n",
       "      <td>NaN</td>\n",
       "      <td>NaN</td>\n",
       "      <td>NaN</td>\n",
       "    </tr>\n",
       "  </tbody>\n",
       "</table>\n",
       "<p>17520 rows × 900 columns</p>\n",
       "</div>"
      ],
      "text/plain": [
       "Customer             1              2              3              4    ...  \\\n",
       "Channel               GC   GG   CL   GC   GG   CL   GC   GG   CL   GC  ...   \n",
       "2010-07-01 00:00:00  NaN  NaN  NaN  NaN  NaN  NaN  NaN  NaN  NaN  NaN  ...   \n",
       "2010-07-01 00:30:00  NaN  NaN  NaN  NaN  NaN  NaN  NaN  NaN  NaN  NaN  ...   \n",
       "2010-07-01 01:00:00  NaN  NaN  NaN  NaN  NaN  NaN  NaN  NaN  NaN  NaN  ...   \n",
       "2010-07-01 01:30:00  NaN  NaN  NaN  NaN  NaN  NaN  NaN  NaN  NaN  NaN  ...   \n",
       "2010-07-01 02:00:00  NaN  NaN  NaN  NaN  NaN  NaN  NaN  NaN  NaN  NaN  ...   \n",
       "...                  ...  ...  ...  ...  ...  ...  ...  ...  ...  ...  ...   \n",
       "2011-06-30 21:30:00  NaN  NaN  NaN  NaN  NaN  NaN  NaN  NaN  NaN  NaN  ...   \n",
       "2011-06-30 22:00:00  NaN  NaN  NaN  NaN  NaN  NaN  NaN  NaN  NaN  NaN  ...   \n",
       "2011-06-30 22:30:00  NaN  NaN  NaN  NaN  NaN  NaN  NaN  NaN  NaN  NaN  ...   \n",
       "2011-06-30 23:00:00  NaN  NaN  NaN  NaN  NaN  NaN  NaN  NaN  NaN  NaN  ...   \n",
       "2011-06-30 23:30:00  NaN  NaN  NaN  NaN  NaN  NaN  NaN  NaN  NaN  NaN  ...   \n",
       "\n",
       "Customer             297  298            299            300            \n",
       "Channel               CL   GC   GG   CL   GC   GG   CL   GC   GG   CL  \n",
       "2010-07-01 00:00:00  NaN  NaN  NaN  NaN  NaN  NaN  NaN  NaN  NaN  NaN  \n",
       "2010-07-01 00:30:00  NaN  NaN  NaN  NaN  NaN  NaN  NaN  NaN  NaN  NaN  \n",
       "2010-07-01 01:00:00  NaN  NaN  NaN  NaN  NaN  NaN  NaN  NaN  NaN  NaN  \n",
       "2010-07-01 01:30:00  NaN  NaN  NaN  NaN  NaN  NaN  NaN  NaN  NaN  NaN  \n",
       "2010-07-01 02:00:00  NaN  NaN  NaN  NaN  NaN  NaN  NaN  NaN  NaN  NaN  \n",
       "...                  ...  ...  ...  ...  ...  ...  ...  ...  ...  ...  \n",
       "2011-06-30 21:30:00  NaN  NaN  NaN  NaN  NaN  NaN  NaN  NaN  NaN  NaN  \n",
       "2011-06-30 22:00:00  NaN  NaN  NaN  NaN  NaN  NaN  NaN  NaN  NaN  NaN  \n",
       "2011-06-30 22:30:00  NaN  NaN  NaN  NaN  NaN  NaN  NaN  NaN  NaN  NaN  \n",
       "2011-06-30 23:00:00  NaN  NaN  NaN  NaN  NaN  NaN  NaN  NaN  NaN  NaN  \n",
       "2011-06-30 23:30:00  NaN  NaN  NaN  NaN  NaN  NaN  NaN  NaN  NaN  NaN  \n",
       "\n",
       "[17520 rows x 900 columns]"
      ]
     },
     "execution_count": 50,
     "metadata": {},
     "output_type": "execute_result"
    }
   ],
   "source": [
    "new_df_10 = pd.DataFrame(index=index_10, columns = columns_new_10)\n",
    "new_df_10"
   ]
  },
  {
   "cell_type": "code",
   "execution_count": 51,
   "id": "737fa65e",
   "metadata": {},
   "outputs": [
    {
     "data": {
      "text/html": [
       "<div>\n",
       "<style scoped>\n",
       "    .dataframe tbody tr th:only-of-type {\n",
       "        vertical-align: middle;\n",
       "    }\n",
       "\n",
       "    .dataframe tbody tr th {\n",
       "        vertical-align: top;\n",
       "    }\n",
       "\n",
       "    .dataframe thead tr th {\n",
       "        text-align: left;\n",
       "    }\n",
       "</style>\n",
       "<table border=\"1\" class=\"dataframe\">\n",
       "  <thead>\n",
       "    <tr>\n",
       "      <th>Customer</th>\n",
       "      <th colspan=\"3\" halign=\"left\">1</th>\n",
       "      <th colspan=\"3\" halign=\"left\">2</th>\n",
       "      <th colspan=\"3\" halign=\"left\">3</th>\n",
       "      <th>4</th>\n",
       "      <th>...</th>\n",
       "      <th>297</th>\n",
       "      <th colspan=\"3\" halign=\"left\">298</th>\n",
       "      <th colspan=\"3\" halign=\"left\">299</th>\n",
       "      <th colspan=\"3\" halign=\"left\">300</th>\n",
       "    </tr>\n",
       "    <tr>\n",
       "      <th>Channel</th>\n",
       "      <th>GC</th>\n",
       "      <th>GG</th>\n",
       "      <th>CL</th>\n",
       "      <th>GC</th>\n",
       "      <th>GG</th>\n",
       "      <th>CL</th>\n",
       "      <th>GC</th>\n",
       "      <th>GG</th>\n",
       "      <th>CL</th>\n",
       "      <th>GC</th>\n",
       "      <th>...</th>\n",
       "      <th>CL</th>\n",
       "      <th>GC</th>\n",
       "      <th>GG</th>\n",
       "      <th>CL</th>\n",
       "      <th>GC</th>\n",
       "      <th>GG</th>\n",
       "      <th>CL</th>\n",
       "      <th>GC</th>\n",
       "      <th>GG</th>\n",
       "      <th>CL</th>\n",
       "    </tr>\n",
       "  </thead>\n",
       "  <tbody>\n",
       "    <tr>\n",
       "      <th>2011-07-01 00:00:00</th>\n",
       "      <td>NaN</td>\n",
       "      <td>NaN</td>\n",
       "      <td>NaN</td>\n",
       "      <td>NaN</td>\n",
       "      <td>NaN</td>\n",
       "      <td>NaN</td>\n",
       "      <td>NaN</td>\n",
       "      <td>NaN</td>\n",
       "      <td>NaN</td>\n",
       "      <td>NaN</td>\n",
       "      <td>...</td>\n",
       "      <td>NaN</td>\n",
       "      <td>NaN</td>\n",
       "      <td>NaN</td>\n",
       "      <td>NaN</td>\n",
       "      <td>NaN</td>\n",
       "      <td>NaN</td>\n",
       "      <td>NaN</td>\n",
       "      <td>NaN</td>\n",
       "      <td>NaN</td>\n",
       "      <td>NaN</td>\n",
       "    </tr>\n",
       "    <tr>\n",
       "      <th>2011-07-01 00:30:00</th>\n",
       "      <td>NaN</td>\n",
       "      <td>NaN</td>\n",
       "      <td>NaN</td>\n",
       "      <td>NaN</td>\n",
       "      <td>NaN</td>\n",
       "      <td>NaN</td>\n",
       "      <td>NaN</td>\n",
       "      <td>NaN</td>\n",
       "      <td>NaN</td>\n",
       "      <td>NaN</td>\n",
       "      <td>...</td>\n",
       "      <td>NaN</td>\n",
       "      <td>NaN</td>\n",
       "      <td>NaN</td>\n",
       "      <td>NaN</td>\n",
       "      <td>NaN</td>\n",
       "      <td>NaN</td>\n",
       "      <td>NaN</td>\n",
       "      <td>NaN</td>\n",
       "      <td>NaN</td>\n",
       "      <td>NaN</td>\n",
       "    </tr>\n",
       "    <tr>\n",
       "      <th>2011-07-01 01:00:00</th>\n",
       "      <td>NaN</td>\n",
       "      <td>NaN</td>\n",
       "      <td>NaN</td>\n",
       "      <td>NaN</td>\n",
       "      <td>NaN</td>\n",
       "      <td>NaN</td>\n",
       "      <td>NaN</td>\n",
       "      <td>NaN</td>\n",
       "      <td>NaN</td>\n",
       "      <td>NaN</td>\n",
       "      <td>...</td>\n",
       "      <td>NaN</td>\n",
       "      <td>NaN</td>\n",
       "      <td>NaN</td>\n",
       "      <td>NaN</td>\n",
       "      <td>NaN</td>\n",
       "      <td>NaN</td>\n",
       "      <td>NaN</td>\n",
       "      <td>NaN</td>\n",
       "      <td>NaN</td>\n",
       "      <td>NaN</td>\n",
       "    </tr>\n",
       "    <tr>\n",
       "      <th>2011-07-01 01:30:00</th>\n",
       "      <td>NaN</td>\n",
       "      <td>NaN</td>\n",
       "      <td>NaN</td>\n",
       "      <td>NaN</td>\n",
       "      <td>NaN</td>\n",
       "      <td>NaN</td>\n",
       "      <td>NaN</td>\n",
       "      <td>NaN</td>\n",
       "      <td>NaN</td>\n",
       "      <td>NaN</td>\n",
       "      <td>...</td>\n",
       "      <td>NaN</td>\n",
       "      <td>NaN</td>\n",
       "      <td>NaN</td>\n",
       "      <td>NaN</td>\n",
       "      <td>NaN</td>\n",
       "      <td>NaN</td>\n",
       "      <td>NaN</td>\n",
       "      <td>NaN</td>\n",
       "      <td>NaN</td>\n",
       "      <td>NaN</td>\n",
       "    </tr>\n",
       "    <tr>\n",
       "      <th>2011-07-01 02:00:00</th>\n",
       "      <td>NaN</td>\n",
       "      <td>NaN</td>\n",
       "      <td>NaN</td>\n",
       "      <td>NaN</td>\n",
       "      <td>NaN</td>\n",
       "      <td>NaN</td>\n",
       "      <td>NaN</td>\n",
       "      <td>NaN</td>\n",
       "      <td>NaN</td>\n",
       "      <td>NaN</td>\n",
       "      <td>...</td>\n",
       "      <td>NaN</td>\n",
       "      <td>NaN</td>\n",
       "      <td>NaN</td>\n",
       "      <td>NaN</td>\n",
       "      <td>NaN</td>\n",
       "      <td>NaN</td>\n",
       "      <td>NaN</td>\n",
       "      <td>NaN</td>\n",
       "      <td>NaN</td>\n",
       "      <td>NaN</td>\n",
       "    </tr>\n",
       "    <tr>\n",
       "      <th>...</th>\n",
       "      <td>...</td>\n",
       "      <td>...</td>\n",
       "      <td>...</td>\n",
       "      <td>...</td>\n",
       "      <td>...</td>\n",
       "      <td>...</td>\n",
       "      <td>...</td>\n",
       "      <td>...</td>\n",
       "      <td>...</td>\n",
       "      <td>...</td>\n",
       "      <td>...</td>\n",
       "      <td>...</td>\n",
       "      <td>...</td>\n",
       "      <td>...</td>\n",
       "      <td>...</td>\n",
       "      <td>...</td>\n",
       "      <td>...</td>\n",
       "      <td>...</td>\n",
       "      <td>...</td>\n",
       "      <td>...</td>\n",
       "      <td>...</td>\n",
       "    </tr>\n",
       "    <tr>\n",
       "      <th>2012-06-30 21:30:00</th>\n",
       "      <td>NaN</td>\n",
       "      <td>NaN</td>\n",
       "      <td>NaN</td>\n",
       "      <td>NaN</td>\n",
       "      <td>NaN</td>\n",
       "      <td>NaN</td>\n",
       "      <td>NaN</td>\n",
       "      <td>NaN</td>\n",
       "      <td>NaN</td>\n",
       "      <td>NaN</td>\n",
       "      <td>...</td>\n",
       "      <td>NaN</td>\n",
       "      <td>NaN</td>\n",
       "      <td>NaN</td>\n",
       "      <td>NaN</td>\n",
       "      <td>NaN</td>\n",
       "      <td>NaN</td>\n",
       "      <td>NaN</td>\n",
       "      <td>NaN</td>\n",
       "      <td>NaN</td>\n",
       "      <td>NaN</td>\n",
       "    </tr>\n",
       "    <tr>\n",
       "      <th>2012-06-30 22:00:00</th>\n",
       "      <td>NaN</td>\n",
       "      <td>NaN</td>\n",
       "      <td>NaN</td>\n",
       "      <td>NaN</td>\n",
       "      <td>NaN</td>\n",
       "      <td>NaN</td>\n",
       "      <td>NaN</td>\n",
       "      <td>NaN</td>\n",
       "      <td>NaN</td>\n",
       "      <td>NaN</td>\n",
       "      <td>...</td>\n",
       "      <td>NaN</td>\n",
       "      <td>NaN</td>\n",
       "      <td>NaN</td>\n",
       "      <td>NaN</td>\n",
       "      <td>NaN</td>\n",
       "      <td>NaN</td>\n",
       "      <td>NaN</td>\n",
       "      <td>NaN</td>\n",
       "      <td>NaN</td>\n",
       "      <td>NaN</td>\n",
       "    </tr>\n",
       "    <tr>\n",
       "      <th>2012-06-30 22:30:00</th>\n",
       "      <td>NaN</td>\n",
       "      <td>NaN</td>\n",
       "      <td>NaN</td>\n",
       "      <td>NaN</td>\n",
       "      <td>NaN</td>\n",
       "      <td>NaN</td>\n",
       "      <td>NaN</td>\n",
       "      <td>NaN</td>\n",
       "      <td>NaN</td>\n",
       "      <td>NaN</td>\n",
       "      <td>...</td>\n",
       "      <td>NaN</td>\n",
       "      <td>NaN</td>\n",
       "      <td>NaN</td>\n",
       "      <td>NaN</td>\n",
       "      <td>NaN</td>\n",
       "      <td>NaN</td>\n",
       "      <td>NaN</td>\n",
       "      <td>NaN</td>\n",
       "      <td>NaN</td>\n",
       "      <td>NaN</td>\n",
       "    </tr>\n",
       "    <tr>\n",
       "      <th>2012-06-30 23:00:00</th>\n",
       "      <td>NaN</td>\n",
       "      <td>NaN</td>\n",
       "      <td>NaN</td>\n",
       "      <td>NaN</td>\n",
       "      <td>NaN</td>\n",
       "      <td>NaN</td>\n",
       "      <td>NaN</td>\n",
       "      <td>NaN</td>\n",
       "      <td>NaN</td>\n",
       "      <td>NaN</td>\n",
       "      <td>...</td>\n",
       "      <td>NaN</td>\n",
       "      <td>NaN</td>\n",
       "      <td>NaN</td>\n",
       "      <td>NaN</td>\n",
       "      <td>NaN</td>\n",
       "      <td>NaN</td>\n",
       "      <td>NaN</td>\n",
       "      <td>NaN</td>\n",
       "      <td>NaN</td>\n",
       "      <td>NaN</td>\n",
       "    </tr>\n",
       "    <tr>\n",
       "      <th>2012-06-30 23:30:00</th>\n",
       "      <td>NaN</td>\n",
       "      <td>NaN</td>\n",
       "      <td>NaN</td>\n",
       "      <td>NaN</td>\n",
       "      <td>NaN</td>\n",
       "      <td>NaN</td>\n",
       "      <td>NaN</td>\n",
       "      <td>NaN</td>\n",
       "      <td>NaN</td>\n",
       "      <td>NaN</td>\n",
       "      <td>...</td>\n",
       "      <td>NaN</td>\n",
       "      <td>NaN</td>\n",
       "      <td>NaN</td>\n",
       "      <td>NaN</td>\n",
       "      <td>NaN</td>\n",
       "      <td>NaN</td>\n",
       "      <td>NaN</td>\n",
       "      <td>NaN</td>\n",
       "      <td>NaN</td>\n",
       "      <td>NaN</td>\n",
       "    </tr>\n",
       "  </tbody>\n",
       "</table>\n",
       "<p>17568 rows × 900 columns</p>\n",
       "</div>"
      ],
      "text/plain": [
       "Customer             1              2              3              4    ...  \\\n",
       "Channel               GC   GG   CL   GC   GG   CL   GC   GG   CL   GC  ...   \n",
       "2011-07-01 00:00:00  NaN  NaN  NaN  NaN  NaN  NaN  NaN  NaN  NaN  NaN  ...   \n",
       "2011-07-01 00:30:00  NaN  NaN  NaN  NaN  NaN  NaN  NaN  NaN  NaN  NaN  ...   \n",
       "2011-07-01 01:00:00  NaN  NaN  NaN  NaN  NaN  NaN  NaN  NaN  NaN  NaN  ...   \n",
       "2011-07-01 01:30:00  NaN  NaN  NaN  NaN  NaN  NaN  NaN  NaN  NaN  NaN  ...   \n",
       "2011-07-01 02:00:00  NaN  NaN  NaN  NaN  NaN  NaN  NaN  NaN  NaN  NaN  ...   \n",
       "...                  ...  ...  ...  ...  ...  ...  ...  ...  ...  ...  ...   \n",
       "2012-06-30 21:30:00  NaN  NaN  NaN  NaN  NaN  NaN  NaN  NaN  NaN  NaN  ...   \n",
       "2012-06-30 22:00:00  NaN  NaN  NaN  NaN  NaN  NaN  NaN  NaN  NaN  NaN  ...   \n",
       "2012-06-30 22:30:00  NaN  NaN  NaN  NaN  NaN  NaN  NaN  NaN  NaN  NaN  ...   \n",
       "2012-06-30 23:00:00  NaN  NaN  NaN  NaN  NaN  NaN  NaN  NaN  NaN  NaN  ...   \n",
       "2012-06-30 23:30:00  NaN  NaN  NaN  NaN  NaN  NaN  NaN  NaN  NaN  NaN  ...   \n",
       "\n",
       "Customer             297  298            299            300            \n",
       "Channel               CL   GC   GG   CL   GC   GG   CL   GC   GG   CL  \n",
       "2011-07-01 00:00:00  NaN  NaN  NaN  NaN  NaN  NaN  NaN  NaN  NaN  NaN  \n",
       "2011-07-01 00:30:00  NaN  NaN  NaN  NaN  NaN  NaN  NaN  NaN  NaN  NaN  \n",
       "2011-07-01 01:00:00  NaN  NaN  NaN  NaN  NaN  NaN  NaN  NaN  NaN  NaN  \n",
       "2011-07-01 01:30:00  NaN  NaN  NaN  NaN  NaN  NaN  NaN  NaN  NaN  NaN  \n",
       "2011-07-01 02:00:00  NaN  NaN  NaN  NaN  NaN  NaN  NaN  NaN  NaN  NaN  \n",
       "...                  ...  ...  ...  ...  ...  ...  ...  ...  ...  ...  \n",
       "2012-06-30 21:30:00  NaN  NaN  NaN  NaN  NaN  NaN  NaN  NaN  NaN  NaN  \n",
       "2012-06-30 22:00:00  NaN  NaN  NaN  NaN  NaN  NaN  NaN  NaN  NaN  NaN  \n",
       "2012-06-30 22:30:00  NaN  NaN  NaN  NaN  NaN  NaN  NaN  NaN  NaN  NaN  \n",
       "2012-06-30 23:00:00  NaN  NaN  NaN  NaN  NaN  NaN  NaN  NaN  NaN  NaN  \n",
       "2012-06-30 23:30:00  NaN  NaN  NaN  NaN  NaN  NaN  NaN  NaN  NaN  NaN  \n",
       "\n",
       "[17568 rows x 900 columns]"
      ]
     },
     "execution_count": 51,
     "metadata": {},
     "output_type": "execute_result"
    }
   ],
   "source": [
    "new_df_11 = pd.DataFrame(index=index_11, columns = columns_new_11)\n",
    "new_df_11"
   ]
  },
  {
   "cell_type": "code",
   "execution_count": 52,
   "id": "69e3b193",
   "metadata": {},
   "outputs": [
    {
     "data": {
      "text/html": [
       "<div>\n",
       "<style scoped>\n",
       "    .dataframe tbody tr th:only-of-type {\n",
       "        vertical-align: middle;\n",
       "    }\n",
       "\n",
       "    .dataframe tbody tr th {\n",
       "        vertical-align: top;\n",
       "    }\n",
       "\n",
       "    .dataframe thead tr th {\n",
       "        text-align: left;\n",
       "    }\n",
       "</style>\n",
       "<table border=\"1\" class=\"dataframe\">\n",
       "  <thead>\n",
       "    <tr>\n",
       "      <th>Customer</th>\n",
       "      <th colspan=\"3\" halign=\"left\">1</th>\n",
       "      <th colspan=\"3\" halign=\"left\">2</th>\n",
       "      <th colspan=\"3\" halign=\"left\">3</th>\n",
       "      <th>4</th>\n",
       "      <th>...</th>\n",
       "      <th>297</th>\n",
       "      <th colspan=\"3\" halign=\"left\">298</th>\n",
       "      <th colspan=\"3\" halign=\"left\">299</th>\n",
       "      <th colspan=\"3\" halign=\"left\">300</th>\n",
       "    </tr>\n",
       "    <tr>\n",
       "      <th>Channel</th>\n",
       "      <th>GC</th>\n",
       "      <th>GG</th>\n",
       "      <th>CL</th>\n",
       "      <th>GC</th>\n",
       "      <th>GG</th>\n",
       "      <th>CL</th>\n",
       "      <th>GC</th>\n",
       "      <th>GG</th>\n",
       "      <th>CL</th>\n",
       "      <th>GC</th>\n",
       "      <th>...</th>\n",
       "      <th>CL</th>\n",
       "      <th>GC</th>\n",
       "      <th>GG</th>\n",
       "      <th>CL</th>\n",
       "      <th>GC</th>\n",
       "      <th>GG</th>\n",
       "      <th>CL</th>\n",
       "      <th>GC</th>\n",
       "      <th>GG</th>\n",
       "      <th>CL</th>\n",
       "    </tr>\n",
       "  </thead>\n",
       "  <tbody>\n",
       "    <tr>\n",
       "      <th>2012-07-01 00:00:00</th>\n",
       "      <td>NaN</td>\n",
       "      <td>NaN</td>\n",
       "      <td>NaN</td>\n",
       "      <td>NaN</td>\n",
       "      <td>NaN</td>\n",
       "      <td>NaN</td>\n",
       "      <td>NaN</td>\n",
       "      <td>NaN</td>\n",
       "      <td>NaN</td>\n",
       "      <td>NaN</td>\n",
       "      <td>...</td>\n",
       "      <td>NaN</td>\n",
       "      <td>NaN</td>\n",
       "      <td>NaN</td>\n",
       "      <td>NaN</td>\n",
       "      <td>NaN</td>\n",
       "      <td>NaN</td>\n",
       "      <td>NaN</td>\n",
       "      <td>NaN</td>\n",
       "      <td>NaN</td>\n",
       "      <td>NaN</td>\n",
       "    </tr>\n",
       "    <tr>\n",
       "      <th>2012-07-01 00:30:00</th>\n",
       "      <td>NaN</td>\n",
       "      <td>NaN</td>\n",
       "      <td>NaN</td>\n",
       "      <td>NaN</td>\n",
       "      <td>NaN</td>\n",
       "      <td>NaN</td>\n",
       "      <td>NaN</td>\n",
       "      <td>NaN</td>\n",
       "      <td>NaN</td>\n",
       "      <td>NaN</td>\n",
       "      <td>...</td>\n",
       "      <td>NaN</td>\n",
       "      <td>NaN</td>\n",
       "      <td>NaN</td>\n",
       "      <td>NaN</td>\n",
       "      <td>NaN</td>\n",
       "      <td>NaN</td>\n",
       "      <td>NaN</td>\n",
       "      <td>NaN</td>\n",
       "      <td>NaN</td>\n",
       "      <td>NaN</td>\n",
       "    </tr>\n",
       "    <tr>\n",
       "      <th>2012-07-01 01:00:00</th>\n",
       "      <td>NaN</td>\n",
       "      <td>NaN</td>\n",
       "      <td>NaN</td>\n",
       "      <td>NaN</td>\n",
       "      <td>NaN</td>\n",
       "      <td>NaN</td>\n",
       "      <td>NaN</td>\n",
       "      <td>NaN</td>\n",
       "      <td>NaN</td>\n",
       "      <td>NaN</td>\n",
       "      <td>...</td>\n",
       "      <td>NaN</td>\n",
       "      <td>NaN</td>\n",
       "      <td>NaN</td>\n",
       "      <td>NaN</td>\n",
       "      <td>NaN</td>\n",
       "      <td>NaN</td>\n",
       "      <td>NaN</td>\n",
       "      <td>NaN</td>\n",
       "      <td>NaN</td>\n",
       "      <td>NaN</td>\n",
       "    </tr>\n",
       "    <tr>\n",
       "      <th>2012-07-01 01:30:00</th>\n",
       "      <td>NaN</td>\n",
       "      <td>NaN</td>\n",
       "      <td>NaN</td>\n",
       "      <td>NaN</td>\n",
       "      <td>NaN</td>\n",
       "      <td>NaN</td>\n",
       "      <td>NaN</td>\n",
       "      <td>NaN</td>\n",
       "      <td>NaN</td>\n",
       "      <td>NaN</td>\n",
       "      <td>...</td>\n",
       "      <td>NaN</td>\n",
       "      <td>NaN</td>\n",
       "      <td>NaN</td>\n",
       "      <td>NaN</td>\n",
       "      <td>NaN</td>\n",
       "      <td>NaN</td>\n",
       "      <td>NaN</td>\n",
       "      <td>NaN</td>\n",
       "      <td>NaN</td>\n",
       "      <td>NaN</td>\n",
       "    </tr>\n",
       "    <tr>\n",
       "      <th>2012-07-01 02:00:00</th>\n",
       "      <td>NaN</td>\n",
       "      <td>NaN</td>\n",
       "      <td>NaN</td>\n",
       "      <td>NaN</td>\n",
       "      <td>NaN</td>\n",
       "      <td>NaN</td>\n",
       "      <td>NaN</td>\n",
       "      <td>NaN</td>\n",
       "      <td>NaN</td>\n",
       "      <td>NaN</td>\n",
       "      <td>...</td>\n",
       "      <td>NaN</td>\n",
       "      <td>NaN</td>\n",
       "      <td>NaN</td>\n",
       "      <td>NaN</td>\n",
       "      <td>NaN</td>\n",
       "      <td>NaN</td>\n",
       "      <td>NaN</td>\n",
       "      <td>NaN</td>\n",
       "      <td>NaN</td>\n",
       "      <td>NaN</td>\n",
       "    </tr>\n",
       "    <tr>\n",
       "      <th>...</th>\n",
       "      <td>...</td>\n",
       "      <td>...</td>\n",
       "      <td>...</td>\n",
       "      <td>...</td>\n",
       "      <td>...</td>\n",
       "      <td>...</td>\n",
       "      <td>...</td>\n",
       "      <td>...</td>\n",
       "      <td>...</td>\n",
       "      <td>...</td>\n",
       "      <td>...</td>\n",
       "      <td>...</td>\n",
       "      <td>...</td>\n",
       "      <td>...</td>\n",
       "      <td>...</td>\n",
       "      <td>...</td>\n",
       "      <td>...</td>\n",
       "      <td>...</td>\n",
       "      <td>...</td>\n",
       "      <td>...</td>\n",
       "      <td>...</td>\n",
       "    </tr>\n",
       "    <tr>\n",
       "      <th>2013-06-30 21:30:00</th>\n",
       "      <td>NaN</td>\n",
       "      <td>NaN</td>\n",
       "      <td>NaN</td>\n",
       "      <td>NaN</td>\n",
       "      <td>NaN</td>\n",
       "      <td>NaN</td>\n",
       "      <td>NaN</td>\n",
       "      <td>NaN</td>\n",
       "      <td>NaN</td>\n",
       "      <td>NaN</td>\n",
       "      <td>...</td>\n",
       "      <td>NaN</td>\n",
       "      <td>NaN</td>\n",
       "      <td>NaN</td>\n",
       "      <td>NaN</td>\n",
       "      <td>NaN</td>\n",
       "      <td>NaN</td>\n",
       "      <td>NaN</td>\n",
       "      <td>NaN</td>\n",
       "      <td>NaN</td>\n",
       "      <td>NaN</td>\n",
       "    </tr>\n",
       "    <tr>\n",
       "      <th>2013-06-30 22:00:00</th>\n",
       "      <td>NaN</td>\n",
       "      <td>NaN</td>\n",
       "      <td>NaN</td>\n",
       "      <td>NaN</td>\n",
       "      <td>NaN</td>\n",
       "      <td>NaN</td>\n",
       "      <td>NaN</td>\n",
       "      <td>NaN</td>\n",
       "      <td>NaN</td>\n",
       "      <td>NaN</td>\n",
       "      <td>...</td>\n",
       "      <td>NaN</td>\n",
       "      <td>NaN</td>\n",
       "      <td>NaN</td>\n",
       "      <td>NaN</td>\n",
       "      <td>NaN</td>\n",
       "      <td>NaN</td>\n",
       "      <td>NaN</td>\n",
       "      <td>NaN</td>\n",
       "      <td>NaN</td>\n",
       "      <td>NaN</td>\n",
       "    </tr>\n",
       "    <tr>\n",
       "      <th>2013-06-30 22:30:00</th>\n",
       "      <td>NaN</td>\n",
       "      <td>NaN</td>\n",
       "      <td>NaN</td>\n",
       "      <td>NaN</td>\n",
       "      <td>NaN</td>\n",
       "      <td>NaN</td>\n",
       "      <td>NaN</td>\n",
       "      <td>NaN</td>\n",
       "      <td>NaN</td>\n",
       "      <td>NaN</td>\n",
       "      <td>...</td>\n",
       "      <td>NaN</td>\n",
       "      <td>NaN</td>\n",
       "      <td>NaN</td>\n",
       "      <td>NaN</td>\n",
       "      <td>NaN</td>\n",
       "      <td>NaN</td>\n",
       "      <td>NaN</td>\n",
       "      <td>NaN</td>\n",
       "      <td>NaN</td>\n",
       "      <td>NaN</td>\n",
       "    </tr>\n",
       "    <tr>\n",
       "      <th>2013-06-30 23:00:00</th>\n",
       "      <td>NaN</td>\n",
       "      <td>NaN</td>\n",
       "      <td>NaN</td>\n",
       "      <td>NaN</td>\n",
       "      <td>NaN</td>\n",
       "      <td>NaN</td>\n",
       "      <td>NaN</td>\n",
       "      <td>NaN</td>\n",
       "      <td>NaN</td>\n",
       "      <td>NaN</td>\n",
       "      <td>...</td>\n",
       "      <td>NaN</td>\n",
       "      <td>NaN</td>\n",
       "      <td>NaN</td>\n",
       "      <td>NaN</td>\n",
       "      <td>NaN</td>\n",
       "      <td>NaN</td>\n",
       "      <td>NaN</td>\n",
       "      <td>NaN</td>\n",
       "      <td>NaN</td>\n",
       "      <td>NaN</td>\n",
       "    </tr>\n",
       "    <tr>\n",
       "      <th>2013-06-30 23:30:00</th>\n",
       "      <td>NaN</td>\n",
       "      <td>NaN</td>\n",
       "      <td>NaN</td>\n",
       "      <td>NaN</td>\n",
       "      <td>NaN</td>\n",
       "      <td>NaN</td>\n",
       "      <td>NaN</td>\n",
       "      <td>NaN</td>\n",
       "      <td>NaN</td>\n",
       "      <td>NaN</td>\n",
       "      <td>...</td>\n",
       "      <td>NaN</td>\n",
       "      <td>NaN</td>\n",
       "      <td>NaN</td>\n",
       "      <td>NaN</td>\n",
       "      <td>NaN</td>\n",
       "      <td>NaN</td>\n",
       "      <td>NaN</td>\n",
       "      <td>NaN</td>\n",
       "      <td>NaN</td>\n",
       "      <td>NaN</td>\n",
       "    </tr>\n",
       "  </tbody>\n",
       "</table>\n",
       "<p>17520 rows × 900 columns</p>\n",
       "</div>"
      ],
      "text/plain": [
       "Customer             1              2              3              4    ...  \\\n",
       "Channel               GC   GG   CL   GC   GG   CL   GC   GG   CL   GC  ...   \n",
       "2012-07-01 00:00:00  NaN  NaN  NaN  NaN  NaN  NaN  NaN  NaN  NaN  NaN  ...   \n",
       "2012-07-01 00:30:00  NaN  NaN  NaN  NaN  NaN  NaN  NaN  NaN  NaN  NaN  ...   \n",
       "2012-07-01 01:00:00  NaN  NaN  NaN  NaN  NaN  NaN  NaN  NaN  NaN  NaN  ...   \n",
       "2012-07-01 01:30:00  NaN  NaN  NaN  NaN  NaN  NaN  NaN  NaN  NaN  NaN  ...   \n",
       "2012-07-01 02:00:00  NaN  NaN  NaN  NaN  NaN  NaN  NaN  NaN  NaN  NaN  ...   \n",
       "...                  ...  ...  ...  ...  ...  ...  ...  ...  ...  ...  ...   \n",
       "2013-06-30 21:30:00  NaN  NaN  NaN  NaN  NaN  NaN  NaN  NaN  NaN  NaN  ...   \n",
       "2013-06-30 22:00:00  NaN  NaN  NaN  NaN  NaN  NaN  NaN  NaN  NaN  NaN  ...   \n",
       "2013-06-30 22:30:00  NaN  NaN  NaN  NaN  NaN  NaN  NaN  NaN  NaN  NaN  ...   \n",
       "2013-06-30 23:00:00  NaN  NaN  NaN  NaN  NaN  NaN  NaN  NaN  NaN  NaN  ...   \n",
       "2013-06-30 23:30:00  NaN  NaN  NaN  NaN  NaN  NaN  NaN  NaN  NaN  NaN  ...   \n",
       "\n",
       "Customer             297  298            299            300            \n",
       "Channel               CL   GC   GG   CL   GC   GG   CL   GC   GG   CL  \n",
       "2012-07-01 00:00:00  NaN  NaN  NaN  NaN  NaN  NaN  NaN  NaN  NaN  NaN  \n",
       "2012-07-01 00:30:00  NaN  NaN  NaN  NaN  NaN  NaN  NaN  NaN  NaN  NaN  \n",
       "2012-07-01 01:00:00  NaN  NaN  NaN  NaN  NaN  NaN  NaN  NaN  NaN  NaN  \n",
       "2012-07-01 01:30:00  NaN  NaN  NaN  NaN  NaN  NaN  NaN  NaN  NaN  NaN  \n",
       "2012-07-01 02:00:00  NaN  NaN  NaN  NaN  NaN  NaN  NaN  NaN  NaN  NaN  \n",
       "...                  ...  ...  ...  ...  ...  ...  ...  ...  ...  ...  \n",
       "2013-06-30 21:30:00  NaN  NaN  NaN  NaN  NaN  NaN  NaN  NaN  NaN  NaN  \n",
       "2013-06-30 22:00:00  NaN  NaN  NaN  NaN  NaN  NaN  NaN  NaN  NaN  NaN  \n",
       "2013-06-30 22:30:00  NaN  NaN  NaN  NaN  NaN  NaN  NaN  NaN  NaN  NaN  \n",
       "2013-06-30 23:00:00  NaN  NaN  NaN  NaN  NaN  NaN  NaN  NaN  NaN  NaN  \n",
       "2013-06-30 23:30:00  NaN  NaN  NaN  NaN  NaN  NaN  NaN  NaN  NaN  NaN  \n",
       "\n",
       "[17520 rows x 900 columns]"
      ]
     },
     "execution_count": 52,
     "metadata": {},
     "output_type": "execute_result"
    }
   ],
   "source": [
    "new_df_12 = pd.DataFrame(index=index_12, columns = columns_new_12)\n",
    "new_df_12"
   ]
  },
  {
   "cell_type": "code",
   "execution_count": 53,
   "id": "bef231d8",
   "metadata": {},
   "outputs": [],
   "source": [
    "missing_records_10 = []\n",
    "\n",
    "for c_10 in customers_10:\n",
    "    dc_10 = solar_df_10[solar_df_10.Customer == c_10]\n",
    "    for ch in channels:\n",
    "        dcch_10 = dc_10[dc_10['Consumption Category'] == ch]\n",
    "        ts_10 = dcch_10.iloc[:,5:-1].values.ravel()\n",
    "        if len(ts_10) != len(index_10):\n",
    "            missing_records_10.append((c_10, ch, len(ts_10)))\n",
    "        else:\n",
    "            new_df_10[c_10, ch]= ts_10"
   ]
  },
  {
   "cell_type": "code",
   "execution_count": 54,
   "id": "f4ee3c47",
   "metadata": {},
   "outputs": [],
   "source": [
    "missing_records_11 = []\n",
    "\n",
    "for c_11 in customers_11:\n",
    "    dc_11 = solar_df_11[solar_df_11.Customer == c_11]\n",
    "    for ch in channels:\n",
    "        dcch_11 = dc_11[dc_11['Consumption Category'] == ch]\n",
    "        ts_11 = dcch_11.iloc[:,5:-1].values.ravel()\n",
    "        if len(ts_11) != len(index_11):\n",
    "            missing_records_11.append((c_11, ch, len(ts_11)))\n",
    "        else:\n",
    "            new_df_11[c_11, ch]= ts_11"
   ]
  },
  {
   "cell_type": "code",
   "execution_count": 55,
   "id": "5cd37827",
   "metadata": {},
   "outputs": [],
   "source": [
    "missing_records_12 = []\n",
    "\n",
    "for c_12 in customers_12:\n",
    "    dc_12 = solar_df_12[solar_df_12.Customer == c_12]\n",
    "    for ch in channels:\n",
    "        dcch_12 = dc_12[dc_12['Consumption Category'] == ch]\n",
    "        ts_12 = dcch_12.iloc[:,5:-1].values.ravel()\n",
    "        if len(ts_12) != len(index_12):\n",
    "            missing_records_12.append((c_12, ch, len(ts_12)))\n",
    "        else:\n",
    "            new_df_12[c_12, ch]= ts_12"
   ]
  },
  {
   "cell_type": "code",
   "execution_count": 56,
   "id": "f8a02f23",
   "metadata": {},
   "outputs": [
    {
     "data": {
      "text/plain": [
       "900"
      ]
     },
     "execution_count": 56,
     "metadata": {},
     "output_type": "execute_result"
    }
   ],
   "source": [
    "# len(columns_10)\n",
    "len(new_df_10.columns)"
   ]
  },
  {
   "cell_type": "code",
   "execution_count": 57,
   "id": "6a07abf3",
   "metadata": {},
   "outputs": [
    {
     "data": {
      "text/plain": [
       "900"
      ]
     },
     "execution_count": 57,
     "metadata": {},
     "output_type": "execute_result"
    }
   ],
   "source": [
    "# len(columns_11)\n",
    "len(new_df_11.columns)"
   ]
  },
  {
   "cell_type": "code",
   "execution_count": 58,
   "id": "8551f1ef",
   "metadata": {},
   "outputs": [
    {
     "data": {
      "text/plain": [
       "900"
      ]
     },
     "execution_count": 58,
     "metadata": {},
     "output_type": "execute_result"
    }
   ],
   "source": [
    "# len(columns_12)\n",
    "len(new_df_12.columns)"
   ]
  },
  {
   "cell_type": "code",
   "execution_count": 59,
   "id": "b164ff02",
   "metadata": {},
   "outputs": [
    {
     "data": {
      "text/plain": [
       "161"
      ]
     },
     "execution_count": 59,
     "metadata": {},
     "output_type": "execute_result"
    }
   ],
   "source": [
    "len(missing_records_10)"
   ]
  },
  {
   "cell_type": "code",
   "execution_count": 60,
   "id": "ece93d4e",
   "metadata": {},
   "outputs": [
    {
     "data": {
      "text/plain": [
       "162"
      ]
     },
     "execution_count": 60,
     "metadata": {},
     "output_type": "execute_result"
    }
   ],
   "source": [
    "len(missing_records_11)"
   ]
  },
  {
   "cell_type": "code",
   "execution_count": 61,
   "id": "4336bafd",
   "metadata": {},
   "outputs": [
    {
     "data": {
      "text/plain": [
       "175"
      ]
     },
     "execution_count": 61,
     "metadata": {},
     "output_type": "execute_result"
    }
   ],
   "source": [
    "len(missing_records_12)"
   ]
  },
  {
   "cell_type": "code",
   "execution_count": 62,
   "id": "68010ef2",
   "metadata": {},
   "outputs": [
    {
     "data": {
      "text/plain": [
       "[(11, 'CL', 0),\n",
       " (12, 'CL', 0),\n",
       " (13, 'CL', 0),\n",
       " (16, 'CL', 0),\n",
       " (17, 'CL', 0),\n",
       " (20, 'CL', 0),\n",
       " (21, 'CL', 0),\n",
       " (22, 'CL', 0),\n",
       " (24, 'CL', 0),\n",
       " (25, 'CL', 0),\n",
       " (26, 'CL', 0),\n",
       " (28, 'CL', 0),\n",
       " (31, 'CL', 0),\n",
       " (32, 'CL', 0),\n",
       " (33, 'CL', 0),\n",
       " (34, 'CL', 0),\n",
       " (38, 'CL', 0),\n",
       " (40, 'CL', 0),\n",
       " (44, 'CL', 0),\n",
       " (45, 'CL', 0),\n",
       " (46, 'CL', 0),\n",
       " (47, 'CL', 0),\n",
       " (48, 'CL', 0),\n",
       " (50, 'CL', 0),\n",
       " (52, 'CL', 0),\n",
       " (55, 'CL', 0),\n",
       " (57, 'CL', 0),\n",
       " (58, 'CL', 0),\n",
       " (60, 'CL', 0),\n",
       " (62, 'CL', 0),\n",
       " (63, 'CL', 0),\n",
       " (67, 'CL', 0),\n",
       " (72, 'CL', 0),\n",
       " (74, 'CL', 0),\n",
       " (76, 'CL', 0),\n",
       " (78, 'CL', 0),\n",
       " (79, 'CL', 0),\n",
       " (80, 'CL', 0),\n",
       " (82, 'CL', 0),\n",
       " (83, 'CL', 0),\n",
       " (85, 'CL', 0),\n",
       " (86, 'CL', 0),\n",
       " (89, 'CL', 0),\n",
       " (90, 'CL', 0),\n",
       " (91, 'CL', 0),\n",
       " (92, 'CL', 0),\n",
       " (93, 'CL', 0),\n",
       " (97, 'CL', 0),\n",
       " (100, 'CL', 0),\n",
       " (101, 'CL', 0),\n",
       " (102, 'CL', 0),\n",
       " (103, 'CL', 0),\n",
       " (104, 'CL', 0),\n",
       " (106, 'CL', 0),\n",
       " (109, 'CL', 0),\n",
       " (111, 'CL', 0),\n",
       " (113, 'CL', 0),\n",
       " (114, 'CL', 0),\n",
       " (115, 'CL', 0),\n",
       " (116, 'CL', 0),\n",
       " (117, 'CL', 0),\n",
       " (120, 'CL', 0),\n",
       " (121, 'CL', 0),\n",
       " (124, 'CL', 0),\n",
       " (128, 'CL', 0),\n",
       " (130, 'CL', 0),\n",
       " (131, 'CL', 0),\n",
       " (132, 'CL', 0),\n",
       " (134, 'CL', 0),\n",
       " (135, 'CL', 0),\n",
       " (136, 'CL', 0),\n",
       " (138, 'CL', 0),\n",
       " (139, 'CL', 0),\n",
       " (141, 'CL', 0),\n",
       " (142, 'CL', 0),\n",
       " (143, 'CL', 0),\n",
       " (144, 'CL', 0),\n",
       " (147, 'CL', 0),\n",
       " (149, 'CL', 0),\n",
       " (152, 'CL', 0),\n",
       " (153, 'CL', 0),\n",
       " (157, 'CL', 0),\n",
       " (159, 'CL', 0),\n",
       " (162, 'CL', 0),\n",
       " (164, 'CL', 0),\n",
       " (165, 'CL', 0),\n",
       " (166, 'CL', 0),\n",
       " (169, 'CL', 0),\n",
       " (170, 'CL', 0),\n",
       " (172, 'CL', 0),\n",
       " (175, 'CL', 0),\n",
       " (176, 'CL', 0),\n",
       " (177, 'CL', 0),\n",
       " (179, 'CL', 0),\n",
       " (180, 'CL', 0),\n",
       " (181, 'CL', 0),\n",
       " (182, 'CL', 0),\n",
       " (183, 'CL', 0),\n",
       " (185, 'CL', 0),\n",
       " (188, 'CL', 0),\n",
       " (189, 'CL', 0),\n",
       " (190, 'CL', 0),\n",
       " (191, 'CL', 0),\n",
       " (192, 'CL', 0),\n",
       " (195, 'CL', 0),\n",
       " (197, 'CL', 0),\n",
       " (198, 'CL', 0),\n",
       " (199, 'CL', 0),\n",
       " (200, 'CL', 0),\n",
       " (201, 'CL', 0),\n",
       " (203, 'CL', 0),\n",
       " (205, 'CL', 0),\n",
       " (207, 'CL', 0),\n",
       " (211, 'CL', 0),\n",
       " (213, 'CL', 0),\n",
       " (214, 'CL', 0),\n",
       " (216, 'CL', 0),\n",
       " (218, 'CL', 0),\n",
       " (220, 'CL', 0),\n",
       " (222, 'CL', 0),\n",
       " (224, 'CL', 0),\n",
       " (228, 'CL', 0),\n",
       " (229, 'CL', 0),\n",
       " (230, 'CL', 0),\n",
       " (231, 'CL', 0),\n",
       " (233, 'CL', 0),\n",
       " (236, 'CL', 0),\n",
       " (237, 'CL', 0),\n",
       " (238, 'CL', 0),\n",
       " (240, 'CL', 0),\n",
       " (242, 'CL', 0),\n",
       " (244, 'CL', 0),\n",
       " (250, 'CL', 0),\n",
       " (251, 'CL', 0),\n",
       " (253, 'CL', 0),\n",
       " (254, 'CL', 0),\n",
       " (255, 'CL', 0),\n",
       " (256, 'CL', 0),\n",
       " (257, 'CL', 0),\n",
       " (258, 'CL', 0),\n",
       " (260, 'CL', 0),\n",
       " (262, 'CL', 0),\n",
       " (263, 'CL', 0),\n",
       " (265, 'CL', 0),\n",
       " (266, 'CL', 0),\n",
       " (267, 'CL', 0),\n",
       " (268, 'CL', 0),\n",
       " (269, 'CL', 0),\n",
       " (273, 'CL', 0),\n",
       " (275, 'CL', 0),\n",
       " (276, 'CL', 0),\n",
       " (278, 'CL', 0),\n",
       " (280, 'CL', 0),\n",
       " (282, 'CL', 0),\n",
       " (288, 'CL', 0),\n",
       " (291, 'CL', 0),\n",
       " (292, 'CL', 0),\n",
       " (295, 'CL', 0),\n",
       " (296, 'CL', 0),\n",
       " (298, 'CL', 0),\n",
       " (299, 'CL', 0)]"
      ]
     },
     "execution_count": 62,
     "metadata": {},
     "output_type": "execute_result"
    }
   ],
   "source": [
    "missing_records_10"
   ]
  },
  {
   "cell_type": "code",
   "execution_count": 63,
   "id": "9e4fe2b3",
   "metadata": {},
   "outputs": [
    {
     "data": {
      "text/plain": [
       "[(11, 'CL', 0),\n",
       " (12, 'CL', 0),\n",
       " (13, 'CL', 0),\n",
       " (16, 'CL', 0),\n",
       " (17, 'CL', 0),\n",
       " (20, 'CL', 0),\n",
       " (21, 'CL', 0),\n",
       " (22, 'CL', 0),\n",
       " (24, 'CL', 0),\n",
       " (25, 'CL', 0),\n",
       " (26, 'CL', 0),\n",
       " (27, 'CL', 9408),\n",
       " (28, 'CL', 0),\n",
       " (31, 'CL', 0),\n",
       " (32, 'CL', 0),\n",
       " (33, 'CL', 0),\n",
       " (34, 'CL', 0),\n",
       " (38, 'CL', 0),\n",
       " (40, 'CL', 0),\n",
       " (44, 'CL', 0),\n",
       " (45, 'CL', 0),\n",
       " (46, 'CL', 0),\n",
       " (47, 'CL', 0),\n",
       " (48, 'CL', 0),\n",
       " (50, 'CL', 0),\n",
       " (52, 'CL', 0),\n",
       " (55, 'CL', 0),\n",
       " (57, 'CL', 0),\n",
       " (58, 'CL', 0),\n",
       " (60, 'CL', 0),\n",
       " (62, 'CL', 0),\n",
       " (63, 'CL', 0),\n",
       " (67, 'CL', 0),\n",
       " (72, 'CL', 0),\n",
       " (74, 'CL', 0),\n",
       " (76, 'CL', 0),\n",
       " (78, 'CL', 0),\n",
       " (79, 'CL', 0),\n",
       " (80, 'CL', 0),\n",
       " (82, 'CL', 0),\n",
       " (83, 'CL', 0),\n",
       " (85, 'CL', 0),\n",
       " (86, 'CL', 0),\n",
       " (89, 'CL', 0),\n",
       " (90, 'CL', 0),\n",
       " (91, 'CL', 0),\n",
       " (92, 'CL', 0),\n",
       " (93, 'CL', 0),\n",
       " (97, 'CL', 0),\n",
       " (100, 'CL', 0),\n",
       " (101, 'CL', 0),\n",
       " (102, 'CL', 0),\n",
       " (103, 'CL', 0),\n",
       " (104, 'CL', 0),\n",
       " (106, 'CL', 0),\n",
       " (109, 'CL', 0),\n",
       " (111, 'CL', 0),\n",
       " (113, 'CL', 0),\n",
       " (114, 'CL', 0),\n",
       " (115, 'CL', 0),\n",
       " (116, 'CL', 0),\n",
       " (117, 'CL', 0),\n",
       " (120, 'CL', 0),\n",
       " (121, 'CL', 0),\n",
       " (124, 'CL', 0),\n",
       " (128, 'CL', 0),\n",
       " (130, 'CL', 0),\n",
       " (131, 'CL', 0),\n",
       " (132, 'CL', 0),\n",
       " (134, 'CL', 0),\n",
       " (135, 'CL', 0),\n",
       " (136, 'CL', 0),\n",
       " (138, 'CL', 0),\n",
       " (139, 'CL', 0),\n",
       " (141, 'CL', 0),\n",
       " (142, 'CL', 0),\n",
       " (143, 'CL', 0),\n",
       " (144, 'CL', 0),\n",
       " (147, 'CL', 0),\n",
       " (149, 'CL', 0),\n",
       " (152, 'CL', 0),\n",
       " (153, 'CL', 0),\n",
       " (157, 'CL', 0),\n",
       " (159, 'CL', 0),\n",
       " (162, 'CL', 0),\n",
       " (164, 'CL', 0),\n",
       " (165, 'CL', 0),\n",
       " (166, 'CL', 0),\n",
       " (169, 'CL', 0),\n",
       " (170, 'CL', 0),\n",
       " (172, 'CL', 0),\n",
       " (175, 'CL', 0),\n",
       " (176, 'CL', 0),\n",
       " (177, 'CL', 0),\n",
       " (179, 'CL', 0),\n",
       " (180, 'CL', 0),\n",
       " (181, 'CL', 0),\n",
       " (182, 'CL', 0),\n",
       " (183, 'CL', 0),\n",
       " (185, 'CL', 0),\n",
       " (188, 'CL', 0),\n",
       " (189, 'CL', 0),\n",
       " (190, 'CL', 0),\n",
       " (191, 'CL', 0),\n",
       " (192, 'CL', 0),\n",
       " (195, 'CL', 0),\n",
       " (197, 'CL', 0),\n",
       " (198, 'CL', 0),\n",
       " (199, 'CL', 0),\n",
       " (200, 'CL', 0),\n",
       " (201, 'CL', 0),\n",
       " (203, 'CL', 0),\n",
       " (205, 'CL', 0),\n",
       " (207, 'CL', 0),\n",
       " (211, 'CL', 0),\n",
       " (213, 'CL', 0),\n",
       " (214, 'CL', 0),\n",
       " (216, 'CL', 0),\n",
       " (218, 'CL', 0),\n",
       " (220, 'CL', 0),\n",
       " (222, 'CL', 0),\n",
       " (224, 'CL', 0),\n",
       " (228, 'CL', 0),\n",
       " (229, 'CL', 0),\n",
       " (230, 'CL', 0),\n",
       " (231, 'CL', 0),\n",
       " (233, 'CL', 0),\n",
       " (236, 'CL', 0),\n",
       " (237, 'CL', 0),\n",
       " (238, 'CL', 0),\n",
       " (240, 'CL', 0),\n",
       " (242, 'CL', 0),\n",
       " (244, 'CL', 0),\n",
       " (250, 'CL', 0),\n",
       " (251, 'CL', 0),\n",
       " (253, 'CL', 0),\n",
       " (254, 'CL', 0),\n",
       " (255, 'CL', 0),\n",
       " (256, 'CL', 0),\n",
       " (257, 'CL', 0),\n",
       " (258, 'CL', 0),\n",
       " (260, 'CL', 0),\n",
       " (262, 'CL', 0),\n",
       " (263, 'CL', 0),\n",
       " (265, 'CL', 0),\n",
       " (266, 'CL', 0),\n",
       " (267, 'CL', 0),\n",
       " (268, 'CL', 0),\n",
       " (269, 'CL', 0),\n",
       " (273, 'CL', 0),\n",
       " (275, 'CL', 0),\n",
       " (276, 'CL', 0),\n",
       " (278, 'CL', 0),\n",
       " (280, 'CL', 0),\n",
       " (282, 'CL', 0),\n",
       " (288, 'CL', 0),\n",
       " (291, 'CL', 0),\n",
       " (292, 'CL', 0),\n",
       " (295, 'CL', 0),\n",
       " (296, 'CL', 0),\n",
       " (298, 'CL', 0),\n",
       " (299, 'CL', 0)]"
      ]
     },
     "execution_count": 63,
     "metadata": {},
     "output_type": "execute_result"
    }
   ],
   "source": [
    "missing_records_11"
   ]
  },
  {
   "cell_type": "code",
   "execution_count": 64,
   "id": "e2eb4c9e",
   "metadata": {},
   "outputs": [
    {
     "data": {
      "text/plain": [
       "[(2, 'GC', 13632),\n",
       " (2, 'GG', 13632),\n",
       " (2, 'CL', 13632),\n",
       " (11, 'CL', 0),\n",
       " (12, 'CL', 0),\n",
       " (13, 'CL', 0),\n",
       " (16, 'CL', 0),\n",
       " (17, 'CL', 0),\n",
       " (20, 'CL', 0),\n",
       " (21, 'CL', 0),\n",
       " (22, 'CL', 0),\n",
       " (24, 'CL', 0),\n",
       " (25, 'CL', 0),\n",
       " (26, 'CL', 0),\n",
       " (27, 'CL', 0),\n",
       " (28, 'CL', 0),\n",
       " (31, 'CL', 0),\n",
       " (32, 'CL', 0),\n",
       " (33, 'CL', 0),\n",
       " (34, 'CL', 0),\n",
       " (38, 'CL', 0),\n",
       " (40, 'CL', 0),\n",
       " (44, 'CL', 0),\n",
       " (45, 'CL', 0),\n",
       " (46, 'CL', 0),\n",
       " (47, 'CL', 0),\n",
       " (48, 'CL', 0),\n",
       " (50, 'CL', 0),\n",
       " (52, 'CL', 0),\n",
       " (55, 'CL', 0),\n",
       " (57, 'CL', 0),\n",
       " (58, 'CL', 0),\n",
       " (60, 'CL', 0),\n",
       " (62, 'CL', 0),\n",
       " (63, 'CL', 0),\n",
       " (67, 'CL', 0),\n",
       " (68, 'CL', 14400),\n",
       " (72, 'CL', 0),\n",
       " (74, 'CL', 0),\n",
       " (76, 'CL', 0),\n",
       " (78, 'CL', 0),\n",
       " (79, 'CL', 0),\n",
       " (80, 'CL', 0),\n",
       " (82, 'CL', 0),\n",
       " (83, 'CL', 0),\n",
       " (85, 'CL', 0),\n",
       " (86, 'CL', 0),\n",
       " (89, 'CL', 0),\n",
       " (90, 'CL', 0),\n",
       " (91, 'CL', 0),\n",
       " (92, 'CL', 0),\n",
       " (93, 'CL', 0),\n",
       " (95, 'CL', 15264),\n",
       " (97, 'CL', 0),\n",
       " (100, 'CL', 0),\n",
       " (101, 'CL', 0),\n",
       " (102, 'CL', 0),\n",
       " (103, 'CL', 0),\n",
       " (104, 'CL', 0),\n",
       " (106, 'CL', 0),\n",
       " (109, 'CL', 0),\n",
       " (111, 'CL', 0),\n",
       " (113, 'CL', 0),\n",
       " (114, 'CL', 0),\n",
       " (115, 'CL', 0),\n",
       " (116, 'CL', 0),\n",
       " (117, 'CL', 0),\n",
       " (120, 'CL', 0),\n",
       " (121, 'CL', 0),\n",
       " (124, 'CL', 0),\n",
       " (128, 'CL', 0),\n",
       " (130, 'CL', 0),\n",
       " (131, 'CL', 0),\n",
       " (132, 'CL', 0),\n",
       " (134, 'CL', 0),\n",
       " (135, 'CL', 0),\n",
       " (136, 'CL', 0),\n",
       " (138, 'CL', 0),\n",
       " (139, 'CL', 0),\n",
       " (141, 'CL', 0),\n",
       " (142, 'CL', 0),\n",
       " (143, 'CL', 0),\n",
       " (144, 'CL', 0),\n",
       " (147, 'CL', 0),\n",
       " (149, 'CL', 0),\n",
       " (152, 'CL', 0),\n",
       " (153, 'CL', 0),\n",
       " (157, 'CL', 0),\n",
       " (159, 'CL', 0),\n",
       " (161, 'CL', 14688),\n",
       " (162, 'CL', 0),\n",
       " (164, 'CL', 0),\n",
       " (165, 'CL', 0),\n",
       " (166, 'CL', 0),\n",
       " (169, 'CL', 0),\n",
       " (170, 'CL', 0),\n",
       " (172, 'CL', 0),\n",
       " (175, 'CL', 0),\n",
       " (176, 'CL', 0),\n",
       " (177, 'CL', 0),\n",
       " (179, 'CL', 0),\n",
       " (180, 'CL', 0),\n",
       " (181, 'CL', 0),\n",
       " (182, 'CL', 0),\n",
       " (183, 'CL', 0),\n",
       " (185, 'CL', 0),\n",
       " (187, 'CL', 14736),\n",
       " (188, 'CL', 0),\n",
       " (189, 'CL', 0),\n",
       " (190, 'CL', 0),\n",
       " (191, 'CL', 0),\n",
       " (192, 'CL', 0),\n",
       " (195, 'CL', 0),\n",
       " (197, 'CL', 0),\n",
       " (198, 'CL', 0),\n",
       " (199, 'CL', 0),\n",
       " (200, 'CL', 0),\n",
       " (201, 'CL', 0),\n",
       " (203, 'CL', 0),\n",
       " (205, 'CL', 0),\n",
       " (207, 'CL', 0),\n",
       " (211, 'CL', 0),\n",
       " (213, 'CL', 0),\n",
       " (214, 'CL', 0),\n",
       " (216, 'CL', 0),\n",
       " (218, 'CL', 0),\n",
       " (220, 'CL', 0),\n",
       " (222, 'CL', 0),\n",
       " (224, 'CL', 0),\n",
       " (228, 'CL', 0),\n",
       " (229, 'CL', 0),\n",
       " (230, 'CL', 0),\n",
       " (231, 'CL', 0),\n",
       " (233, 'CL', 0),\n",
       " (236, 'CL', 0),\n",
       " (237, 'CL', 0),\n",
       " (238, 'CL', 0),\n",
       " (240, 'CL', 0),\n",
       " (242, 'CL', 0),\n",
       " (244, 'CL', 0),\n",
       " (248, 'CL', 15360),\n",
       " (250, 'CL', 0),\n",
       " (251, 'CL', 0),\n",
       " (253, 'CL', 0),\n",
       " (254, 'CL', 0),\n",
       " (255, 'CL', 0),\n",
       " (256, 'CL', 0),\n",
       " (257, 'CL', 0),\n",
       " (258, 'CL', 0),\n",
       " (260, 'CL', 0),\n",
       " (262, 'CL', 0),\n",
       " (263, 'CL', 0),\n",
       " (265, 'CL', 0),\n",
       " (266, 'CL', 0),\n",
       " (267, 'CL', 0),\n",
       " (268, 'CL', 0),\n",
       " (269, 'CL', 0),\n",
       " (272, 'CL', 14400),\n",
       " (273, 'CL', 0),\n",
       " (275, 'CL', 0),\n",
       " (276, 'CL', 0),\n",
       " (278, 'CL', 0),\n",
       " (280, 'CL', 0),\n",
       " (282, 'CL', 0),\n",
       " (284, 'CL', 14400),\n",
       " (288, 'CL', 0),\n",
       " (289, 'CL', 14640),\n",
       " (291, 'CL', 0),\n",
       " (292, 'CL', 0),\n",
       " (293, 'CL', 15216),\n",
       " (294, 'CL', 14736),\n",
       " (295, 'CL', 0),\n",
       " (296, 'CL', 0),\n",
       " (298, 'CL', 0),\n",
       " (299, 'CL', 0)]"
      ]
     },
     "execution_count": 64,
     "metadata": {},
     "output_type": "execute_result"
    }
   ],
   "source": [
    "missing_records_12"
   ]
  },
  {
   "cell_type": "code",
   "execution_count": 65,
   "id": "4a0a732d",
   "metadata": {},
   "outputs": [
    {
     "data": {
      "text/plain": [
       "161"
      ]
     },
     "execution_count": 65,
     "metadata": {},
     "output_type": "execute_result"
    }
   ],
   "source": [
    "n_empty_CL_10 = 0\n",
    "missing_records_others_10 = []\n",
    "for (c_10, ch, len_ts_10) in missing_records_10:\n",
    "    if ch == 'CL' and len_ts_10 == 0:\n",
    "        n_empty_CL_10 += 1\n",
    "    else:\n",
    "        missing_records_others_10.append((c_10, ch, len_ts_10))\n",
    "n_empty_CL_10"
   ]
  },
  {
   "cell_type": "code",
   "execution_count": 66,
   "id": "b0a76fe4",
   "metadata": {},
   "outputs": [
    {
     "data": {
      "text/plain": [
       "161"
      ]
     },
     "execution_count": 66,
     "metadata": {},
     "output_type": "execute_result"
    }
   ],
   "source": [
    "n_empty_CL_11 = 0\n",
    "missing_records_others_11 = []\n",
    "for (c_11, ch, len_ts_11) in missing_records_11:\n",
    "    if ch == 'CL' and len_ts_11 == 0:\n",
    "        n_empty_CL_11 += 1\n",
    "    else:\n",
    "        missing_records_others_11.append((c_11, ch, len_ts_11))\n",
    "n_empty_CL_11"
   ]
  },
  {
   "cell_type": "code",
   "execution_count": 67,
   "id": "acaaa9b5",
   "metadata": {},
   "outputs": [
    {
     "data": {
      "text/plain": [
       "162"
      ]
     },
     "execution_count": 67,
     "metadata": {},
     "output_type": "execute_result"
    }
   ],
   "source": [
    "n_empty_CL_12 = 0\n",
    "missing_records_others_12 = []\n",
    "for (c_12, ch, len_ts_12) in missing_records_12:\n",
    "    if ch == 'CL' and len_ts_12 == 0:\n",
    "        n_empty_CL_12 += 1\n",
    "    else:\n",
    "        missing_records_others_12.append((c_12, ch, len_ts_12))\n",
    "n_empty_CL_12"
   ]
  },
  {
   "cell_type": "code",
   "execution_count": 68,
   "id": "5ea60022",
   "metadata": {},
   "outputs": [
    {
     "data": {
      "text/plain": [
       "[]"
      ]
     },
     "execution_count": 68,
     "metadata": {},
     "output_type": "execute_result"
    }
   ],
   "source": [
    "missing_records_others_10"
   ]
  },
  {
   "cell_type": "code",
   "execution_count": 69,
   "id": "5a6af64e",
   "metadata": {},
   "outputs": [
    {
     "data": {
      "text/plain": [
       "[(27, 'CL', 9408)]"
      ]
     },
     "execution_count": 69,
     "metadata": {},
     "output_type": "execute_result"
    }
   ],
   "source": [
    "missing_records_others_11"
   ]
  },
  {
   "cell_type": "code",
   "execution_count": 70,
   "id": "e6144f3e",
   "metadata": {},
   "outputs": [
    {
     "data": {
      "text/plain": [
       "[(2, 'GC', 13632),\n",
       " (2, 'GG', 13632),\n",
       " (2, 'CL', 13632),\n",
       " (68, 'CL', 14400),\n",
       " (95, 'CL', 15264),\n",
       " (161, 'CL', 14688),\n",
       " (187, 'CL', 14736),\n",
       " (248, 'CL', 15360),\n",
       " (272, 'CL', 14400),\n",
       " (284, 'CL', 14400),\n",
       " (289, 'CL', 14640),\n",
       " (293, 'CL', 15216),\n",
       " (294, 'CL', 14736)]"
      ]
     },
     "execution_count": 70,
     "metadata": {},
     "output_type": "execute_result"
    }
   ],
   "source": [
    "missing_records_others_12"
   ]
  },
  {
   "cell_type": "code",
   "execution_count": 71,
   "id": "ade12bc7",
   "metadata": {},
   "outputs": [
    {
     "data": {
      "text/html": [
       "<div>\n",
       "<style scoped>\n",
       "    .dataframe tbody tr th:only-of-type {\n",
       "        vertical-align: middle;\n",
       "    }\n",
       "\n",
       "    .dataframe tbody tr th {\n",
       "        vertical-align: top;\n",
       "    }\n",
       "\n",
       "    .dataframe thead tr th {\n",
       "        text-align: left;\n",
       "    }\n",
       "</style>\n",
       "<table border=\"1\" class=\"dataframe\">\n",
       "  <thead>\n",
       "    <tr>\n",
       "      <th>Customer</th>\n",
       "      <th colspan=\"3\" halign=\"left\">1</th>\n",
       "      <th colspan=\"3\" halign=\"left\">2</th>\n",
       "      <th colspan=\"3\" halign=\"left\">3</th>\n",
       "      <th>4</th>\n",
       "      <th>...</th>\n",
       "      <th>297</th>\n",
       "      <th colspan=\"3\" halign=\"left\">298</th>\n",
       "      <th colspan=\"3\" halign=\"left\">299</th>\n",
       "      <th colspan=\"3\" halign=\"left\">300</th>\n",
       "    </tr>\n",
       "    <tr>\n",
       "      <th>Channel</th>\n",
       "      <th>GC</th>\n",
       "      <th>GG</th>\n",
       "      <th>CL</th>\n",
       "      <th>GC</th>\n",
       "      <th>GG</th>\n",
       "      <th>CL</th>\n",
       "      <th>GC</th>\n",
       "      <th>GG</th>\n",
       "      <th>CL</th>\n",
       "      <th>GC</th>\n",
       "      <th>...</th>\n",
       "      <th>CL</th>\n",
       "      <th>GC</th>\n",
       "      <th>GG</th>\n",
       "      <th>CL</th>\n",
       "      <th>GC</th>\n",
       "      <th>GG</th>\n",
       "      <th>CL</th>\n",
       "      <th>GC</th>\n",
       "      <th>GG</th>\n",
       "      <th>CL</th>\n",
       "    </tr>\n",
       "  </thead>\n",
       "  <tbody>\n",
       "    <tr>\n",
       "      <th>2010-07-01 00:00:00</th>\n",
       "      <td>0.303</td>\n",
       "      <td>0.0</td>\n",
       "      <td>1.250</td>\n",
       "      <td>0.085</td>\n",
       "      <td>0.0</td>\n",
       "      <td>0.0</td>\n",
       "      <td>0.669</td>\n",
       "      <td>0.0</td>\n",
       "      <td>2.029</td>\n",
       "      <td>0.075</td>\n",
       "      <td>...</td>\n",
       "      <td>0.0</td>\n",
       "      <td>0.096</td>\n",
       "      <td>0.0</td>\n",
       "      <td>NaN</td>\n",
       "      <td>1.464</td>\n",
       "      <td>0.0</td>\n",
       "      <td>NaN</td>\n",
       "      <td>0.279</td>\n",
       "      <td>0.0</td>\n",
       "      <td>2.487</td>\n",
       "    </tr>\n",
       "    <tr>\n",
       "      <th>2010-07-01 00:30:00</th>\n",
       "      <td>0.471</td>\n",
       "      <td>0.0</td>\n",
       "      <td>1.244</td>\n",
       "      <td>0.142</td>\n",
       "      <td>0.0</td>\n",
       "      <td>0.0</td>\n",
       "      <td>0.671</td>\n",
       "      <td>0.0</td>\n",
       "      <td>2.013</td>\n",
       "      <td>0.086</td>\n",
       "      <td>...</td>\n",
       "      <td>0.0</td>\n",
       "      <td>0.110</td>\n",
       "      <td>0.0</td>\n",
       "      <td>NaN</td>\n",
       "      <td>1.413</td>\n",
       "      <td>0.0</td>\n",
       "      <td>NaN</td>\n",
       "      <td>0.924</td>\n",
       "      <td>0.0</td>\n",
       "      <td>2.392</td>\n",
       "    </tr>\n",
       "    <tr>\n",
       "      <th>2010-07-01 01:00:00</th>\n",
       "      <td>0.083</td>\n",
       "      <td>0.0</td>\n",
       "      <td>1.256</td>\n",
       "      <td>0.082</td>\n",
       "      <td>0.0</td>\n",
       "      <td>0.0</td>\n",
       "      <td>0.675</td>\n",
       "      <td>0.0</td>\n",
       "      <td>1.000</td>\n",
       "      <td>0.085</td>\n",
       "      <td>...</td>\n",
       "      <td>0.0</td>\n",
       "      <td>0.080</td>\n",
       "      <td>0.0</td>\n",
       "      <td>NaN</td>\n",
       "      <td>1.428</td>\n",
       "      <td>0.0</td>\n",
       "      <td>NaN</td>\n",
       "      <td>0.803</td>\n",
       "      <td>0.0</td>\n",
       "      <td>1.285</td>\n",
       "    </tr>\n",
       "    <tr>\n",
       "      <th>2010-07-01 01:30:00</th>\n",
       "      <td>0.121</td>\n",
       "      <td>0.0</td>\n",
       "      <td>0.744</td>\n",
       "      <td>0.119</td>\n",
       "      <td>0.0</td>\n",
       "      <td>0.0</td>\n",
       "      <td>0.683</td>\n",
       "      <td>0.0</td>\n",
       "      <td>0.000</td>\n",
       "      <td>0.084</td>\n",
       "      <td>...</td>\n",
       "      <td>0.0</td>\n",
       "      <td>0.105</td>\n",
       "      <td>0.0</td>\n",
       "      <td>NaN</td>\n",
       "      <td>1.445</td>\n",
       "      <td>0.0</td>\n",
       "      <td>NaN</td>\n",
       "      <td>0.066</td>\n",
       "      <td>0.0</td>\n",
       "      <td>0.000</td>\n",
       "    </tr>\n",
       "    <tr>\n",
       "      <th>2010-07-01 02:00:00</th>\n",
       "      <td>0.361</td>\n",
       "      <td>0.0</td>\n",
       "      <td>0.019</td>\n",
       "      <td>0.105</td>\n",
       "      <td>0.0</td>\n",
       "      <td>0.0</td>\n",
       "      <td>0.694</td>\n",
       "      <td>0.0</td>\n",
       "      <td>0.000</td>\n",
       "      <td>0.084</td>\n",
       "      <td>...</td>\n",
       "      <td>0.0</td>\n",
       "      <td>0.089</td>\n",
       "      <td>0.0</td>\n",
       "      <td>NaN</td>\n",
       "      <td>1.407</td>\n",
       "      <td>0.0</td>\n",
       "      <td>NaN</td>\n",
       "      <td>0.089</td>\n",
       "      <td>0.0</td>\n",
       "      <td>0.000</td>\n",
       "    </tr>\n",
       "  </tbody>\n",
       "</table>\n",
       "<p>5 rows × 900 columns</p>\n",
       "</div>"
      ],
      "text/plain": [
       "Customer               1                  2                3                \\\n",
       "Channel                 GC   GG     CL     GC   GG   CL     GC   GG     CL   \n",
       "2010-07-01 00:00:00  0.303  0.0  1.250  0.085  0.0  0.0  0.669  0.0  2.029   \n",
       "2010-07-01 00:30:00  0.471  0.0  1.244  0.142  0.0  0.0  0.671  0.0  2.013   \n",
       "2010-07-01 01:00:00  0.083  0.0  1.256  0.082  0.0  0.0  0.675  0.0  1.000   \n",
       "2010-07-01 01:30:00  0.121  0.0  0.744  0.119  0.0  0.0  0.683  0.0  0.000   \n",
       "2010-07-01 02:00:00  0.361  0.0  0.019  0.105  0.0  0.0  0.694  0.0  0.000   \n",
       "\n",
       "Customer               4    ...  297    298              299              300  \\\n",
       "Channel                 GC  ...   CL     GC   GG   CL     GC   GG   CL     GC   \n",
       "2010-07-01 00:00:00  0.075  ...  0.0  0.096  0.0  NaN  1.464  0.0  NaN  0.279   \n",
       "2010-07-01 00:30:00  0.086  ...  0.0  0.110  0.0  NaN  1.413  0.0  NaN  0.924   \n",
       "2010-07-01 01:00:00  0.085  ...  0.0  0.080  0.0  NaN  1.428  0.0  NaN  0.803   \n",
       "2010-07-01 01:30:00  0.084  ...  0.0  0.105  0.0  NaN  1.445  0.0  NaN  0.066   \n",
       "2010-07-01 02:00:00  0.084  ...  0.0  0.089  0.0  NaN  1.407  0.0  NaN  0.089   \n",
       "\n",
       "Customer                         \n",
       "Channel               GG     CL  \n",
       "2010-07-01 00:00:00  0.0  2.487  \n",
       "2010-07-01 00:30:00  0.0  2.392  \n",
       "2010-07-01 01:00:00  0.0  1.285  \n",
       "2010-07-01 01:30:00  0.0  0.000  \n",
       "2010-07-01 02:00:00  0.0  0.000  \n",
       "\n",
       "[5 rows x 900 columns]"
      ]
     },
     "execution_count": 71,
     "metadata": {},
     "output_type": "execute_result"
    }
   ],
   "source": [
    "new_df_10.head()"
   ]
  },
  {
   "cell_type": "code",
   "execution_count": 72,
   "id": "a532b0ea",
   "metadata": {},
   "outputs": [
    {
     "data": {
      "text/html": [
       "<div>\n",
       "<style scoped>\n",
       "    .dataframe tbody tr th:only-of-type {\n",
       "        vertical-align: middle;\n",
       "    }\n",
       "\n",
       "    .dataframe tbody tr th {\n",
       "        vertical-align: top;\n",
       "    }\n",
       "\n",
       "    .dataframe thead tr th {\n",
       "        text-align: left;\n",
       "    }\n",
       "</style>\n",
       "<table border=\"1\" class=\"dataframe\">\n",
       "  <thead>\n",
       "    <tr>\n",
       "      <th>Customer</th>\n",
       "      <th colspan=\"3\" halign=\"left\">1</th>\n",
       "      <th colspan=\"3\" halign=\"left\">2</th>\n",
       "      <th colspan=\"3\" halign=\"left\">3</th>\n",
       "      <th>4</th>\n",
       "      <th>...</th>\n",
       "      <th>297</th>\n",
       "      <th colspan=\"3\" halign=\"left\">298</th>\n",
       "      <th colspan=\"3\" halign=\"left\">299</th>\n",
       "      <th colspan=\"3\" halign=\"left\">300</th>\n",
       "    </tr>\n",
       "    <tr>\n",
       "      <th>Channel</th>\n",
       "      <th>GC</th>\n",
       "      <th>GG</th>\n",
       "      <th>CL</th>\n",
       "      <th>GC</th>\n",
       "      <th>GG</th>\n",
       "      <th>CL</th>\n",
       "      <th>GC</th>\n",
       "      <th>GG</th>\n",
       "      <th>CL</th>\n",
       "      <th>GC</th>\n",
       "      <th>...</th>\n",
       "      <th>CL</th>\n",
       "      <th>GC</th>\n",
       "      <th>GG</th>\n",
       "      <th>CL</th>\n",
       "      <th>GC</th>\n",
       "      <th>GG</th>\n",
       "      <th>CL</th>\n",
       "      <th>GC</th>\n",
       "      <th>GG</th>\n",
       "      <th>CL</th>\n",
       "    </tr>\n",
       "  </thead>\n",
       "  <tbody>\n",
       "    <tr>\n",
       "      <th>2011-07-01 00:00:00</th>\n",
       "      <td>1.077</td>\n",
       "      <td>0.0</td>\n",
       "      <td>1.250</td>\n",
       "      <td>0.276</td>\n",
       "      <td>0.0</td>\n",
       "      <td>0.0</td>\n",
       "      <td>0.060</td>\n",
       "      <td>0.0</td>\n",
       "      <td>2.008</td>\n",
       "      <td>0.104</td>\n",
       "      <td>...</td>\n",
       "      <td>0.000</td>\n",
       "      <td>0.100</td>\n",
       "      <td>0.0</td>\n",
       "      <td>NaN</td>\n",
       "      <td>0.140</td>\n",
       "      <td>0.0</td>\n",
       "      <td>NaN</td>\n",
       "      <td>1.034</td>\n",
       "      <td>0.0</td>\n",
       "      <td>2.533</td>\n",
       "    </tr>\n",
       "    <tr>\n",
       "      <th>2011-07-01 00:30:00</th>\n",
       "      <td>0.669</td>\n",
       "      <td>0.0</td>\n",
       "      <td>1.250</td>\n",
       "      <td>0.134</td>\n",
       "      <td>0.0</td>\n",
       "      <td>0.0</td>\n",
       "      <td>0.062</td>\n",
       "      <td>0.0</td>\n",
       "      <td>0.218</td>\n",
       "      <td>0.107</td>\n",
       "      <td>...</td>\n",
       "      <td>0.000</td>\n",
       "      <td>0.068</td>\n",
       "      <td>0.0</td>\n",
       "      <td>NaN</td>\n",
       "      <td>0.160</td>\n",
       "      <td>0.0</td>\n",
       "      <td>NaN</td>\n",
       "      <td>0.631</td>\n",
       "      <td>0.0</td>\n",
       "      <td>0.265</td>\n",
       "    </tr>\n",
       "    <tr>\n",
       "      <th>2011-07-01 01:00:00</th>\n",
       "      <td>0.674</td>\n",
       "      <td>0.0</td>\n",
       "      <td>1.250</td>\n",
       "      <td>0.169</td>\n",
       "      <td>0.0</td>\n",
       "      <td>0.0</td>\n",
       "      <td>0.060</td>\n",
       "      <td>0.0</td>\n",
       "      <td>0.000</td>\n",
       "      <td>0.104</td>\n",
       "      <td>...</td>\n",
       "      <td>0.000</td>\n",
       "      <td>0.068</td>\n",
       "      <td>0.0</td>\n",
       "      <td>NaN</td>\n",
       "      <td>0.116</td>\n",
       "      <td>0.0</td>\n",
       "      <td>NaN</td>\n",
       "      <td>0.119</td>\n",
       "      <td>0.0</td>\n",
       "      <td>0.000</td>\n",
       "    </tr>\n",
       "    <tr>\n",
       "      <th>2011-07-01 01:30:00</th>\n",
       "      <td>0.615</td>\n",
       "      <td>0.0</td>\n",
       "      <td>0.625</td>\n",
       "      <td>0.185</td>\n",
       "      <td>0.0</td>\n",
       "      <td>0.0</td>\n",
       "      <td>0.059</td>\n",
       "      <td>0.0</td>\n",
       "      <td>0.000</td>\n",
       "      <td>0.108</td>\n",
       "      <td>...</td>\n",
       "      <td>1.311</td>\n",
       "      <td>0.068</td>\n",
       "      <td>0.0</td>\n",
       "      <td>NaN</td>\n",
       "      <td>0.162</td>\n",
       "      <td>0.0</td>\n",
       "      <td>NaN</td>\n",
       "      <td>0.098</td>\n",
       "      <td>0.0</td>\n",
       "      <td>0.000</td>\n",
       "    </tr>\n",
       "    <tr>\n",
       "      <th>2011-07-01 02:00:00</th>\n",
       "      <td>0.321</td>\n",
       "      <td>0.0</td>\n",
       "      <td>0.219</td>\n",
       "      <td>0.141</td>\n",
       "      <td>0.0</td>\n",
       "      <td>0.0</td>\n",
       "      <td>0.060</td>\n",
       "      <td>0.0</td>\n",
       "      <td>0.000</td>\n",
       "      <td>0.110</td>\n",
       "      <td>...</td>\n",
       "      <td>0.000</td>\n",
       "      <td>0.069</td>\n",
       "      <td>0.0</td>\n",
       "      <td>NaN</td>\n",
       "      <td>0.138</td>\n",
       "      <td>0.0</td>\n",
       "      <td>NaN</td>\n",
       "      <td>0.109</td>\n",
       "      <td>0.0</td>\n",
       "      <td>0.000</td>\n",
       "    </tr>\n",
       "  </tbody>\n",
       "</table>\n",
       "<p>5 rows × 900 columns</p>\n",
       "</div>"
      ],
      "text/plain": [
       "Customer               1                  2                3                \\\n",
       "Channel                 GC   GG     CL     GC   GG   CL     GC   GG     CL   \n",
       "2011-07-01 00:00:00  1.077  0.0  1.250  0.276  0.0  0.0  0.060  0.0  2.008   \n",
       "2011-07-01 00:30:00  0.669  0.0  1.250  0.134  0.0  0.0  0.062  0.0  0.218   \n",
       "2011-07-01 01:00:00  0.674  0.0  1.250  0.169  0.0  0.0  0.060  0.0  0.000   \n",
       "2011-07-01 01:30:00  0.615  0.0  0.625  0.185  0.0  0.0  0.059  0.0  0.000   \n",
       "2011-07-01 02:00:00  0.321  0.0  0.219  0.141  0.0  0.0  0.060  0.0  0.000   \n",
       "\n",
       "Customer               4    ...    297    298              299            \\\n",
       "Channel                 GC  ...     CL     GC   GG   CL     GC   GG   CL   \n",
       "2011-07-01 00:00:00  0.104  ...  0.000  0.100  0.0  NaN  0.140  0.0  NaN   \n",
       "2011-07-01 00:30:00  0.107  ...  0.000  0.068  0.0  NaN  0.160  0.0  NaN   \n",
       "2011-07-01 01:00:00  0.104  ...  0.000  0.068  0.0  NaN  0.116  0.0  NaN   \n",
       "2011-07-01 01:30:00  0.108  ...  1.311  0.068  0.0  NaN  0.162  0.0  NaN   \n",
       "2011-07-01 02:00:00  0.110  ...  0.000  0.069  0.0  NaN  0.138  0.0  NaN   \n",
       "\n",
       "Customer               300              \n",
       "Channel                 GC   GG     CL  \n",
       "2011-07-01 00:00:00  1.034  0.0  2.533  \n",
       "2011-07-01 00:30:00  0.631  0.0  0.265  \n",
       "2011-07-01 01:00:00  0.119  0.0  0.000  \n",
       "2011-07-01 01:30:00  0.098  0.0  0.000  \n",
       "2011-07-01 02:00:00  0.109  0.0  0.000  \n",
       "\n",
       "[5 rows x 900 columns]"
      ]
     },
     "execution_count": 72,
     "metadata": {},
     "output_type": "execute_result"
    }
   ],
   "source": [
    "new_df_11.head()"
   ]
  },
  {
   "cell_type": "code",
   "execution_count": 73,
   "id": "9b1acbed",
   "metadata": {},
   "outputs": [
    {
     "data": {
      "text/html": [
       "<div>\n",
       "<style scoped>\n",
       "    .dataframe tbody tr th:only-of-type {\n",
       "        vertical-align: middle;\n",
       "    }\n",
       "\n",
       "    .dataframe tbody tr th {\n",
       "        vertical-align: top;\n",
       "    }\n",
       "\n",
       "    .dataframe thead tr th {\n",
       "        text-align: left;\n",
       "    }\n",
       "</style>\n",
       "<table border=\"1\" class=\"dataframe\">\n",
       "  <thead>\n",
       "    <tr>\n",
       "      <th>Customer</th>\n",
       "      <th colspan=\"3\" halign=\"left\">1</th>\n",
       "      <th colspan=\"3\" halign=\"left\">2</th>\n",
       "      <th colspan=\"3\" halign=\"left\">3</th>\n",
       "      <th>4</th>\n",
       "      <th>...</th>\n",
       "      <th>297</th>\n",
       "      <th colspan=\"3\" halign=\"left\">298</th>\n",
       "      <th colspan=\"3\" halign=\"left\">299</th>\n",
       "      <th colspan=\"3\" halign=\"left\">300</th>\n",
       "    </tr>\n",
       "    <tr>\n",
       "      <th>Channel</th>\n",
       "      <th>GC</th>\n",
       "      <th>GG</th>\n",
       "      <th>CL</th>\n",
       "      <th>GC</th>\n",
       "      <th>GG</th>\n",
       "      <th>CL</th>\n",
       "      <th>GC</th>\n",
       "      <th>GG</th>\n",
       "      <th>CL</th>\n",
       "      <th>GC</th>\n",
       "      <th>...</th>\n",
       "      <th>CL</th>\n",
       "      <th>GC</th>\n",
       "      <th>GG</th>\n",
       "      <th>CL</th>\n",
       "      <th>GC</th>\n",
       "      <th>GG</th>\n",
       "      <th>CL</th>\n",
       "      <th>GC</th>\n",
       "      <th>GG</th>\n",
       "      <th>CL</th>\n",
       "    </tr>\n",
       "  </thead>\n",
       "  <tbody>\n",
       "    <tr>\n",
       "      <th>2012-07-01 00:00:00</th>\n",
       "      <td>0.855</td>\n",
       "      <td>0.0</td>\n",
       "      <td>1.250</td>\n",
       "      <td>NaN</td>\n",
       "      <td>NaN</td>\n",
       "      <td>NaN</td>\n",
       "      <td>0.965</td>\n",
       "      <td>0.0</td>\n",
       "      <td>0.0</td>\n",
       "      <td>0.084</td>\n",
       "      <td>...</td>\n",
       "      <td>0.00</td>\n",
       "      <td>0.157</td>\n",
       "      <td>0.0</td>\n",
       "      <td>NaN</td>\n",
       "      <td>0.541</td>\n",
       "      <td>0.0</td>\n",
       "      <td>NaN</td>\n",
       "      <td>0.219</td>\n",
       "      <td>0.0</td>\n",
       "      <td>2.673</td>\n",
       "    </tr>\n",
       "    <tr>\n",
       "      <th>2012-07-01 00:30:00</th>\n",
       "      <td>0.786</td>\n",
       "      <td>0.0</td>\n",
       "      <td>1.250</td>\n",
       "      <td>NaN</td>\n",
       "      <td>NaN</td>\n",
       "      <td>NaN</td>\n",
       "      <td>0.927</td>\n",
       "      <td>0.0</td>\n",
       "      <td>0.0</td>\n",
       "      <td>0.084</td>\n",
       "      <td>...</td>\n",
       "      <td>0.00</td>\n",
       "      <td>0.127</td>\n",
       "      <td>0.0</td>\n",
       "      <td>NaN</td>\n",
       "      <td>0.100</td>\n",
       "      <td>0.0</td>\n",
       "      <td>NaN</td>\n",
       "      <td>0.099</td>\n",
       "      <td>0.0</td>\n",
       "      <td>1.246</td>\n",
       "    </tr>\n",
       "    <tr>\n",
       "      <th>2012-07-01 01:00:00</th>\n",
       "      <td>0.604</td>\n",
       "      <td>0.0</td>\n",
       "      <td>1.250</td>\n",
       "      <td>NaN</td>\n",
       "      <td>NaN</td>\n",
       "      <td>NaN</td>\n",
       "      <td>1.359</td>\n",
       "      <td>0.0</td>\n",
       "      <td>0.0</td>\n",
       "      <td>0.082</td>\n",
       "      <td>...</td>\n",
       "      <td>0.00</td>\n",
       "      <td>0.122</td>\n",
       "      <td>0.0</td>\n",
       "      <td>NaN</td>\n",
       "      <td>0.090</td>\n",
       "      <td>0.0</td>\n",
       "      <td>NaN</td>\n",
       "      <td>0.134</td>\n",
       "      <td>0.0</td>\n",
       "      <td>0.000</td>\n",
       "    </tr>\n",
       "    <tr>\n",
       "      <th>2012-07-01 01:30:00</th>\n",
       "      <td>0.544</td>\n",
       "      <td>0.0</td>\n",
       "      <td>1.263</td>\n",
       "      <td>NaN</td>\n",
       "      <td>NaN</td>\n",
       "      <td>NaN</td>\n",
       "      <td>0.060</td>\n",
       "      <td>0.0</td>\n",
       "      <td>0.0</td>\n",
       "      <td>0.084</td>\n",
       "      <td>...</td>\n",
       "      <td>1.33</td>\n",
       "      <td>0.120</td>\n",
       "      <td>0.0</td>\n",
       "      <td>NaN</td>\n",
       "      <td>0.094</td>\n",
       "      <td>0.0</td>\n",
       "      <td>NaN</td>\n",
       "      <td>0.100</td>\n",
       "      <td>0.0</td>\n",
       "      <td>0.000</td>\n",
       "    </tr>\n",
       "    <tr>\n",
       "      <th>2012-07-01 02:00:00</th>\n",
       "      <td>0.597</td>\n",
       "      <td>0.0</td>\n",
       "      <td>0.131</td>\n",
       "      <td>NaN</td>\n",
       "      <td>NaN</td>\n",
       "      <td>NaN</td>\n",
       "      <td>0.059</td>\n",
       "      <td>0.0</td>\n",
       "      <td>0.0</td>\n",
       "      <td>0.086</td>\n",
       "      <td>...</td>\n",
       "      <td>0.00</td>\n",
       "      <td>0.106</td>\n",
       "      <td>0.0</td>\n",
       "      <td>NaN</td>\n",
       "      <td>0.046</td>\n",
       "      <td>0.0</td>\n",
       "      <td>NaN</td>\n",
       "      <td>0.123</td>\n",
       "      <td>0.0</td>\n",
       "      <td>0.000</td>\n",
       "    </tr>\n",
       "  </tbody>\n",
       "</table>\n",
       "<p>5 rows × 900 columns</p>\n",
       "</div>"
      ],
      "text/plain": [
       "Customer               1                2                3                4    \\\n",
       "Channel                 GC   GG     CL   GC   GG   CL     GC   GG   CL     GC   \n",
       "2012-07-01 00:00:00  0.855  0.0  1.250  NaN  NaN  NaN  0.965  0.0  0.0  0.084   \n",
       "2012-07-01 00:30:00  0.786  0.0  1.250  NaN  NaN  NaN  0.927  0.0  0.0  0.084   \n",
       "2012-07-01 01:00:00  0.604  0.0  1.250  NaN  NaN  NaN  1.359  0.0  0.0  0.082   \n",
       "2012-07-01 01:30:00  0.544  0.0  1.263  NaN  NaN  NaN  0.060  0.0  0.0  0.084   \n",
       "2012-07-01 02:00:00  0.597  0.0  0.131  NaN  NaN  NaN  0.059  0.0  0.0  0.086   \n",
       "\n",
       "Customer             ...   297    298              299              300       \\\n",
       "Channel              ...    CL     GC   GG   CL     GC   GG   CL     GC   GG   \n",
       "2012-07-01 00:00:00  ...  0.00  0.157  0.0  NaN  0.541  0.0  NaN  0.219  0.0   \n",
       "2012-07-01 00:30:00  ...  0.00  0.127  0.0  NaN  0.100  0.0  NaN  0.099  0.0   \n",
       "2012-07-01 01:00:00  ...  0.00  0.122  0.0  NaN  0.090  0.0  NaN  0.134  0.0   \n",
       "2012-07-01 01:30:00  ...  1.33  0.120  0.0  NaN  0.094  0.0  NaN  0.100  0.0   \n",
       "2012-07-01 02:00:00  ...  0.00  0.106  0.0  NaN  0.046  0.0  NaN  0.123  0.0   \n",
       "\n",
       "Customer                    \n",
       "Channel                 CL  \n",
       "2012-07-01 00:00:00  2.673  \n",
       "2012-07-01 00:30:00  1.246  \n",
       "2012-07-01 01:00:00  0.000  \n",
       "2012-07-01 01:30:00  0.000  \n",
       "2012-07-01 02:00:00  0.000  \n",
       "\n",
       "[5 rows x 900 columns]"
      ]
     },
     "execution_count": 73,
     "metadata": {},
     "output_type": "execute_result"
    }
   ],
   "source": [
    "new_df_12.head()"
   ]
  },
  {
   "cell_type": "code",
   "execution_count": 74,
   "id": "041022ec",
   "metadata": {},
   "outputs": [
    {
     "data": {
      "text/html": [
       "<div>\n",
       "<style scoped>\n",
       "    .dataframe tbody tr th:only-of-type {\n",
       "        vertical-align: middle;\n",
       "    }\n",
       "\n",
       "    .dataframe tbody tr th {\n",
       "        vertical-align: top;\n",
       "    }\n",
       "\n",
       "    .dataframe thead tr th {\n",
       "        text-align: left;\n",
       "    }\n",
       "</style>\n",
       "<table border=\"1\" class=\"dataframe\">\n",
       "  <thead>\n",
       "    <tr>\n",
       "      <th>Customer</th>\n",
       "      <th colspan=\"3\" halign=\"left\">1</th>\n",
       "      <th colspan=\"3\" halign=\"left\">2</th>\n",
       "      <th colspan=\"3\" halign=\"left\">3</th>\n",
       "      <th>4</th>\n",
       "      <th>...</th>\n",
       "      <th>297</th>\n",
       "      <th colspan=\"3\" halign=\"left\">298</th>\n",
       "      <th colspan=\"3\" halign=\"left\">299</th>\n",
       "      <th colspan=\"3\" halign=\"left\">300</th>\n",
       "    </tr>\n",
       "    <tr>\n",
       "      <th>Channel</th>\n",
       "      <th>GC</th>\n",
       "      <th>GG</th>\n",
       "      <th>CL</th>\n",
       "      <th>GC</th>\n",
       "      <th>GG</th>\n",
       "      <th>CL</th>\n",
       "      <th>GC</th>\n",
       "      <th>GG</th>\n",
       "      <th>CL</th>\n",
       "      <th>GC</th>\n",
       "      <th>...</th>\n",
       "      <th>CL</th>\n",
       "      <th>GC</th>\n",
       "      <th>GG</th>\n",
       "      <th>CL</th>\n",
       "      <th>GC</th>\n",
       "      <th>GG</th>\n",
       "      <th>CL</th>\n",
       "      <th>GC</th>\n",
       "      <th>GG</th>\n",
       "      <th>CL</th>\n",
       "    </tr>\n",
       "  </thead>\n",
       "  <tbody>\n",
       "    <tr>\n",
       "      <th>2011-06-30 21:30:00</th>\n",
       "      <td>0.228</td>\n",
       "      <td>0.0</td>\n",
       "      <td>0.000</td>\n",
       "      <td>0.246</td>\n",
       "      <td>0.0</td>\n",
       "      <td>0.0</td>\n",
       "      <td>0.459</td>\n",
       "      <td>0.0</td>\n",
       "      <td>0.0</td>\n",
       "      <td>0.112</td>\n",
       "      <td>...</td>\n",
       "      <td>0.000</td>\n",
       "      <td>0.685</td>\n",
       "      <td>0.0</td>\n",
       "      <td>NaN</td>\n",
       "      <td>0.876</td>\n",
       "      <td>0.0</td>\n",
       "      <td>NaN</td>\n",
       "      <td>0.789</td>\n",
       "      <td>0.0</td>\n",
       "      <td>0.000</td>\n",
       "    </tr>\n",
       "    <tr>\n",
       "      <th>2011-06-30 22:00:00</th>\n",
       "      <td>0.458</td>\n",
       "      <td>0.0</td>\n",
       "      <td>0.000</td>\n",
       "      <td>0.302</td>\n",
       "      <td>0.0</td>\n",
       "      <td>0.0</td>\n",
       "      <td>0.456</td>\n",
       "      <td>0.0</td>\n",
       "      <td>0.0</td>\n",
       "      <td>0.100</td>\n",
       "      <td>...</td>\n",
       "      <td>0.782</td>\n",
       "      <td>0.450</td>\n",
       "      <td>0.0</td>\n",
       "      <td>NaN</td>\n",
       "      <td>0.258</td>\n",
       "      <td>0.0</td>\n",
       "      <td>NaN</td>\n",
       "      <td>0.280</td>\n",
       "      <td>0.0</td>\n",
       "      <td>0.000</td>\n",
       "    </tr>\n",
       "    <tr>\n",
       "      <th>2011-06-30 22:30:00</th>\n",
       "      <td>0.685</td>\n",
       "      <td>0.0</td>\n",
       "      <td>0.000</td>\n",
       "      <td>0.348</td>\n",
       "      <td>0.0</td>\n",
       "      <td>0.0</td>\n",
       "      <td>0.722</td>\n",
       "      <td>0.0</td>\n",
       "      <td>0.0</td>\n",
       "      <td>0.106</td>\n",
       "      <td>...</td>\n",
       "      <td>2.409</td>\n",
       "      <td>0.281</td>\n",
       "      <td>0.0</td>\n",
       "      <td>NaN</td>\n",
       "      <td>0.126</td>\n",
       "      <td>0.0</td>\n",
       "      <td>NaN</td>\n",
       "      <td>0.224</td>\n",
       "      <td>0.0</td>\n",
       "      <td>0.000</td>\n",
       "    </tr>\n",
       "    <tr>\n",
       "      <th>2011-06-30 23:00:00</th>\n",
       "      <td>0.650</td>\n",
       "      <td>0.0</td>\n",
       "      <td>0.000</td>\n",
       "      <td>0.248</td>\n",
       "      <td>0.0</td>\n",
       "      <td>0.0</td>\n",
       "      <td>0.060</td>\n",
       "      <td>0.0</td>\n",
       "      <td>0.0</td>\n",
       "      <td>0.109</td>\n",
       "      <td>...</td>\n",
       "      <td>1.998</td>\n",
       "      <td>0.279</td>\n",
       "      <td>0.0</td>\n",
       "      <td>NaN</td>\n",
       "      <td>0.167</td>\n",
       "      <td>0.0</td>\n",
       "      <td>NaN</td>\n",
       "      <td>0.259</td>\n",
       "      <td>0.0</td>\n",
       "      <td>0.000</td>\n",
       "    </tr>\n",
       "    <tr>\n",
       "      <th>2011-06-30 23:30:00</th>\n",
       "      <td>0.650</td>\n",
       "      <td>0.0</td>\n",
       "      <td>1.094</td>\n",
       "      <td>0.294</td>\n",
       "      <td>0.0</td>\n",
       "      <td>0.0</td>\n",
       "      <td>0.108</td>\n",
       "      <td>0.0</td>\n",
       "      <td>0.0</td>\n",
       "      <td>0.108</td>\n",
       "      <td>...</td>\n",
       "      <td>0.000</td>\n",
       "      <td>0.187</td>\n",
       "      <td>0.0</td>\n",
       "      <td>NaN</td>\n",
       "      <td>0.145</td>\n",
       "      <td>0.0</td>\n",
       "      <td>NaN</td>\n",
       "      <td>0.774</td>\n",
       "      <td>0.0</td>\n",
       "      <td>2.528</td>\n",
       "    </tr>\n",
       "  </tbody>\n",
       "</table>\n",
       "<p>5 rows × 900 columns</p>\n",
       "</div>"
      ],
      "text/plain": [
       "Customer               1                  2                3              \\\n",
       "Channel                 GC   GG     CL     GC   GG   CL     GC   GG   CL   \n",
       "2011-06-30 21:30:00  0.228  0.0  0.000  0.246  0.0  0.0  0.459  0.0  0.0   \n",
       "2011-06-30 22:00:00  0.458  0.0  0.000  0.302  0.0  0.0  0.456  0.0  0.0   \n",
       "2011-06-30 22:30:00  0.685  0.0  0.000  0.348  0.0  0.0  0.722  0.0  0.0   \n",
       "2011-06-30 23:00:00  0.650  0.0  0.000  0.248  0.0  0.0  0.060  0.0  0.0   \n",
       "2011-06-30 23:30:00  0.650  0.0  1.094  0.294  0.0  0.0  0.108  0.0  0.0   \n",
       "\n",
       "Customer               4    ...    297    298              299            \\\n",
       "Channel                 GC  ...     CL     GC   GG   CL     GC   GG   CL   \n",
       "2011-06-30 21:30:00  0.112  ...  0.000  0.685  0.0  NaN  0.876  0.0  NaN   \n",
       "2011-06-30 22:00:00  0.100  ...  0.782  0.450  0.0  NaN  0.258  0.0  NaN   \n",
       "2011-06-30 22:30:00  0.106  ...  2.409  0.281  0.0  NaN  0.126  0.0  NaN   \n",
       "2011-06-30 23:00:00  0.109  ...  1.998  0.279  0.0  NaN  0.167  0.0  NaN   \n",
       "2011-06-30 23:30:00  0.108  ...  0.000  0.187  0.0  NaN  0.145  0.0  NaN   \n",
       "\n",
       "Customer               300              \n",
       "Channel                 GC   GG     CL  \n",
       "2011-06-30 21:30:00  0.789  0.0  0.000  \n",
       "2011-06-30 22:00:00  0.280  0.0  0.000  \n",
       "2011-06-30 22:30:00  0.224  0.0  0.000  \n",
       "2011-06-30 23:00:00  0.259  0.0  0.000  \n",
       "2011-06-30 23:30:00  0.774  0.0  2.528  \n",
       "\n",
       "[5 rows x 900 columns]"
      ]
     },
     "execution_count": 74,
     "metadata": {},
     "output_type": "execute_result"
    }
   ],
   "source": [
    "new_df_10.tail()"
   ]
  },
  {
   "cell_type": "code",
   "execution_count": 75,
   "id": "fa669145",
   "metadata": {},
   "outputs": [
    {
     "data": {
      "text/html": [
       "<div>\n",
       "<style scoped>\n",
       "    .dataframe tbody tr th:only-of-type {\n",
       "        vertical-align: middle;\n",
       "    }\n",
       "\n",
       "    .dataframe tbody tr th {\n",
       "        vertical-align: top;\n",
       "    }\n",
       "\n",
       "    .dataframe thead tr th {\n",
       "        text-align: left;\n",
       "    }\n",
       "</style>\n",
       "<table border=\"1\" class=\"dataframe\">\n",
       "  <thead>\n",
       "    <tr>\n",
       "      <th>Customer</th>\n",
       "      <th colspan=\"3\" halign=\"left\">1</th>\n",
       "      <th colspan=\"3\" halign=\"left\">2</th>\n",
       "      <th colspan=\"3\" halign=\"left\">3</th>\n",
       "      <th>4</th>\n",
       "      <th>...</th>\n",
       "      <th>297</th>\n",
       "      <th colspan=\"3\" halign=\"left\">298</th>\n",
       "      <th colspan=\"3\" halign=\"left\">299</th>\n",
       "      <th colspan=\"3\" halign=\"left\">300</th>\n",
       "    </tr>\n",
       "    <tr>\n",
       "      <th>Channel</th>\n",
       "      <th>GC</th>\n",
       "      <th>GG</th>\n",
       "      <th>CL</th>\n",
       "      <th>GC</th>\n",
       "      <th>GG</th>\n",
       "      <th>CL</th>\n",
       "      <th>GC</th>\n",
       "      <th>GG</th>\n",
       "      <th>CL</th>\n",
       "      <th>GC</th>\n",
       "      <th>...</th>\n",
       "      <th>CL</th>\n",
       "      <th>GC</th>\n",
       "      <th>GG</th>\n",
       "      <th>CL</th>\n",
       "      <th>GC</th>\n",
       "      <th>GG</th>\n",
       "      <th>CL</th>\n",
       "      <th>GC</th>\n",
       "      <th>GG</th>\n",
       "      <th>CL</th>\n",
       "    </tr>\n",
       "  </thead>\n",
       "  <tbody>\n",
       "    <tr>\n",
       "      <th>2012-06-30 21:30:00</th>\n",
       "      <td>0.622</td>\n",
       "      <td>0.0</td>\n",
       "      <td>0.000</td>\n",
       "      <td>0.368</td>\n",
       "      <td>0.0</td>\n",
       "      <td>0.0</td>\n",
       "      <td>0.066</td>\n",
       "      <td>0.000</td>\n",
       "      <td>0.0</td>\n",
       "      <td>0.159</td>\n",
       "      <td>...</td>\n",
       "      <td>0.000</td>\n",
       "      <td>0.173</td>\n",
       "      <td>0.0</td>\n",
       "      <td>NaN</td>\n",
       "      <td>1.095</td>\n",
       "      <td>0.0</td>\n",
       "      <td>NaN</td>\n",
       "      <td>0.200</td>\n",
       "      <td>0.0</td>\n",
       "      <td>0.000</td>\n",
       "    </tr>\n",
       "    <tr>\n",
       "      <th>2012-06-30 22:00:00</th>\n",
       "      <td>0.509</td>\n",
       "      <td>0.0</td>\n",
       "      <td>0.000</td>\n",
       "      <td>0.305</td>\n",
       "      <td>0.0</td>\n",
       "      <td>0.0</td>\n",
       "      <td>0.768</td>\n",
       "      <td>0.000</td>\n",
       "      <td>0.0</td>\n",
       "      <td>0.134</td>\n",
       "      <td>...</td>\n",
       "      <td>0.814</td>\n",
       "      <td>0.154</td>\n",
       "      <td>0.0</td>\n",
       "      <td>NaN</td>\n",
       "      <td>0.946</td>\n",
       "      <td>0.0</td>\n",
       "      <td>NaN</td>\n",
       "      <td>0.204</td>\n",
       "      <td>0.0</td>\n",
       "      <td>0.000</td>\n",
       "    </tr>\n",
       "    <tr>\n",
       "      <th>2012-06-30 22:30:00</th>\n",
       "      <td>0.716</td>\n",
       "      <td>0.0</td>\n",
       "      <td>0.000</td>\n",
       "      <td>0.285</td>\n",
       "      <td>0.0</td>\n",
       "      <td>0.0</td>\n",
       "      <td>0.966</td>\n",
       "      <td>0.000</td>\n",
       "      <td>0.0</td>\n",
       "      <td>0.101</td>\n",
       "      <td>...</td>\n",
       "      <td>2.369</td>\n",
       "      <td>0.150</td>\n",
       "      <td>0.0</td>\n",
       "      <td>NaN</td>\n",
       "      <td>1.834</td>\n",
       "      <td>0.0</td>\n",
       "      <td>NaN</td>\n",
       "      <td>0.131</td>\n",
       "      <td>0.0</td>\n",
       "      <td>0.000</td>\n",
       "    </tr>\n",
       "    <tr>\n",
       "      <th>2012-06-30 23:00:00</th>\n",
       "      <td>0.999</td>\n",
       "      <td>0.0</td>\n",
       "      <td>0.000</td>\n",
       "      <td>0.286</td>\n",
       "      <td>0.0</td>\n",
       "      <td>0.0</td>\n",
       "      <td>0.957</td>\n",
       "      <td>0.006</td>\n",
       "      <td>0.0</td>\n",
       "      <td>0.086</td>\n",
       "      <td>...</td>\n",
       "      <td>1.915</td>\n",
       "      <td>0.142</td>\n",
       "      <td>0.0</td>\n",
       "      <td>NaN</td>\n",
       "      <td>1.719</td>\n",
       "      <td>0.0</td>\n",
       "      <td>NaN</td>\n",
       "      <td>0.358</td>\n",
       "      <td>0.0</td>\n",
       "      <td>0.000</td>\n",
       "    </tr>\n",
       "    <tr>\n",
       "      <th>2012-06-30 23:30:00</th>\n",
       "      <td>0.916</td>\n",
       "      <td>0.0</td>\n",
       "      <td>1.063</td>\n",
       "      <td>0.188</td>\n",
       "      <td>0.0</td>\n",
       "      <td>0.0</td>\n",
       "      <td>0.902</td>\n",
       "      <td>0.000</td>\n",
       "      <td>0.0</td>\n",
       "      <td>0.082</td>\n",
       "      <td>...</td>\n",
       "      <td>0.000</td>\n",
       "      <td>0.145</td>\n",
       "      <td>0.0</td>\n",
       "      <td>NaN</td>\n",
       "      <td>1.412</td>\n",
       "      <td>0.0</td>\n",
       "      <td>NaN</td>\n",
       "      <td>0.235</td>\n",
       "      <td>0.0</td>\n",
       "      <td>2.621</td>\n",
       "    </tr>\n",
       "  </tbody>\n",
       "</table>\n",
       "<p>5 rows × 900 columns</p>\n",
       "</div>"
      ],
      "text/plain": [
       "Customer               1                  2                3                \\\n",
       "Channel                 GC   GG     CL     GC   GG   CL     GC     GG   CL   \n",
       "2012-06-30 21:30:00  0.622  0.0  0.000  0.368  0.0  0.0  0.066  0.000  0.0   \n",
       "2012-06-30 22:00:00  0.509  0.0  0.000  0.305  0.0  0.0  0.768  0.000  0.0   \n",
       "2012-06-30 22:30:00  0.716  0.0  0.000  0.285  0.0  0.0  0.966  0.000  0.0   \n",
       "2012-06-30 23:00:00  0.999  0.0  0.000  0.286  0.0  0.0  0.957  0.006  0.0   \n",
       "2012-06-30 23:30:00  0.916  0.0  1.063  0.188  0.0  0.0  0.902  0.000  0.0   \n",
       "\n",
       "Customer               4    ...    297    298              299            \\\n",
       "Channel                 GC  ...     CL     GC   GG   CL     GC   GG   CL   \n",
       "2012-06-30 21:30:00  0.159  ...  0.000  0.173  0.0  NaN  1.095  0.0  NaN   \n",
       "2012-06-30 22:00:00  0.134  ...  0.814  0.154  0.0  NaN  0.946  0.0  NaN   \n",
       "2012-06-30 22:30:00  0.101  ...  2.369  0.150  0.0  NaN  1.834  0.0  NaN   \n",
       "2012-06-30 23:00:00  0.086  ...  1.915  0.142  0.0  NaN  1.719  0.0  NaN   \n",
       "2012-06-30 23:30:00  0.082  ...  0.000  0.145  0.0  NaN  1.412  0.0  NaN   \n",
       "\n",
       "Customer               300              \n",
       "Channel                 GC   GG     CL  \n",
       "2012-06-30 21:30:00  0.200  0.0  0.000  \n",
       "2012-06-30 22:00:00  0.204  0.0  0.000  \n",
       "2012-06-30 22:30:00  0.131  0.0  0.000  \n",
       "2012-06-30 23:00:00  0.358  0.0  0.000  \n",
       "2012-06-30 23:30:00  0.235  0.0  2.621  \n",
       "\n",
       "[5 rows x 900 columns]"
      ]
     },
     "execution_count": 75,
     "metadata": {},
     "output_type": "execute_result"
    }
   ],
   "source": [
    "new_df_11.tail()"
   ]
  },
  {
   "cell_type": "code",
   "execution_count": 76,
   "id": "393c73d2",
   "metadata": {},
   "outputs": [
    {
     "data": {
      "text/html": [
       "<div>\n",
       "<style scoped>\n",
       "    .dataframe tbody tr th:only-of-type {\n",
       "        vertical-align: middle;\n",
       "    }\n",
       "\n",
       "    .dataframe tbody tr th {\n",
       "        vertical-align: top;\n",
       "    }\n",
       "\n",
       "    .dataframe thead tr th {\n",
       "        text-align: left;\n",
       "    }\n",
       "</style>\n",
       "<table border=\"1\" class=\"dataframe\">\n",
       "  <thead>\n",
       "    <tr>\n",
       "      <th>Customer</th>\n",
       "      <th colspan=\"3\" halign=\"left\">1</th>\n",
       "      <th colspan=\"3\" halign=\"left\">2</th>\n",
       "      <th colspan=\"3\" halign=\"left\">3</th>\n",
       "      <th>4</th>\n",
       "      <th>...</th>\n",
       "      <th>297</th>\n",
       "      <th colspan=\"3\" halign=\"left\">298</th>\n",
       "      <th colspan=\"3\" halign=\"left\">299</th>\n",
       "      <th colspan=\"3\" halign=\"left\">300</th>\n",
       "    </tr>\n",
       "    <tr>\n",
       "      <th>Channel</th>\n",
       "      <th>GC</th>\n",
       "      <th>GG</th>\n",
       "      <th>CL</th>\n",
       "      <th>GC</th>\n",
       "      <th>GG</th>\n",
       "      <th>CL</th>\n",
       "      <th>GC</th>\n",
       "      <th>GG</th>\n",
       "      <th>CL</th>\n",
       "      <th>GC</th>\n",
       "      <th>...</th>\n",
       "      <th>CL</th>\n",
       "      <th>GC</th>\n",
       "      <th>GG</th>\n",
       "      <th>CL</th>\n",
       "      <th>GC</th>\n",
       "      <th>GG</th>\n",
       "      <th>CL</th>\n",
       "      <th>GC</th>\n",
       "      <th>GG</th>\n",
       "      <th>CL</th>\n",
       "    </tr>\n",
       "  </thead>\n",
       "  <tbody>\n",
       "    <tr>\n",
       "      <th>2013-06-30 21:30:00</th>\n",
       "      <td>0.274</td>\n",
       "      <td>0.0</td>\n",
       "      <td>0.000</td>\n",
       "      <td>NaN</td>\n",
       "      <td>NaN</td>\n",
       "      <td>NaN</td>\n",
       "      <td>0.056</td>\n",
       "      <td>0.0</td>\n",
       "      <td>0.0</td>\n",
       "      <td>0.134</td>\n",
       "      <td>...</td>\n",
       "      <td>0.000</td>\n",
       "      <td>0.267</td>\n",
       "      <td>0.0</td>\n",
       "      <td>NaN</td>\n",
       "      <td>0.618</td>\n",
       "      <td>0.0</td>\n",
       "      <td>NaN</td>\n",
       "      <td>0.581</td>\n",
       "      <td>0.0</td>\n",
       "      <td>0.000</td>\n",
       "    </tr>\n",
       "    <tr>\n",
       "      <th>2013-06-30 22:00:00</th>\n",
       "      <td>0.509</td>\n",
       "      <td>0.0</td>\n",
       "      <td>0.000</td>\n",
       "      <td>NaN</td>\n",
       "      <td>NaN</td>\n",
       "      <td>NaN</td>\n",
       "      <td>0.056</td>\n",
       "      <td>0.0</td>\n",
       "      <td>0.0</td>\n",
       "      <td>0.137</td>\n",
       "      <td>...</td>\n",
       "      <td>0.775</td>\n",
       "      <td>0.273</td>\n",
       "      <td>0.0</td>\n",
       "      <td>NaN</td>\n",
       "      <td>0.568</td>\n",
       "      <td>0.0</td>\n",
       "      <td>NaN</td>\n",
       "      <td>0.458</td>\n",
       "      <td>0.0</td>\n",
       "      <td>0.000</td>\n",
       "    </tr>\n",
       "    <tr>\n",
       "      <th>2013-06-30 22:30:00</th>\n",
       "      <td>0.166</td>\n",
       "      <td>0.0</td>\n",
       "      <td>0.000</td>\n",
       "      <td>NaN</td>\n",
       "      <td>NaN</td>\n",
       "      <td>NaN</td>\n",
       "      <td>0.065</td>\n",
       "      <td>0.0</td>\n",
       "      <td>0.0</td>\n",
       "      <td>0.140</td>\n",
       "      <td>...</td>\n",
       "      <td>2.413</td>\n",
       "      <td>0.247</td>\n",
       "      <td>0.0</td>\n",
       "      <td>NaN</td>\n",
       "      <td>0.832</td>\n",
       "      <td>0.0</td>\n",
       "      <td>NaN</td>\n",
       "      <td>0.472</td>\n",
       "      <td>0.0</td>\n",
       "      <td>0.000</td>\n",
       "    </tr>\n",
       "    <tr>\n",
       "      <th>2013-06-30 23:00:00</th>\n",
       "      <td>0.861</td>\n",
       "      <td>0.0</td>\n",
       "      <td>0.000</td>\n",
       "      <td>NaN</td>\n",
       "      <td>NaN</td>\n",
       "      <td>NaN</td>\n",
       "      <td>0.063</td>\n",
       "      <td>0.0</td>\n",
       "      <td>0.0</td>\n",
       "      <td>0.112</td>\n",
       "      <td>...</td>\n",
       "      <td>1.095</td>\n",
       "      <td>0.149</td>\n",
       "      <td>0.0</td>\n",
       "      <td>NaN</td>\n",
       "      <td>0.760</td>\n",
       "      <td>0.0</td>\n",
       "      <td>NaN</td>\n",
       "      <td>0.732</td>\n",
       "      <td>0.0</td>\n",
       "      <td>0.000</td>\n",
       "    </tr>\n",
       "    <tr>\n",
       "      <th>2013-06-30 23:30:00</th>\n",
       "      <td>0.631</td>\n",
       "      <td>0.0</td>\n",
       "      <td>1.056</td>\n",
       "      <td>NaN</td>\n",
       "      <td>NaN</td>\n",
       "      <td>NaN</td>\n",
       "      <td>0.052</td>\n",
       "      <td>0.0</td>\n",
       "      <td>0.0</td>\n",
       "      <td>0.107</td>\n",
       "      <td>...</td>\n",
       "      <td>0.000</td>\n",
       "      <td>0.138</td>\n",
       "      <td>0.0</td>\n",
       "      <td>NaN</td>\n",
       "      <td>0.150</td>\n",
       "      <td>0.0</td>\n",
       "      <td>NaN</td>\n",
       "      <td>0.297</td>\n",
       "      <td>0.0</td>\n",
       "      <td>2.468</td>\n",
       "    </tr>\n",
       "  </tbody>\n",
       "</table>\n",
       "<p>5 rows × 900 columns</p>\n",
       "</div>"
      ],
      "text/plain": [
       "Customer               1                2                3                4    \\\n",
       "Channel                 GC   GG     CL   GC   GG   CL     GC   GG   CL     GC   \n",
       "2013-06-30 21:30:00  0.274  0.0  0.000  NaN  NaN  NaN  0.056  0.0  0.0  0.134   \n",
       "2013-06-30 22:00:00  0.509  0.0  0.000  NaN  NaN  NaN  0.056  0.0  0.0  0.137   \n",
       "2013-06-30 22:30:00  0.166  0.0  0.000  NaN  NaN  NaN  0.065  0.0  0.0  0.140   \n",
       "2013-06-30 23:00:00  0.861  0.0  0.000  NaN  NaN  NaN  0.063  0.0  0.0  0.112   \n",
       "2013-06-30 23:30:00  0.631  0.0  1.056  NaN  NaN  NaN  0.052  0.0  0.0  0.107   \n",
       "\n",
       "Customer             ...    297    298              299              300       \\\n",
       "Channel              ...     CL     GC   GG   CL     GC   GG   CL     GC   GG   \n",
       "2013-06-30 21:30:00  ...  0.000  0.267  0.0  NaN  0.618  0.0  NaN  0.581  0.0   \n",
       "2013-06-30 22:00:00  ...  0.775  0.273  0.0  NaN  0.568  0.0  NaN  0.458  0.0   \n",
       "2013-06-30 22:30:00  ...  2.413  0.247  0.0  NaN  0.832  0.0  NaN  0.472  0.0   \n",
       "2013-06-30 23:00:00  ...  1.095  0.149  0.0  NaN  0.760  0.0  NaN  0.732  0.0   \n",
       "2013-06-30 23:30:00  ...  0.000  0.138  0.0  NaN  0.150  0.0  NaN  0.297  0.0   \n",
       "\n",
       "Customer                    \n",
       "Channel                 CL  \n",
       "2013-06-30 21:30:00  0.000  \n",
       "2013-06-30 22:00:00  0.000  \n",
       "2013-06-30 22:30:00  0.000  \n",
       "2013-06-30 23:00:00  0.000  \n",
       "2013-06-30 23:30:00  2.468  \n",
       "\n",
       "[5 rows x 900 columns]"
      ]
     },
     "execution_count": 76,
     "metadata": {},
     "output_type": "execute_result"
    }
   ],
   "source": [
    "new_df_12.tail()"
   ]
  },
  {
   "cell_type": "code",
   "execution_count": 77,
   "id": "85718fe1",
   "metadata": {},
   "outputs": [],
   "source": [
    "new_df_10 *= 2"
   ]
  },
  {
   "cell_type": "code",
   "execution_count": 78,
   "id": "909f5117",
   "metadata": {},
   "outputs": [],
   "source": [
    "new_df_11 *= 2"
   ]
  },
  {
   "cell_type": "code",
   "execution_count": 79,
   "id": "938180b6",
   "metadata": {},
   "outputs": [],
   "source": [
    "new_df_12 *= 2"
   ]
  },
  {
   "cell_type": "code",
   "execution_count": 80,
   "id": "b8fc083f",
   "metadata": {},
   "outputs": [
    {
     "data": {
      "text/plain": [
       "Channel\n",
       "GC    0.699793\n",
       "GG    0.555445\n",
       "CL    0.275590\n",
       "dtype: float64"
      ]
     },
     "execution_count": 80,
     "metadata": {},
     "output_type": "execute_result"
    }
   ],
   "source": [
    "new_df_10[1].mean()"
   ]
  },
  {
   "cell_type": "code",
   "execution_count": 81,
   "id": "348da993",
   "metadata": {},
   "outputs": [
    {
     "data": {
      "text/plain": [
       "Channel\n",
       "GC    0.584421\n",
       "GG    0.538209\n",
       "CL    0.293388\n",
       "dtype: float64"
      ]
     },
     "execution_count": 81,
     "metadata": {},
     "output_type": "execute_result"
    }
   ],
   "source": [
    "new_df_11[1].mean()"
   ]
  },
  {
   "cell_type": "code",
   "execution_count": 82,
   "id": "3b0feb3f",
   "metadata": {},
   "outputs": [
    {
     "data": {
      "text/plain": [
       "Channel\n",
       "GC    0.602726\n",
       "GG    0.583928\n",
       "CL    0.273895\n",
       "dtype: float64"
      ]
     },
     "execution_count": 82,
     "metadata": {},
     "output_type": "execute_result"
    }
   ],
   "source": [
    "new_df_12[1].mean()"
   ]
  },
  {
   "cell_type": "code",
   "execution_count": 83,
   "id": "4c9912ff",
   "metadata": {},
   "outputs": [
    {
     "data": {
      "text/html": [
       "<div>\n",
       "<style scoped>\n",
       "    .dataframe tbody tr th:only-of-type {\n",
       "        vertical-align: middle;\n",
       "    }\n",
       "\n",
       "    .dataframe tbody tr th {\n",
       "        vertical-align: top;\n",
       "    }\n",
       "\n",
       "    .dataframe thead th {\n",
       "        text-align: right;\n",
       "    }\n",
       "</style>\n",
       "<table border=\"1\" class=\"dataframe\">\n",
       "  <thead>\n",
       "    <tr style=\"text-align: right;\">\n",
       "      <th>Channel</th>\n",
       "      <th>GC</th>\n",
       "      <th>GG</th>\n",
       "      <th>CL</th>\n",
       "    </tr>\n",
       "  </thead>\n",
       "  <tbody>\n",
       "    <tr>\n",
       "      <th>2010-07-01 00:00:00</th>\n",
       "      <td>0.606</td>\n",
       "      <td>0.0</td>\n",
       "      <td>2.500</td>\n",
       "    </tr>\n",
       "    <tr>\n",
       "      <th>2010-07-01 00:30:00</th>\n",
       "      <td>0.942</td>\n",
       "      <td>0.0</td>\n",
       "      <td>2.488</td>\n",
       "    </tr>\n",
       "    <tr>\n",
       "      <th>2010-07-01 01:00:00</th>\n",
       "      <td>0.166</td>\n",
       "      <td>0.0</td>\n",
       "      <td>2.512</td>\n",
       "    </tr>\n",
       "    <tr>\n",
       "      <th>2010-07-01 01:30:00</th>\n",
       "      <td>0.242</td>\n",
       "      <td>0.0</td>\n",
       "      <td>1.488</td>\n",
       "    </tr>\n",
       "    <tr>\n",
       "      <th>2010-07-01 02:00:00</th>\n",
       "      <td>0.722</td>\n",
       "      <td>0.0</td>\n",
       "      <td>0.038</td>\n",
       "    </tr>\n",
       "    <tr>\n",
       "      <th>...</th>\n",
       "      <td>...</td>\n",
       "      <td>...</td>\n",
       "      <td>...</td>\n",
       "    </tr>\n",
       "    <tr>\n",
       "      <th>2011-06-30 21:30:00</th>\n",
       "      <td>0.456</td>\n",
       "      <td>0.0</td>\n",
       "      <td>0.000</td>\n",
       "    </tr>\n",
       "    <tr>\n",
       "      <th>2011-06-30 22:00:00</th>\n",
       "      <td>0.916</td>\n",
       "      <td>0.0</td>\n",
       "      <td>0.000</td>\n",
       "    </tr>\n",
       "    <tr>\n",
       "      <th>2011-06-30 22:30:00</th>\n",
       "      <td>1.370</td>\n",
       "      <td>0.0</td>\n",
       "      <td>0.000</td>\n",
       "    </tr>\n",
       "    <tr>\n",
       "      <th>2011-06-30 23:00:00</th>\n",
       "      <td>1.300</td>\n",
       "      <td>0.0</td>\n",
       "      <td>0.000</td>\n",
       "    </tr>\n",
       "    <tr>\n",
       "      <th>2011-06-30 23:30:00</th>\n",
       "      <td>1.300</td>\n",
       "      <td>0.0</td>\n",
       "      <td>2.188</td>\n",
       "    </tr>\n",
       "  </tbody>\n",
       "</table>\n",
       "<p>17520 rows × 3 columns</p>\n",
       "</div>"
      ],
      "text/plain": [
       "Channel                 GC   GG     CL\n",
       "2010-07-01 00:00:00  0.606  0.0  2.500\n",
       "2010-07-01 00:30:00  0.942  0.0  2.488\n",
       "2010-07-01 01:00:00  0.166  0.0  2.512\n",
       "2010-07-01 01:30:00  0.242  0.0  1.488\n",
       "2010-07-01 02:00:00  0.722  0.0  0.038\n",
       "...                    ...  ...    ...\n",
       "2011-06-30 21:30:00  0.456  0.0  0.000\n",
       "2011-06-30 22:00:00  0.916  0.0  0.000\n",
       "2011-06-30 22:30:00  1.370  0.0  0.000\n",
       "2011-06-30 23:00:00  1.300  0.0  0.000\n",
       "2011-06-30 23:30:00  1.300  0.0  2.188\n",
       "\n",
       "[17520 rows x 3 columns]"
      ]
     },
     "execution_count": 83,
     "metadata": {},
     "output_type": "execute_result"
    }
   ],
   "source": [
    "new_df_10[1]"
   ]
  },
  {
   "cell_type": "code",
   "execution_count": 84,
   "id": "64826743",
   "metadata": {
    "scrolled": false
   },
   "outputs": [
    {
     "data": {
      "text/html": [
       "<div>\n",
       "<style scoped>\n",
       "    .dataframe tbody tr th:only-of-type {\n",
       "        vertical-align: middle;\n",
       "    }\n",
       "\n",
       "    .dataframe tbody tr th {\n",
       "        vertical-align: top;\n",
       "    }\n",
       "\n",
       "    .dataframe thead th {\n",
       "        text-align: right;\n",
       "    }\n",
       "</style>\n",
       "<table border=\"1\" class=\"dataframe\">\n",
       "  <thead>\n",
       "    <tr style=\"text-align: right;\">\n",
       "      <th>Channel</th>\n",
       "      <th>GC</th>\n",
       "      <th>GG</th>\n",
       "      <th>CL</th>\n",
       "    </tr>\n",
       "  </thead>\n",
       "  <tbody>\n",
       "    <tr>\n",
       "      <th>2011-07-01 00:00:00</th>\n",
       "      <td>2.154</td>\n",
       "      <td>0.0</td>\n",
       "      <td>2.500</td>\n",
       "    </tr>\n",
       "    <tr>\n",
       "      <th>2011-07-01 00:30:00</th>\n",
       "      <td>1.338</td>\n",
       "      <td>0.0</td>\n",
       "      <td>2.500</td>\n",
       "    </tr>\n",
       "    <tr>\n",
       "      <th>2011-07-01 01:00:00</th>\n",
       "      <td>1.348</td>\n",
       "      <td>0.0</td>\n",
       "      <td>2.500</td>\n",
       "    </tr>\n",
       "    <tr>\n",
       "      <th>2011-07-01 01:30:00</th>\n",
       "      <td>1.230</td>\n",
       "      <td>0.0</td>\n",
       "      <td>1.250</td>\n",
       "    </tr>\n",
       "    <tr>\n",
       "      <th>2011-07-01 02:00:00</th>\n",
       "      <td>0.642</td>\n",
       "      <td>0.0</td>\n",
       "      <td>0.438</td>\n",
       "    </tr>\n",
       "    <tr>\n",
       "      <th>...</th>\n",
       "      <td>...</td>\n",
       "      <td>...</td>\n",
       "      <td>...</td>\n",
       "    </tr>\n",
       "    <tr>\n",
       "      <th>2012-06-30 21:30:00</th>\n",
       "      <td>1.244</td>\n",
       "      <td>0.0</td>\n",
       "      <td>0.000</td>\n",
       "    </tr>\n",
       "    <tr>\n",
       "      <th>2012-06-30 22:00:00</th>\n",
       "      <td>1.018</td>\n",
       "      <td>0.0</td>\n",
       "      <td>0.000</td>\n",
       "    </tr>\n",
       "    <tr>\n",
       "      <th>2012-06-30 22:30:00</th>\n",
       "      <td>1.432</td>\n",
       "      <td>0.0</td>\n",
       "      <td>0.000</td>\n",
       "    </tr>\n",
       "    <tr>\n",
       "      <th>2012-06-30 23:00:00</th>\n",
       "      <td>1.998</td>\n",
       "      <td>0.0</td>\n",
       "      <td>0.000</td>\n",
       "    </tr>\n",
       "    <tr>\n",
       "      <th>2012-06-30 23:30:00</th>\n",
       "      <td>1.832</td>\n",
       "      <td>0.0</td>\n",
       "      <td>2.126</td>\n",
       "    </tr>\n",
       "  </tbody>\n",
       "</table>\n",
       "<p>17568 rows × 3 columns</p>\n",
       "</div>"
      ],
      "text/plain": [
       "Channel                 GC   GG     CL\n",
       "2011-07-01 00:00:00  2.154  0.0  2.500\n",
       "2011-07-01 00:30:00  1.338  0.0  2.500\n",
       "2011-07-01 01:00:00  1.348  0.0  2.500\n",
       "2011-07-01 01:30:00  1.230  0.0  1.250\n",
       "2011-07-01 02:00:00  0.642  0.0  0.438\n",
       "...                    ...  ...    ...\n",
       "2012-06-30 21:30:00  1.244  0.0  0.000\n",
       "2012-06-30 22:00:00  1.018  0.0  0.000\n",
       "2012-06-30 22:30:00  1.432  0.0  0.000\n",
       "2012-06-30 23:00:00  1.998  0.0  0.000\n",
       "2012-06-30 23:30:00  1.832  0.0  2.126\n",
       "\n",
       "[17568 rows x 3 columns]"
      ]
     },
     "execution_count": 84,
     "metadata": {},
     "output_type": "execute_result"
    }
   ],
   "source": [
    "new_df_11[1]"
   ]
  },
  {
   "cell_type": "code",
   "execution_count": 85,
   "id": "ee695c6f",
   "metadata": {
    "scrolled": false
   },
   "outputs": [
    {
     "data": {
      "text/html": [
       "<div>\n",
       "<style scoped>\n",
       "    .dataframe tbody tr th:only-of-type {\n",
       "        vertical-align: middle;\n",
       "    }\n",
       "\n",
       "    .dataframe tbody tr th {\n",
       "        vertical-align: top;\n",
       "    }\n",
       "\n",
       "    .dataframe thead th {\n",
       "        text-align: right;\n",
       "    }\n",
       "</style>\n",
       "<table border=\"1\" class=\"dataframe\">\n",
       "  <thead>\n",
       "    <tr style=\"text-align: right;\">\n",
       "      <th>Channel</th>\n",
       "      <th>GC</th>\n",
       "      <th>GG</th>\n",
       "      <th>CL</th>\n",
       "    </tr>\n",
       "  </thead>\n",
       "  <tbody>\n",
       "    <tr>\n",
       "      <th>2012-07-01 00:00:00</th>\n",
       "      <td>1.710</td>\n",
       "      <td>0.0</td>\n",
       "      <td>2.500</td>\n",
       "    </tr>\n",
       "    <tr>\n",
       "      <th>2012-07-01 00:30:00</th>\n",
       "      <td>1.572</td>\n",
       "      <td>0.0</td>\n",
       "      <td>2.500</td>\n",
       "    </tr>\n",
       "    <tr>\n",
       "      <th>2012-07-01 01:00:00</th>\n",
       "      <td>1.208</td>\n",
       "      <td>0.0</td>\n",
       "      <td>2.500</td>\n",
       "    </tr>\n",
       "    <tr>\n",
       "      <th>2012-07-01 01:30:00</th>\n",
       "      <td>1.088</td>\n",
       "      <td>0.0</td>\n",
       "      <td>2.526</td>\n",
       "    </tr>\n",
       "    <tr>\n",
       "      <th>2012-07-01 02:00:00</th>\n",
       "      <td>1.194</td>\n",
       "      <td>0.0</td>\n",
       "      <td>0.262</td>\n",
       "    </tr>\n",
       "    <tr>\n",
       "      <th>...</th>\n",
       "      <td>...</td>\n",
       "      <td>...</td>\n",
       "      <td>...</td>\n",
       "    </tr>\n",
       "    <tr>\n",
       "      <th>2013-06-30 21:30:00</th>\n",
       "      <td>0.548</td>\n",
       "      <td>0.0</td>\n",
       "      <td>0.000</td>\n",
       "    </tr>\n",
       "    <tr>\n",
       "      <th>2013-06-30 22:00:00</th>\n",
       "      <td>1.018</td>\n",
       "      <td>0.0</td>\n",
       "      <td>0.000</td>\n",
       "    </tr>\n",
       "    <tr>\n",
       "      <th>2013-06-30 22:30:00</th>\n",
       "      <td>0.332</td>\n",
       "      <td>0.0</td>\n",
       "      <td>0.000</td>\n",
       "    </tr>\n",
       "    <tr>\n",
       "      <th>2013-06-30 23:00:00</th>\n",
       "      <td>1.722</td>\n",
       "      <td>0.0</td>\n",
       "      <td>0.000</td>\n",
       "    </tr>\n",
       "    <tr>\n",
       "      <th>2013-06-30 23:30:00</th>\n",
       "      <td>1.262</td>\n",
       "      <td>0.0</td>\n",
       "      <td>2.112</td>\n",
       "    </tr>\n",
       "  </tbody>\n",
       "</table>\n",
       "<p>17520 rows × 3 columns</p>\n",
       "</div>"
      ],
      "text/plain": [
       "Channel                 GC   GG     CL\n",
       "2012-07-01 00:00:00  1.710  0.0  2.500\n",
       "2012-07-01 00:30:00  1.572  0.0  2.500\n",
       "2012-07-01 01:00:00  1.208  0.0  2.500\n",
       "2012-07-01 01:30:00  1.088  0.0  2.526\n",
       "2012-07-01 02:00:00  1.194  0.0  0.262\n",
       "...                    ...  ...    ...\n",
       "2013-06-30 21:30:00  0.548  0.0  0.000\n",
       "2013-06-30 22:00:00  1.018  0.0  0.000\n",
       "2013-06-30 22:30:00  0.332  0.0  0.000\n",
       "2013-06-30 23:00:00  1.722  0.0  0.000\n",
       "2013-06-30 23:30:00  1.262  0.0  2.112\n",
       "\n",
       "[17520 rows x 3 columns]"
      ]
     },
     "execution_count": 85,
     "metadata": {},
     "output_type": "execute_result"
    }
   ],
   "source": [
    "new_df_12[1]"
   ]
  },
  {
   "cell_type": "markdown",
   "id": "b971e017",
   "metadata": {},
   "source": [
    "### Data Visualization"
   ]
  },
  {
   "cell_type": "code",
   "execution_count": 89,
   "id": "51abd2fb",
   "metadata": {},
   "outputs": [
    {
     "data": {
      "image/png": "[encoded data removed]",
      "text/plain": [
       "<Figure size 432x288 with 1 Axes>"
      ]
     },
     "metadata": {
      "needs_background": "light"
     },
     "output_type": "display_data"
    }
   ],
   "source": [
    "new_df_12[1]['2012-07-01':'2012-07-01'].plot()\n",
    "plt.title('Customer 1 on July 01')\n",
    "plt.ylabel('kW')\n",
    "plt.savefig('Customer Number 1 2010-07 01-02.png', dpi=150);"
   ]
  },
  {
   "cell_type": "code",
   "execution_count": 90,
   "id": "52f2d21e",
   "metadata": {},
   "outputs": [
    {
     "data": {
      "image/png": "[encoded data removed]",
      "text/plain": [
       "<Figure size 432x288 with 1 Axes>"
      ]
     },
     "metadata": {
      "needs_background": "light"
     },
     "output_type": "display_data"
    }
   ],
   "source": [
    "new_df_11[1]['2011-07-01':'2011-07-07'].plot()\n",
    "plt.title('Customer 1 in 1st Week of July')\n",
    "plt.ylabel('kW')\n",
    "plt.savefig('Customer Number 1 2011-07 01-03.png', dpi=150);"
   ]
  },
  {
   "cell_type": "code",
   "execution_count": 91,
   "id": "3df26baa",
   "metadata": {},
   "outputs": [
    {
     "data": {
      "image/png": "[encoded data removed]",
      "text/plain": [
       "<Figure size 432x288 with 1 Axes>"
      ]
     },
     "metadata": {
      "needs_background": "light"
     },
     "output_type": "display_data"
    }
   ],
   "source": [
    "new_df_12[1]['2012-07-01':'2012-07-03'].plot()\n",
    "plt.title('Customer 1 in July')\n",
    "plt.ylabel('kW')\n",
    "plt.savefig('Customer Number 1 2012-07 01-03.png', dpi=150);"
   ]
  },
  {
   "cell_type": "code",
   "execution_count": 92,
   "id": "c4a38227",
   "metadata": {},
   "outputs": [
    {
     "data": {
      "image/png": "[encoded data removed]",
      "text/plain": [
       "<Figure size 432x288 with 1 Axes>"
      ]
     },
     "metadata": {
      "needs_background": "light"
     },
     "output_type": "display_data"
    }
   ],
   "source": [
    "new_df_10[100]['2010-07-01':'2010-07-03'].plot()\n",
    "plt.ylabel('kW')\n",
    "plt.title('Customer 100 in July 2010 (No CL)');"
   ]
  },
  {
   "cell_type": "code",
   "execution_count": 93,
   "id": "a25ab119",
   "metadata": {},
   "outputs": [
    {
     "data": {
      "image/png": "[encoded data removed]",
      "text/plain": [
       "<Figure size 432x288 with 1 Axes>"
      ]
     },
     "metadata": {
      "needs_background": "light"
     },
     "output_type": "display_data"
    }
   ],
   "source": [
    "new_df_11[100]['2011-07-01':'2011-07-03'].plot()\n",
    "plt.ylabel('kW')\n",
    "plt.title('Customer 100 in July 2011 (No CL)');"
   ]
  },
  {
   "cell_type": "code",
   "execution_count": 94,
   "id": "d9b96933",
   "metadata": {},
   "outputs": [
    {
     "data": {
      "image/png": "[encoded data removed]",
      "text/plain": [
       "<Figure size 432x288 with 1 Axes>"
      ]
     },
     "metadata": {
      "needs_background": "light"
     },
     "output_type": "display_data"
    }
   ],
   "source": [
    "new_df_12[100]['2012-07-01':'2012-07-03'].plot()\n",
    "plt.ylabel('kW')\n",
    "plt.title('Customer 100 in July 2012 (No CL)');"
   ]
  },
  {
   "cell_type": "code",
   "execution_count": 95,
   "id": "d8b8a827",
   "metadata": {},
   "outputs": [
    {
     "data": {
      "text/html": [
       "<div>\n",
       "<style scoped>\n",
       "    .dataframe tbody tr th:only-of-type {\n",
       "        vertical-align: middle;\n",
       "    }\n",
       "\n",
       "    .dataframe tbody tr th {\n",
       "        vertical-align: top;\n",
       "    }\n",
       "\n",
       "    .dataframe thead th {\n",
       "        text-align: right;\n",
       "    }\n",
       "</style>\n",
       "<table border=\"1\" class=\"dataframe\">\n",
       "  <thead>\n",
       "    <tr style=\"text-align: right;\">\n",
       "      <th>Channel</th>\n",
       "      <th>GC</th>\n",
       "      <th>GG</th>\n",
       "    </tr>\n",
       "  </thead>\n",
       "  <tbody>\n",
       "    <tr>\n",
       "      <th>2010-07-01 00:00:00</th>\n",
       "      <td>0.303</td>\n",
       "      <td>0.0</td>\n",
       "    </tr>\n",
       "    <tr>\n",
       "      <th>2010-07-01 00:30:00</th>\n",
       "      <td>0.471</td>\n",
       "      <td>0.0</td>\n",
       "    </tr>\n",
       "    <tr>\n",
       "      <th>2010-07-01 01:00:00</th>\n",
       "      <td>0.083</td>\n",
       "      <td>0.0</td>\n",
       "    </tr>\n",
       "    <tr>\n",
       "      <th>2010-07-01 01:30:00</th>\n",
       "      <td>0.121</td>\n",
       "      <td>0.0</td>\n",
       "    </tr>\n",
       "    <tr>\n",
       "      <th>2010-07-01 02:00:00</th>\n",
       "      <td>0.361</td>\n",
       "      <td>0.0</td>\n",
       "    </tr>\n",
       "    <tr>\n",
       "      <th>...</th>\n",
       "      <td>...</td>\n",
       "      <td>...</td>\n",
       "    </tr>\n",
       "    <tr>\n",
       "      <th>2011-06-30 21:30:00</th>\n",
       "      <td>0.228</td>\n",
       "      <td>0.0</td>\n",
       "    </tr>\n",
       "    <tr>\n",
       "      <th>2011-06-30 22:00:00</th>\n",
       "      <td>0.458</td>\n",
       "      <td>0.0</td>\n",
       "    </tr>\n",
       "    <tr>\n",
       "      <th>2011-06-30 22:30:00</th>\n",
       "      <td>0.685</td>\n",
       "      <td>0.0</td>\n",
       "    </tr>\n",
       "    <tr>\n",
       "      <th>2011-06-30 23:00:00</th>\n",
       "      <td>0.650</td>\n",
       "      <td>0.0</td>\n",
       "    </tr>\n",
       "    <tr>\n",
       "      <th>2011-06-30 23:30:00</th>\n",
       "      <td>0.650</td>\n",
       "      <td>0.0</td>\n",
       "    </tr>\n",
       "  </tbody>\n",
       "</table>\n",
       "<p>17520 rows × 2 columns</p>\n",
       "</div>"
      ],
      "text/plain": [
       "Channel                 GC   GG\n",
       "2010-07-01 00:00:00  0.303  0.0\n",
       "2010-07-01 00:30:00  0.471  0.0\n",
       "2010-07-01 01:00:00  0.083  0.0\n",
       "2010-07-01 01:30:00  0.121  0.0\n",
       "2010-07-01 02:00:00  0.361  0.0\n",
       "...                    ...  ...\n",
       "2011-06-30 21:30:00  0.228  0.0\n",
       "2011-06-30 22:00:00  0.458  0.0\n",
       "2011-06-30 22:30:00  0.685  0.0\n",
       "2011-06-30 23:00:00  0.650  0.0\n",
       "2011-06-30 23:30:00  0.650  0.0\n",
       "\n",
       "[17520 rows x 2 columns]"
      ]
     },
     "execution_count": 95,
     "metadata": {},
     "output_type": "execute_result"
    }
   ],
   "source": [
    "cust_df_10 = new_df_10[1]\n",
    "del cust_df_10['CL']\n",
    "cust_df_10 /= 2\n",
    "cust_df_10"
   ]
  },
  {
   "cell_type": "code",
   "execution_count": 96,
   "id": "e889d351",
   "metadata": {},
   "outputs": [
    {
     "data": {
      "text/html": [
       "<div>\n",
       "<style scoped>\n",
       "    .dataframe tbody tr th:only-of-type {\n",
       "        vertical-align: middle;\n",
       "    }\n",
       "\n",
       "    .dataframe tbody tr th {\n",
       "        vertical-align: top;\n",
       "    }\n",
       "\n",
       "    .dataframe thead th {\n",
       "        text-align: right;\n",
       "    }\n",
       "</style>\n",
       "<table border=\"1\" class=\"dataframe\">\n",
       "  <thead>\n",
       "    <tr style=\"text-align: right;\">\n",
       "      <th>Customer</th>\n",
       "      <th>1</th>\n",
       "      <th>2</th>\n",
       "      <th>3</th>\n",
       "      <th>4</th>\n",
       "    </tr>\n",
       "  </thead>\n",
       "  <tbody>\n",
       "    <tr>\n",
       "      <th>2010-07-01 00:00:00</th>\n",
       "      <td>0.606</td>\n",
       "      <td>0.170</td>\n",
       "      <td>1.338</td>\n",
       "      <td>0.150</td>\n",
       "    </tr>\n",
       "    <tr>\n",
       "      <th>2010-07-01 00:30:00</th>\n",
       "      <td>0.942</td>\n",
       "      <td>0.284</td>\n",
       "      <td>1.342</td>\n",
       "      <td>0.172</td>\n",
       "    </tr>\n",
       "    <tr>\n",
       "      <th>2010-07-01 01:00:00</th>\n",
       "      <td>0.166</td>\n",
       "      <td>0.164</td>\n",
       "      <td>1.350</td>\n",
       "      <td>0.170</td>\n",
       "    </tr>\n",
       "    <tr>\n",
       "      <th>2010-07-01 01:30:00</th>\n",
       "      <td>0.242</td>\n",
       "      <td>0.238</td>\n",
       "      <td>1.366</td>\n",
       "      <td>0.168</td>\n",
       "    </tr>\n",
       "    <tr>\n",
       "      <th>2010-07-01 02:00:00</th>\n",
       "      <td>0.722</td>\n",
       "      <td>0.210</td>\n",
       "      <td>1.388</td>\n",
       "      <td>0.168</td>\n",
       "    </tr>\n",
       "    <tr>\n",
       "      <th>...</th>\n",
       "      <td>...</td>\n",
       "      <td>...</td>\n",
       "      <td>...</td>\n",
       "      <td>...</td>\n",
       "    </tr>\n",
       "    <tr>\n",
       "      <th>2011-06-30 21:30:00</th>\n",
       "      <td>0.456</td>\n",
       "      <td>0.492</td>\n",
       "      <td>0.918</td>\n",
       "      <td>0.224</td>\n",
       "    </tr>\n",
       "    <tr>\n",
       "      <th>2011-06-30 22:00:00</th>\n",
       "      <td>0.916</td>\n",
       "      <td>0.604</td>\n",
       "      <td>0.912</td>\n",
       "      <td>0.200</td>\n",
       "    </tr>\n",
       "    <tr>\n",
       "      <th>2011-06-30 22:30:00</th>\n",
       "      <td>1.370</td>\n",
       "      <td>0.696</td>\n",
       "      <td>1.444</td>\n",
       "      <td>0.212</td>\n",
       "    </tr>\n",
       "    <tr>\n",
       "      <th>2011-06-30 23:00:00</th>\n",
       "      <td>1.300</td>\n",
       "      <td>0.496</td>\n",
       "      <td>0.120</td>\n",
       "      <td>0.218</td>\n",
       "    </tr>\n",
       "    <tr>\n",
       "      <th>2011-06-30 23:30:00</th>\n",
       "      <td>1.300</td>\n",
       "      <td>0.588</td>\n",
       "      <td>0.216</td>\n",
       "      <td>0.216</td>\n",
       "    </tr>\n",
       "  </tbody>\n",
       "</table>\n",
       "<p>17520 rows × 4 columns</p>\n",
       "</div>"
      ],
      "text/plain": [
       "Customer                 1      2      3      4\n",
       "2010-07-01 00:00:00  0.606  0.170  1.338  0.150\n",
       "2010-07-01 00:30:00  0.942  0.284  1.342  0.172\n",
       "2010-07-01 01:00:00  0.166  0.164  1.350  0.170\n",
       "2010-07-01 01:30:00  0.242  0.238  1.366  0.168\n",
       "2010-07-01 02:00:00  0.722  0.210  1.388  0.168\n",
       "...                    ...    ...    ...    ...\n",
       "2011-06-30 21:30:00  0.456  0.492  0.918  0.224\n",
       "2011-06-30 22:00:00  0.916  0.604  0.912  0.200\n",
       "2011-06-30 22:30:00  1.370  0.696  1.444  0.212\n",
       "2011-06-30 23:00:00  1.300  0.496  0.120  0.218\n",
       "2011-06-30 23:30:00  1.300  0.588  0.216  0.216\n",
       "\n",
       "[17520 rows x 4 columns]"
      ]
     },
     "execution_count": 96,
     "metadata": {},
     "output_type": "execute_result"
    }
   ],
   "source": [
    "new_dfGC_10_1 = new_df_10.xs('GC', level='Channel', axis=1)\n",
    "new_dfGC_10_1[[1,2,3,4]]"
   ]
  },
  {
   "cell_type": "code",
   "execution_count": 97,
   "id": "5b71b501",
   "metadata": {},
   "outputs": [
    {
     "data": {
      "text/html": [
       "<div>\n",
       "<style scoped>\n",
       "    .dataframe tbody tr th:only-of-type {\n",
       "        vertical-align: middle;\n",
       "    }\n",
       "\n",
       "    .dataframe tbody tr th {\n",
       "        vertical-align: top;\n",
       "    }\n",
       "\n",
       "    .dataframe thead th {\n",
       "        text-align: right;\n",
       "    }\n",
       "</style>\n",
       "<table border=\"1\" class=\"dataframe\">\n",
       "  <thead>\n",
       "    <tr style=\"text-align: right;\">\n",
       "      <th>Customer</th>\n",
       "      <th>1</th>\n",
       "      <th>4</th>\n",
       "      <th>100</th>\n",
       "    </tr>\n",
       "  </thead>\n",
       "  <tbody>\n",
       "    <tr>\n",
       "      <th>2010-07-01 00:00:00</th>\n",
       "      <td>0.0</td>\n",
       "      <td>0.0</td>\n",
       "      <td>0.000</td>\n",
       "    </tr>\n",
       "    <tr>\n",
       "      <th>2010-07-01 00:30:00</th>\n",
       "      <td>0.0</td>\n",
       "      <td>0.0</td>\n",
       "      <td>0.000</td>\n",
       "    </tr>\n",
       "    <tr>\n",
       "      <th>2010-07-01 01:00:00</th>\n",
       "      <td>0.0</td>\n",
       "      <td>0.0</td>\n",
       "      <td>0.000</td>\n",
       "    </tr>\n",
       "    <tr>\n",
       "      <th>2010-07-01 01:30:00</th>\n",
       "      <td>0.0</td>\n",
       "      <td>0.0</td>\n",
       "      <td>0.000</td>\n",
       "    </tr>\n",
       "    <tr>\n",
       "      <th>2010-07-01 02:00:00</th>\n",
       "      <td>0.0</td>\n",
       "      <td>0.0</td>\n",
       "      <td>0.000</td>\n",
       "    </tr>\n",
       "    <tr>\n",
       "      <th>...</th>\n",
       "      <td>...</td>\n",
       "      <td>...</td>\n",
       "      <td>...</td>\n",
       "    </tr>\n",
       "    <tr>\n",
       "      <th>2011-06-30 21:30:00</th>\n",
       "      <td>0.0</td>\n",
       "      <td>0.0</td>\n",
       "      <td>0.000</td>\n",
       "    </tr>\n",
       "    <tr>\n",
       "      <th>2011-06-30 22:00:00</th>\n",
       "      <td>0.0</td>\n",
       "      <td>0.0</td>\n",
       "      <td>0.000</td>\n",
       "    </tr>\n",
       "    <tr>\n",
       "      <th>2011-06-30 22:30:00</th>\n",
       "      <td>0.0</td>\n",
       "      <td>0.0</td>\n",
       "      <td>0.000</td>\n",
       "    </tr>\n",
       "    <tr>\n",
       "      <th>2011-06-30 23:00:00</th>\n",
       "      <td>0.0</td>\n",
       "      <td>0.0</td>\n",
       "      <td>0.012</td>\n",
       "    </tr>\n",
       "    <tr>\n",
       "      <th>2011-06-30 23:30:00</th>\n",
       "      <td>0.0</td>\n",
       "      <td>0.0</td>\n",
       "      <td>0.000</td>\n",
       "    </tr>\n",
       "  </tbody>\n",
       "</table>\n",
       "<p>17520 rows × 3 columns</p>\n",
       "</div>"
      ],
      "text/plain": [
       "Customer             1    4      100\n",
       "2010-07-01 00:00:00  0.0  0.0  0.000\n",
       "2010-07-01 00:30:00  0.0  0.0  0.000\n",
       "2010-07-01 01:00:00  0.0  0.0  0.000\n",
       "2010-07-01 01:30:00  0.0  0.0  0.000\n",
       "2010-07-01 02:00:00  0.0  0.0  0.000\n",
       "...                  ...  ...    ...\n",
       "2011-06-30 21:30:00  0.0  0.0  0.000\n",
       "2011-06-30 22:00:00  0.0  0.0  0.000\n",
       "2011-06-30 22:30:00  0.0  0.0  0.000\n",
       "2011-06-30 23:00:00  0.0  0.0  0.012\n",
       "2011-06-30 23:30:00  0.0  0.0  0.000\n",
       "\n",
       "[17520 rows x 3 columns]"
      ]
     },
     "execution_count": 97,
     "metadata": {},
     "output_type": "execute_result"
    }
   ],
   "source": [
    "new_dfGG_10 = new_df_10.xs('GG', level='Channel', axis=1)\n",
    "new_dfGG_10[[1, 4, 100]]"
   ]
  },
  {
   "cell_type": "code",
   "execution_count": 98,
   "id": "93c2b505",
   "metadata": {},
   "outputs": [
    {
     "data": {
      "text/html": [
       "<div>\n",
       "<style scoped>\n",
       "    .dataframe tbody tr th:only-of-type {\n",
       "        vertical-align: middle;\n",
       "    }\n",
       "\n",
       "    .dataframe tbody tr th {\n",
       "        vertical-align: top;\n",
       "    }\n",
       "\n",
       "    .dataframe thead th {\n",
       "        text-align: right;\n",
       "    }\n",
       "</style>\n",
       "<table border=\"1\" class=\"dataframe\">\n",
       "  <thead>\n",
       "    <tr style=\"text-align: right;\">\n",
       "      <th>Customer</th>\n",
       "      <th>1</th>\n",
       "      <th>4</th>\n",
       "      <th>100</th>\n",
       "    </tr>\n",
       "  </thead>\n",
       "  <tbody>\n",
       "    <tr>\n",
       "      <th>2011-07-01 00:00:00</th>\n",
       "      <td>0.0</td>\n",
       "      <td>0.0</td>\n",
       "      <td>0.0</td>\n",
       "    </tr>\n",
       "    <tr>\n",
       "      <th>2011-07-01 00:30:00</th>\n",
       "      <td>0.0</td>\n",
       "      <td>0.0</td>\n",
       "      <td>0.0</td>\n",
       "    </tr>\n",
       "    <tr>\n",
       "      <th>2011-07-01 01:00:00</th>\n",
       "      <td>0.0</td>\n",
       "      <td>0.0</td>\n",
       "      <td>0.0</td>\n",
       "    </tr>\n",
       "    <tr>\n",
       "      <th>2011-07-01 01:30:00</th>\n",
       "      <td>0.0</td>\n",
       "      <td>0.0</td>\n",
       "      <td>0.0</td>\n",
       "    </tr>\n",
       "    <tr>\n",
       "      <th>2011-07-01 02:00:00</th>\n",
       "      <td>0.0</td>\n",
       "      <td>0.0</td>\n",
       "      <td>0.0</td>\n",
       "    </tr>\n",
       "    <tr>\n",
       "      <th>...</th>\n",
       "      <td>...</td>\n",
       "      <td>...</td>\n",
       "      <td>...</td>\n",
       "    </tr>\n",
       "    <tr>\n",
       "      <th>2012-06-30 21:30:00</th>\n",
       "      <td>0.0</td>\n",
       "      <td>0.0</td>\n",
       "      <td>0.0</td>\n",
       "    </tr>\n",
       "    <tr>\n",
       "      <th>2012-06-30 22:00:00</th>\n",
       "      <td>0.0</td>\n",
       "      <td>0.0</td>\n",
       "      <td>0.0</td>\n",
       "    </tr>\n",
       "    <tr>\n",
       "      <th>2012-06-30 22:30:00</th>\n",
       "      <td>0.0</td>\n",
       "      <td>0.0</td>\n",
       "      <td>0.0</td>\n",
       "    </tr>\n",
       "    <tr>\n",
       "      <th>2012-06-30 23:00:00</th>\n",
       "      <td>0.0</td>\n",
       "      <td>0.0</td>\n",
       "      <td>0.0</td>\n",
       "    </tr>\n",
       "    <tr>\n",
       "      <th>2012-06-30 23:30:00</th>\n",
       "      <td>0.0</td>\n",
       "      <td>0.0</td>\n",
       "      <td>0.0</td>\n",
       "    </tr>\n",
       "  </tbody>\n",
       "</table>\n",
       "<p>17568 rows × 3 columns</p>\n",
       "</div>"
      ],
      "text/plain": [
       "Customer             1    4    100\n",
       "2011-07-01 00:00:00  0.0  0.0  0.0\n",
       "2011-07-01 00:30:00  0.0  0.0  0.0\n",
       "2011-07-01 01:00:00  0.0  0.0  0.0\n",
       "2011-07-01 01:30:00  0.0  0.0  0.0\n",
       "2011-07-01 02:00:00  0.0  0.0  0.0\n",
       "...                  ...  ...  ...\n",
       "2012-06-30 21:30:00  0.0  0.0  0.0\n",
       "2012-06-30 22:00:00  0.0  0.0  0.0\n",
       "2012-06-30 22:30:00  0.0  0.0  0.0\n",
       "2012-06-30 23:00:00  0.0  0.0  0.0\n",
       "2012-06-30 23:30:00  0.0  0.0  0.0\n",
       "\n",
       "[17568 rows x 3 columns]"
      ]
     },
     "execution_count": 98,
     "metadata": {},
     "output_type": "execute_result"
    }
   ],
   "source": [
    "new_dfGG_11 = new_df_11.xs('GG', level='Channel', axis=1)\n",
    "new_dfGG_11[[1, 4, 100]]"
   ]
  },
  {
   "cell_type": "code",
   "execution_count": 99,
   "id": "61e56efe",
   "metadata": {},
   "outputs": [
    {
     "data": {
      "text/html": [
       "<div>\n",
       "<style scoped>\n",
       "    .dataframe tbody tr th:only-of-type {\n",
       "        vertical-align: middle;\n",
       "    }\n",
       "\n",
       "    .dataframe tbody tr th {\n",
       "        vertical-align: top;\n",
       "    }\n",
       "\n",
       "    .dataframe thead th {\n",
       "        text-align: right;\n",
       "    }\n",
       "</style>\n",
       "<table border=\"1\" class=\"dataframe\">\n",
       "  <thead>\n",
       "    <tr style=\"text-align: right;\">\n",
       "      <th>Customer</th>\n",
       "      <th>1</th>\n",
       "      <th>4</th>\n",
       "      <th>100</th>\n",
       "    </tr>\n",
       "  </thead>\n",
       "  <tbody>\n",
       "    <tr>\n",
       "      <th>2012-07-01 00:00:00</th>\n",
       "      <td>0.0</td>\n",
       "      <td>0.0</td>\n",
       "      <td>0.0</td>\n",
       "    </tr>\n",
       "    <tr>\n",
       "      <th>2012-07-01 00:30:00</th>\n",
       "      <td>0.0</td>\n",
       "      <td>0.0</td>\n",
       "      <td>0.0</td>\n",
       "    </tr>\n",
       "    <tr>\n",
       "      <th>2012-07-01 01:00:00</th>\n",
       "      <td>0.0</td>\n",
       "      <td>0.0</td>\n",
       "      <td>0.0</td>\n",
       "    </tr>\n",
       "    <tr>\n",
       "      <th>2012-07-01 01:30:00</th>\n",
       "      <td>0.0</td>\n",
       "      <td>0.0</td>\n",
       "      <td>0.0</td>\n",
       "    </tr>\n",
       "    <tr>\n",
       "      <th>2012-07-01 02:00:00</th>\n",
       "      <td>0.0</td>\n",
       "      <td>0.0</td>\n",
       "      <td>0.0</td>\n",
       "    </tr>\n",
       "    <tr>\n",
       "      <th>...</th>\n",
       "      <td>...</td>\n",
       "      <td>...</td>\n",
       "      <td>...</td>\n",
       "    </tr>\n",
       "    <tr>\n",
       "      <th>2013-06-30 21:30:00</th>\n",
       "      <td>0.0</td>\n",
       "      <td>0.0</td>\n",
       "      <td>0.0</td>\n",
       "    </tr>\n",
       "    <tr>\n",
       "      <th>2013-06-30 22:00:00</th>\n",
       "      <td>0.0</td>\n",
       "      <td>0.0</td>\n",
       "      <td>0.0</td>\n",
       "    </tr>\n",
       "    <tr>\n",
       "      <th>2013-06-30 22:30:00</th>\n",
       "      <td>0.0</td>\n",
       "      <td>0.0</td>\n",
       "      <td>0.0</td>\n",
       "    </tr>\n",
       "    <tr>\n",
       "      <th>2013-06-30 23:00:00</th>\n",
       "      <td>0.0</td>\n",
       "      <td>0.0</td>\n",
       "      <td>0.0</td>\n",
       "    </tr>\n",
       "    <tr>\n",
       "      <th>2013-06-30 23:30:00</th>\n",
       "      <td>0.0</td>\n",
       "      <td>0.0</td>\n",
       "      <td>0.0</td>\n",
       "    </tr>\n",
       "  </tbody>\n",
       "</table>\n",
       "<p>17520 rows × 3 columns</p>\n",
       "</div>"
      ],
      "text/plain": [
       "Customer             1    4    100\n",
       "2012-07-01 00:00:00  0.0  0.0  0.0\n",
       "2012-07-01 00:30:00  0.0  0.0  0.0\n",
       "2012-07-01 01:00:00  0.0  0.0  0.0\n",
       "2012-07-01 01:30:00  0.0  0.0  0.0\n",
       "2012-07-01 02:00:00  0.0  0.0  0.0\n",
       "...                  ...  ...  ...\n",
       "2013-06-30 21:30:00  0.0  0.0  0.0\n",
       "2013-06-30 22:00:00  0.0  0.0  0.0\n",
       "2013-06-30 22:30:00  0.0  0.0  0.0\n",
       "2013-06-30 23:00:00  0.0  0.0  0.0\n",
       "2013-06-30 23:30:00  0.0  0.0  0.0\n",
       "\n",
       "[17520 rows x 3 columns]"
      ]
     },
     "execution_count": 99,
     "metadata": {},
     "output_type": "execute_result"
    }
   ],
   "source": [
    "new_dfGG_12 = new_df_12.xs('GG', level='Channel', axis=1)\n",
    "new_dfGG_12[[1, 4, 100]]"
   ]
  },
  {
   "cell_type": "code",
   "execution_count": 100,
   "id": "2c458ae1",
   "metadata": {},
   "outputs": [
    {
     "data": {
      "image/png": "[encoded data removed]",
      "text/plain": [
       "<Figure size 432x288 with 1 Axes>"
      ]
     },
     "metadata": {
      "needs_background": "light"
     },
     "output_type": "display_data"
    }
   ],
   "source": [
    "new_dfGG_10[[1, 4, 100]]['2010-07-01':'2010-07-03'].plot()\n",
    "plt.title('PV production')\n",
    "plt.ylabel('kW')\n",
    "plt.savefig('PV production 2010-07 01-03.png', dpi=150);"
   ]
  },
  {
   "cell_type": "code",
   "execution_count": null,
   "id": "09c69fa8",
   "metadata": {},
   "outputs": [],
   "source": [
    "new_dfGG_11[[1, 4, 100]]['2011-07-01':'2011-07-03'].plot()\n",
    "plt.title('PV production')\n",
    "plt.ylabel('kW')\n",
    "plt.savefig('PV production 2011-07 01-03.png', dpi=150);"
   ]
  },
  {
   "cell_type": "code",
   "execution_count": null,
   "id": "c74182cb",
   "metadata": {},
   "outputs": [],
   "source": [
    "new_dfGG_12[[1, 4, 100]]['2012-07-01':'2012-07-03'].plot()\n",
    "plt.title('PV production')\n",
    "plt.ylabel('kW')\n",
    "plt.savefig('PV production 2012-07 01-03.png', dpi=150);"
   ]
  },
  {
   "cell_type": "code",
   "execution_count": null,
   "id": "6ba1f052",
   "metadata": {},
   "outputs": [],
   "source": [
    "d_cust_cap_10 = solar_df_10[['Customer', 'Generator Capacity']]\n",
    "d_cust_cap_10.iloc[[0,1,2000, -1]]"
   ]
  },
  {
   "cell_type": "code",
   "execution_count": null,
   "id": "6fc4fe4d",
   "metadata": {},
   "outputs": [],
   "source": [
    "d_cust_cap_11 = solar_df_11[['Customer', 'Generator Capacity']]\n",
    "d_cust_cap_11.iloc[[0,1,2000, -1]]"
   ]
  },
  {
   "cell_type": "code",
   "execution_count": null,
   "id": "a161e67d",
   "metadata": {},
   "outputs": [],
   "source": [
    "d_cust_cap_12 = solar_df_12[['Customer', 'Generator Capacity']]\n",
    "d_cust_cap_12.iloc[[0,1,2000, -1]]"
   ]
  },
  {
   "cell_type": "code",
   "execution_count": null,
   "id": "ebfdd458",
   "metadata": {},
   "outputs": [],
   "source": [
    "d_cust_cap_10.groupby('Customer')['Generator Capacity'].nunique().value_counts()"
   ]
  },
  {
   "cell_type": "code",
   "execution_count": null,
   "id": "037fd06b",
   "metadata": {},
   "outputs": [],
   "source": [
    "d_cust_cap_11.groupby('Customer')['Generator Capacity'].nunique().value_counts()"
   ]
  },
  {
   "cell_type": "code",
   "execution_count": null,
   "id": "6adc4151",
   "metadata": {},
   "outputs": [],
   "source": [
    "d_cust_cap_12.groupby('Customer')['Generator Capacity'].nunique().value_counts()"
   ]
  },
  {
   "cell_type": "code",
   "execution_count": null,
   "id": "d20dc14d",
   "metadata": {},
   "outputs": [],
   "source": [
    "gen_cap_10 = d_cust_cap_10.groupby('Customer')['Generator Capacity'].mean()\n",
    "gen_cap_10.describe(percentiles=[0.5, 0.8, 0.9, 0.980])"
   ]
  },
  {
   "cell_type": "code",
   "execution_count": null,
   "id": "fa43be1a",
   "metadata": {},
   "outputs": [],
   "source": [
    "gen_cap_11 = d_cust_cap_11.groupby('Customer')['Generator Capacity'].mean()\n",
    "gen_cap_11.describe(percentiles=[0.5, 0.8, 0.9, 0.980])"
   ]
  },
  {
   "cell_type": "code",
   "execution_count": null,
   "id": "e77cab08",
   "metadata": {},
   "outputs": [],
   "source": [
    "gen_cap_12 = d_cust_cap_12.groupby('Customer')['Generator Capacity'].mean()\n",
    "gen_cap_12.describe(percentiles=[0.5, 0.8, 0.9, 0.980])"
   ]
  },
  {
   "cell_type": "code",
   "execution_count": null,
   "id": "452016cc",
   "metadata": {},
   "outputs": [],
   "source": [
    "ax = gen_cap_10.hist(bins=20)\n",
    "ax.set(xlabel='PV gen capacity 2010 (kW)')"
   ]
  },
  {
   "cell_type": "code",
   "execution_count": null,
   "id": "cb7948d0",
   "metadata": {},
   "outputs": [],
   "source": [
    "ax = gen_cap_11.hist(bins=20)\n",
    "ax.set(xlabel='PV gen capacity 2011 (kW)')"
   ]
  },
  {
   "cell_type": "code",
   "execution_count": null,
   "id": "88230e3b",
   "metadata": {},
   "outputs": [],
   "source": [
    "ax = gen_cap_12.hist(bins=20)\n",
    "ax.set(xlabel='PV gen capacity 2012 (kW)')"
   ]
  },
  {
   "cell_type": "code",
   "execution_count": null,
   "id": "22861ef2",
   "metadata": {},
   "outputs": [],
   "source": [
    "gen_cap_10[1]"
   ]
  },
  {
   "cell_type": "code",
   "execution_count": null,
   "id": "c8effbae",
   "metadata": {},
   "outputs": [],
   "source": [
    "gen_cap_11[1]"
   ]
  },
  {
   "cell_type": "code",
   "execution_count": null,
   "id": "e7474365",
   "metadata": {},
   "outputs": [],
   "source": [
    "gen_cap_12[1]"
   ]
  },
  {
   "cell_type": "code",
   "execution_count": null,
   "id": "b39468f7",
   "metadata": {},
   "outputs": [],
   "source": [
    "new_dfGG_10[1].resample('1D').max().plot(label='daily max')\n",
    "plt.title('PV production (daily max) of customer 1 ')\n",
    "plt.ylabel('kWh')\n",
    "plt.hlines(gen_cap_10[1], new_df_10.index[0], new_df_10.index[-1], linestyles='dashed', color='tab:red', label='PV capacity')\n",
    "plt.legend();"
   ]
  },
  {
   "cell_type": "code",
   "execution_count": null,
   "id": "d6e3bfaa",
   "metadata": {},
   "outputs": [],
   "source": [
    "new_dfGG_11[1].resample('1D').max().plot(label='daily max')\n",
    "plt.title('PV production (daily max) of customer 1 ')\n",
    "plt.ylabel('kWh')\n",
    "plt.hlines(gen_cap_11[1], new_df_11.index[0], new_df_11.index[-1], linestyles='dashed', color='tab:red', label='PV capacity')\n",
    "plt.legend();"
   ]
  },
  {
   "cell_type": "code",
   "execution_count": null,
   "id": "1a8de2f7",
   "metadata": {},
   "outputs": [],
   "source": [
    "new_dfGG_12[1].resample('1D').max().plot(label='daily max')\n",
    "plt.title('PV production (daily max) of customer 1 ')\n",
    "plt.ylabel('kWh')\n",
    "plt.hlines(gen_cap_12[1], new_df_12.index[0], new_df_12.index[-1], linestyles='dashed', color='tab:red', label='PV capacity')\n",
    "plt.legend();"
   ]
  },
  {
   "cell_type": "code",
   "execution_count": null,
   "id": "3df76700",
   "metadata": {},
   "outputs": [],
   "source": [
    "dt_10 = 0.5 # hours\n",
    "GG_year_10 = new_dfGG_10.sum()*dt_10\n",
    "GG_year_10.mean(), GG_year_10.median()"
   ]
  },
  {
   "cell_type": "code",
   "execution_count": null,
   "id": "83f59200",
   "metadata": {},
   "outputs": [],
   "source": [
    "dt_11 = 0.5 # hours\n",
    "GG_year_11 = new_dfGG_11.sum()*dt_11\n",
    "GG_year_11.mean(), GG_year_11.median()"
   ]
  },
  {
   "cell_type": "code",
   "execution_count": null,
   "id": "6e8fcf73",
   "metadata": {},
   "outputs": [],
   "source": [
    "dt_12 = 0.5 # hours\n",
    "GG_year_12 = new_dfGG_12.sum()*dt_12\n",
    "GG_year_12.mean(), GG_year_12.median()"
   ]
  },
  {
   "cell_type": "code",
   "execution_count": null,
   "id": "5c8f7794",
   "metadata": {},
   "outputs": [],
   "source": [
    "pv_perf_10 = GG_year_10/gen_cap_10\n",
    "pv_perf_10.mean()"
   ]
  },
  {
   "cell_type": "code",
   "execution_count": null,
   "id": "a2d0bf58",
   "metadata": {},
   "outputs": [],
   "source": [
    "pv_perf_11 = GG_year_11/gen_cap_11\n",
    "pv_perf_11.mean()"
   ]
  },
  {
   "cell_type": "code",
   "execution_count": null,
   "id": "aad75f39",
   "metadata": {},
   "outputs": [],
   "source": [
    "pv_perf_12 = GG_year_12/gen_cap_12\n",
    "pv_perf_12.mean()"
   ]
  },
  {
   "cell_type": "code",
   "execution_count": null,
   "id": "3c5142db",
   "metadata": {},
   "outputs": [],
   "source": [
    "pv_perf_10.hist(bins=30)\n",
    "plt.xlabel('yearly PV production kWh/kWp');"
   ]
  },
  {
   "cell_type": "code",
   "execution_count": null,
   "id": "6799a52f",
   "metadata": {},
   "outputs": [],
   "source": [
    "pv_perf_11.hist(bins=30)\n",
    "plt.xlabel('yearly PV production kWh/kWp');"
   ]
  },
  {
   "cell_type": "code",
   "execution_count": null,
   "id": "e2c0cf7c",
   "metadata": {},
   "outputs": [],
   "source": [
    "pv_perf_12.hist(bins=30)\n",
    "plt.xlabel('yearly PV production kWh/kWp');"
   ]
  },
  {
   "cell_type": "code",
   "execution_count": null,
   "id": "298c4e77",
   "metadata": {},
   "outputs": [],
   "source": [
    "new_dfGC_10 = new_df_10.xs('GC', level='Channel', axis=1)\n",
    "new_dfCL_10 = new_df_10.xs('CL', level='Channel', axis=1)"
   ]
  },
  {
   "cell_type": "code",
   "execution_count": null,
   "id": "4dd3a6a0",
   "metadata": {},
   "outputs": [],
   "source": [
    "new_dfGC_11 = new_df_11.xs('GC', level='Channel', axis=1)\n",
    "new_dfCL_11 = new_df_11.xs('CL', level='Channel', axis=1)"
   ]
  },
  {
   "cell_type": "code",
   "execution_count": null,
   "id": "6bbc7b36",
   "metadata": {},
   "outputs": [],
   "source": [
    "new_dfGC_12 = new_df_12.xs('GC', level='Channel', axis=1)\n",
    "new_dfCL_12 = new_df_12.xs('CL', level='Channel', axis=1)"
   ]
  },
  {
   "cell_type": "code",
   "execution_count": null,
   "id": "29db636f",
   "metadata": {},
   "outputs": [],
   "source": [
    "dt_10 = 0.5 # hours\n",
    "GC_year_10 = new_dfGC_10.sum()*dt_10\n",
    "CL_year_10 = new_dfCL_10.sum()*dt_10\n",
    "\n",
    "GC_year_10.mean(), CL_year_10.mean(), GC_year_10.mean()+  CL_year_10.mean(), (GC_year_10 +  CL_year_10).mean()"
   ]
  },
  {
   "cell_type": "code",
   "execution_count": null,
   "id": "37d85196",
   "metadata": {},
   "outputs": [],
   "source": [
    "dt_11 = 0.5 # hours\n",
    "GC_year_11 = new_dfGC_11.sum()*dt_11\n",
    "CL_year_11 = new_dfCL_11.sum()*dt_11\n",
    "\n",
    "GC_year_11.mean(), CL_year_11.mean(), GC_year_11.mean()+  CL_year_11.mean(), (GC_year_11 +  CL_year_11).mean()"
   ]
  },
  {
   "cell_type": "code",
   "execution_count": null,
   "id": "f5f4b7de",
   "metadata": {},
   "outputs": [],
   "source": [
    "dt_12 = 0.5 # hours\n",
    "GC_year_12 = new_dfGC_12.sum()*dt_12\n",
    "CL_year_12 = new_dfCL_12.sum()*dt_12\n",
    "\n",
    "GC_year_12.mean(), CL_year_12.mean(), GC_year_12.mean()+  CL_year_12.mean(), (GC_year_12 +  CL_year_12).mean()"
   ]
  },
  {
   "cell_type": "code",
   "execution_count": null,
   "id": "ac7151bd",
   "metadata": {},
   "outputs": [],
   "source": [
    "GC_year_10 +  CL_year_10"
   ]
  },
  {
   "cell_type": "code",
   "execution_count": null,
   "id": "97ddde27",
   "metadata": {},
   "outputs": [],
   "source": [
    "GC_year_11 +  CL_year_11"
   ]
  },
  {
   "cell_type": "code",
   "execution_count": null,
   "id": "6cf695c3",
   "metadata": {},
   "outputs": [],
   "source": [
    "GC_year_12 +  CL_year_12"
   ]
  },
  {
   "cell_type": "code",
   "execution_count": null,
   "id": "ef3beab0",
   "metadata": {},
   "outputs": [],
   "source": [
    "Cons_y_10 = pd.DataFrame({'GCy': GC_year_10, 'CLy':  CL_year_10})\n",
    "Cons_y_10.sum(axis=1)"
   ]
  },
  {
   "cell_type": "code",
   "execution_count": null,
   "id": "6819cfe7",
   "metadata": {},
   "outputs": [],
   "source": [
    "Cons_y_11 = pd.DataFrame({'GCy': GC_year_11, 'CLy':  CL_year_11})\n",
    "Cons_y_11.sum(axis=1)"
   ]
  },
  {
   "cell_type": "code",
   "execution_count": null,
   "id": "9ed0ee7d",
   "metadata": {},
   "outputs": [],
   "source": [
    "Cons_y_12 = pd.DataFrame({'GCy': GC_year_12, 'CLy':  CL_year_12})\n",
    "Cons_y_12.sum(axis=1)"
   ]
  },
  {
   "cell_type": "code",
   "execution_count": null,
   "id": "64ae3ad6",
   "metadata": {},
   "outputs": [],
   "source": [
    "Cons_y_10.sum(axis=1).mean()"
   ]
  },
  {
   "cell_type": "code",
   "execution_count": null,
   "id": "33ba72fc",
   "metadata": {},
   "outputs": [],
   "source": [
    "Cons_y_11.sum(axis=1).mean()"
   ]
  },
  {
   "cell_type": "code",
   "execution_count": null,
   "id": "14897f61",
   "metadata": {},
   "outputs": [],
   "source": [
    "Cons_y_12.sum(axis=1).mean()"
   ]
  },
  {
   "cell_type": "code",
   "execution_count": null,
   "id": "0af42044",
   "metadata": {},
   "outputs": [],
   "source": [
    "Cons_y_10.sum(axis=1).hist(bins=30)"
   ]
  },
  {
   "cell_type": "code",
   "execution_count": null,
   "id": "5ea227cf",
   "metadata": {},
   "outputs": [],
   "source": [
    "Cons_y_11.sum(axis=1).hist(bins=30)"
   ]
  },
  {
   "cell_type": "code",
   "execution_count": null,
   "id": "613ac97e",
   "metadata": {},
   "outputs": [],
   "source": [
    "Cons_y_12.sum(axis=1).hist(bins=30)"
   ]
  },
  {
   "cell_type": "code",
   "execution_count": null,
   "id": "ad63ca91",
   "metadata": {},
   "outputs": [],
   "source": [
    "Cons_10 = new_dfGC_10.add(new_dfCL_10, fill_value=0) \n",
    "Cons_10.max().describe()"
   ]
  },
  {
   "cell_type": "code",
   "execution_count": null,
   "id": "4295f3bb",
   "metadata": {},
   "outputs": [],
   "source": [
    "Cons_11 = new_dfGC_10.add(new_dfCL_11, fill_value=0) \n",
    "Cons_11.max().describe()"
   ]
  },
  {
   "cell_type": "code",
   "execution_count": null,
   "id": "8d1728ba",
   "metadata": {},
   "outputs": [],
   "source": [
    "Cons_12 = new_dfGC_12.add(new_dfCL_12, fill_value=0) \n",
    "Cons_12.max().describe()"
   ]
  },
  {
   "cell_type": "code",
   "execution_count": null,
   "id": "c44b58c6",
   "metadata": {},
   "outputs": [],
   "source": [
    "Cons_10.max().hist(bins=30)\n",
    "plt.xlabel('Max consumption (kW)');"
   ]
  },
  {
   "cell_type": "code",
   "execution_count": null,
   "id": "9b938a85",
   "metadata": {},
   "outputs": [],
   "source": [
    "Cons_11.max().hist(bins=30)\n",
    "plt.xlabel('Max consumption (kW)');"
   ]
  },
  {
   "cell_type": "code",
   "execution_count": null,
   "id": "3b55102b",
   "metadata": {},
   "outputs": [],
   "source": [
    "Cons_12.max().hist(bins=30)\n",
    "plt.xlabel('Max consumption (kW)');"
   ]
  },
  {
   "cell_type": "code",
   "execution_count": null,
   "id": "962a0640",
   "metadata": {},
   "outputs": [],
   "source": [
    "Cons_hours_10 = Cons_y_10.sum(axis=1)/Cons_10.max()\n",
    "Cons_hours_10.describe()"
   ]
  },
  {
   "cell_type": "code",
   "execution_count": null,
   "id": "74686a18",
   "metadata": {},
   "outputs": [],
   "source": [
    "Cons_hours_11 = Cons_y_11.sum(axis=1)/Cons_11.max()\n",
    "Cons_hours_11.describe()"
   ]
  },
  {
   "cell_type": "code",
   "execution_count": null,
   "id": "abe0cd40",
   "metadata": {},
   "outputs": [],
   "source": [
    "Cons_hours_12 = Cons_y_12.sum(axis=1)/Cons_12.max()\n",
    "Cons_hours_12.describe()"
   ]
  },
  {
   "cell_type": "code",
   "execution_count": null,
   "id": "ee427f9d",
   "metadata": {},
   "outputs": [],
   "source": [
    "Cons_hours_10.hist(bins=30)"
   ]
  },
  {
   "cell_type": "code",
   "execution_count": null,
   "id": "881d4587",
   "metadata": {},
   "outputs": [],
   "source": [
    "Cons_hours_11.hist(bins=30)"
   ]
  },
  {
   "cell_type": "code",
   "execution_count": null,
   "id": "e93adcd5",
   "metadata": {},
   "outputs": [],
   "source": [
    "Cons_hours_12.hist(bins=30)"
   ]
  },
  {
   "cell_type": "code",
   "execution_count": null,
   "id": "9d3ff75a",
   "metadata": {},
   "outputs": [],
   "source": [
    "# Single Customer:"
   ]
  },
  {
   "cell_type": "code",
   "execution_count": null,
   "id": "42a942f5",
   "metadata": {},
   "outputs": [],
   "source": [
    "cust_df_10 = new_df_10[1]\n",
    "del cust_df_10['CL']\n",
    "cust_df_10 /= 2\n",
    "cust_df_10"
   ]
  },
  {
   "cell_type": "code",
   "execution_count": null,
   "id": "d1bc249c",
   "metadata": {},
   "outputs": [],
   "source": [
    "cust_df_10 = new_df_10[2]\n",
    "del cust_df_10['CL']\n",
    "cust_df_10 /= 2\n",
    "cust_df_10"
   ]
  },
  {
   "cell_type": "code",
   "execution_count": null,
   "id": "7ac5dcec",
   "metadata": {},
   "outputs": [],
   "source": [
    "cust_df_11 = new_df_11[100]\n",
    "del cust_df_11['CL']\n",
    "cust_df_11 /= 2\n",
    "cust_df_11"
   ]
  },
  {
   "cell_type": "code",
   "execution_count": null,
   "id": "8c751b0e",
   "metadata": {},
   "outputs": [],
   "source": [
    "cust_df_12 = new_df_12[100]\n",
    "del cust_df_12['CL']\n",
    "cust_df_12 /= 2\n",
    "cust_df_12"
   ]
  },
  {
   "cell_type": "code",
   "execution_count": null,
   "id": "9ce47e8b",
   "metadata": {},
   "outputs": [],
   "source": [
    "cust_df_10.describe([])"
   ]
  },
  {
   "cell_type": "code",
   "execution_count": null,
   "id": "a689e68e",
   "metadata": {},
   "outputs": [],
   "source": [
    "cust_df_11.describe([])"
   ]
  },
  {
   "cell_type": "code",
   "execution_count": null,
   "id": "bf7f92d3",
   "metadata": {},
   "outputs": [],
   "source": [
    "cust_df_12.describe([])"
   ]
  },
  {
   "cell_type": "code",
   "execution_count": null,
   "id": "08862be5",
   "metadata": {},
   "outputs": [],
   "source": [
    "prod_10 = cust_df_10.GG\n",
    "cons_10 = cust_df_10.GC\n",
    "cons_10.hist(bins=30, label='Consumption')\n",
    "(prod_10[prod_10>=0.01]).hist(label='PV prod (>0)', alpha=0.8)\n",
    "plt.legend();"
   ]
  },
  {
   "cell_type": "code",
   "execution_count": null,
   "id": "b0df028b",
   "metadata": {},
   "outputs": [],
   "source": [
    "prod_11 = cust_df_11.GG\n",
    "cons_11 = cust_df_11.GC\n",
    "cons_11.hist(bins=30, label='Consumption')\n",
    "(prod_11[prod_11>=0.01]).hist(label='PV prod (>0)', alpha=0.8)\n",
    "plt.legend();"
   ]
  },
  {
   "cell_type": "code",
   "execution_count": null,
   "id": "b1a61048",
   "metadata": {},
   "outputs": [],
   "source": [
    "prod_12 = cust_df_12.GG\n",
    "cons_12 = cust_df_12.GC\n",
    "cons_12.hist(bins=30, label='Consumption')\n",
    "(prod_12[prod_12>=0.01]).hist(label='PV prod (>0)', alpha=0.8)\n",
    "plt.legend();"
   ]
  },
  {
   "cell_type": "code",
   "execution_count": null,
   "id": "2b438cd9",
   "metadata": {},
   "outputs": [],
   "source": [
    "dt_10 = 0.5 # hours\n",
    "E_pv_10 = prod_10.sum() * dt_10\n",
    "E_pv_10"
   ]
  },
  {
   "cell_type": "code",
   "execution_count": null,
   "id": "8905aaa4",
   "metadata": {},
   "outputs": [],
   "source": [
    "dt_11 = 0.5 # hours\n",
    "E_pv_11 = prod_11.sum() * dt_11\n",
    "E_pv_11"
   ]
  },
  {
   "cell_type": "code",
   "execution_count": null,
   "id": "694c97fd",
   "metadata": {},
   "outputs": [],
   "source": [
    "dt_12 = 0.5 # hours\n",
    "E_pv_12 = prod_12.sum() * dt_12\n",
    "E_pv_12"
   ]
  },
  {
   "cell_type": "code",
   "execution_count": null,
   "id": "e391a491",
   "metadata": {},
   "outputs": [],
   "source": [
    "gen_c_10 = gen_cap_10[100]\n",
    "gen_c_10"
   ]
  },
  {
   "cell_type": "code",
   "execution_count": null,
   "id": "637a9db1",
   "metadata": {},
   "outputs": [],
   "source": [
    "gen_c_11 = gen_cap_11[100]\n",
    "gen_c_11"
   ]
  },
  {
   "cell_type": "code",
   "execution_count": null,
   "id": "d029c336",
   "metadata": {},
   "outputs": [],
   "source": [
    "gen_c_12 = gen_cap_12[100]\n",
    "gen_c_12"
   ]
  },
  {
   "cell_type": "code",
   "execution_count": null,
   "id": "15e7fd1c",
   "metadata": {},
   "outputs": [],
   "source": [
    "E_pv_10/gen_c_10"
   ]
  },
  {
   "cell_type": "code",
   "execution_count": null,
   "id": "b44c13c6",
   "metadata": {},
   "outputs": [],
   "source": [
    "E_pv_11/gen_c_11"
   ]
  },
  {
   "cell_type": "code",
   "execution_count": null,
   "id": "01dd4443",
   "metadata": {},
   "outputs": [],
   "source": [
    "E_pv_12/gen_c_12"
   ]
  },
  {
   "cell_type": "code",
   "execution_count": null,
   "id": "7a5db962",
   "metadata": {},
   "outputs": [],
   "source": [
    "E_cons_10 = cons_10.sum() * dt_10\n",
    "E_cons_10"
   ]
  },
  {
   "cell_type": "code",
   "execution_count": null,
   "id": "3604f32e",
   "metadata": {},
   "outputs": [],
   "source": [
    "E_cons_11 = cons_11.sum() * dt_11\n",
    "E_cons_11"
   ]
  },
  {
   "cell_type": "code",
   "execution_count": null,
   "id": "febcaadf",
   "metadata": {},
   "outputs": [],
   "source": [
    "E_cons_12 = cons_12.sum() * dt_12\n",
    "E_cons_12"
   ]
  },
  {
   "cell_type": "code",
   "execution_count": null,
   "id": "98271e80",
   "metadata": {},
   "outputs": [],
   "source": [
    "fig, (ax1, ax2) = plt.subplots(2,1, sharex=True)\n",
    "\n",
    "sl_10 = slice('2010-11-29','2010-12-05')\n",
    "cons_10[sl_10].plot(ax=ax1, label='Consumption')\n",
    "prod_10[sl_10].plot(ax=ax2, color='tab:orange', label='PV production')\n",
    "\n",
    "ax1.legend(loc='upper right')\n",
    "ax2.legend(loc='upper right')\n",
    "\n",
    "ax1.set(\n",
    "    title='Customer %d data: 7 days extract' % 100,\n",
    "    ylabel='Power (kW)'\n",
    ")\n",
    "ax2.set(\n",
    "    ylabel='Power (kW)'\n",
    ");\n",
    "\n",
    "fig.tight_layout()\n",
    "fig.savefig('data_week_%s.png' % sl_10.start, dpi=200, bbox_inches='tight')"
   ]
  },
  {
   "cell_type": "code",
   "execution_count": null,
   "id": "ff65ce8b",
   "metadata": {},
   "outputs": [],
   "source": [
    "fig, (ax1, ax2) = plt.subplots(2,1, sharex=True)\n",
    "\n",
    "sl_11 = slice('2011-11-29','2011-12-05')\n",
    "cons_11[sl_11].plot(ax=ax1, label='Consumption')\n",
    "prod_11[sl_11].plot(ax=ax2, color='tab:orange', label='PV production')\n",
    "\n",
    "ax1.legend(loc='upper right')\n",
    "ax2.legend(loc='upper right')\n",
    "\n",
    "ax1.set(\n",
    "    title='Customer %d data: 7 days extract' % 100,\n",
    "    ylabel='Power (kW)'\n",
    ")\n",
    "ax2.set(\n",
    "    ylabel='Power (kW)'\n",
    ");\n",
    "\n",
    "fig.tight_layout()\n",
    "fig.savefig('data_week_%s.png' % sl_11.start, dpi=200, bbox_inches='tight')"
   ]
  },
  {
   "cell_type": "code",
   "execution_count": null,
   "id": "1a0f05cb",
   "metadata": {},
   "outputs": [],
   "source": [
    "fig, (ax1, ax2) = plt.subplots(2,1, sharex=True)\n",
    "\n",
    "sl_12 = slice('2012-11-29','2012-12-05')\n",
    "cons_12[sl_12].plot(ax=ax1, label='Consumption')\n",
    "prod_12[sl_12].plot(ax=ax2, color='tab:orange', label='PV production')\n",
    "\n",
    "ax1.legend(loc='upper right')\n",
    "ax2.legend(loc='upper right')\n",
    "\n",
    "ax1.set(\n",
    "    title='Customer %d data: 7 days extract' % 100,\n",
    "    ylabel='Power (kW)'\n",
    ")\n",
    "ax2.set(\n",
    "    ylabel='Power (kW)'\n",
    ");\n",
    "\n",
    "fig.tight_layout()\n",
    "fig.savefig('data_week_%s.png' % sl_12.start, dpi=200, bbox_inches='tight')"
   ]
  },
  {
   "cell_type": "code",
   "execution_count": null,
   "id": "33e3a7fc",
   "metadata": {},
   "outputs": [],
   "source": [
    "def hod_10(tstamp_10):\n",
    "    'hour of the day (fractional))'\n",
    "    return tstamp_10.hour + tstamp_10.minute/60\n",
    "\n",
    "d_dm_10 = cust_df_10.groupby(by=hod_10).mean()\n",
    "d_d05_10 = cust_df_10.groupby(by=hod_10).quantile(.05)\n",
    "d_d25_10 = cust_df_10.groupby(by=hod_10).quantile(.25)\n",
    "d_d75_10 = cust_df_10.groupby(by=hod_10).quantile(.75)\n",
    "d_d95_10 = cust_df_10.groupby(by=hod_10).quantile(.95)"
   ]
  },
  {
   "cell_type": "code",
   "execution_count": null,
   "id": "83ea590b",
   "metadata": {},
   "outputs": [],
   "source": [
    "def hod_11(tstamp_11):\n",
    "    'hour of the day (fractional))'\n",
    "    return tstamp_11.hour + tstamp_11.minute/60\n",
    "\n",
    "d_dm_11 = cust_df_11.groupby(by=hod_11).mean()\n",
    "d_d05_11 = cust_df_11.groupby(by=hod_11).quantile(.05)\n",
    "d_d25_11 = cust_df_11.groupby(by=hod_11).quantile(.25)\n",
    "d_d75_11 = cust_df_11.groupby(by=hod_11).quantile(.75)\n",
    "d_d95_11 = cust_df_11.groupby(by=hod_11).quantile(.95)"
   ]
  },
  {
   "cell_type": "code",
   "execution_count": null,
   "id": "d58fda41",
   "metadata": {},
   "outputs": [],
   "source": [
    "def hod_12(tstamp_12):\n",
    "    'hour of the day (fractional))'\n",
    "    return tstamp_12.hour + tstamp_12.minute/60\n",
    "\n",
    "d_dm_12 = cust_df_12.groupby(by=hod_12).mean()\n",
    "d_d05_12 = cust_df_12.groupby(by=hod_12).quantile(.05)\n",
    "d_d25_12 = cust_df_12.groupby(by=hod_12).quantile(.25)\n",
    "d_d75_12 = cust_df_12.groupby(by=hod_12).quantile(.75)\n",
    "d_d95_12 = cust_df_12.groupby(by=hod_12).quantile(.95)"
   ]
  },
  {
   "cell_type": "code",
   "execution_count": null,
   "id": "232b6d8e",
   "metadata": {},
   "outputs": [],
   "source": [
    "fig, (ax1, ax2) = plt.subplots(2,1, sharex=True)\n",
    "\n",
    "c = 'tab:blue'\n",
    "d_dm_10.GC.plot(ax=ax1, color=c, label='Consumption')\n",
    "ax1.fill_between(d_dm_10.index, d_d05_10.GC, d_d95_10.GC, alpha=0.3, color=c, lw=0)\n",
    "ax1.fill_between(d_dm_10.index, d_d25_10.GC, d_d75_10.GC, alpha=0.3, color=c, lw=0)\n",
    "ax1.set_ylim(ymin=0)\n",
    "ax1.legend(loc='upper left')\n",
    "\n",
    "c = 'tab:orange'\n",
    "d_dm_10.GG.plot(ax=ax2, color=c, label='PV production')\n",
    "ax2.fill_between(d_dm_10.index, d_d05_10.GG, d_d95_10.GG, alpha=0.3, color=c, lw=0)\n",
    "ax2.fill_between(d_dm_10.index, d_d25_10.GG, d_d75_10.GG, alpha=0.3, color=c, lw=0)\n",
    "ax2.legend(loc='upper left')\n",
    "\n",
    "ax1.set(\n",
    "    title='Customer %d daily pattern' % 100,\n",
    "    ylabel='Power (kW)'\n",
    ");\n",
    "ax2.set(\n",
    "    xlabel='hour of the day',\n",
    "    ylabel='Power (kW)'\n",
    ");\n",
    "fig.tight_layout()\n",
    "fig.savefig('daily_pattern_2010-2011.png', dpi=200, bbox_inches='tight')"
   ]
  },
  {
   "cell_type": "code",
   "execution_count": null,
   "id": "4c5694c3",
   "metadata": {},
   "outputs": [],
   "source": [
    "fig, (ax1, ax2) = plt.subplots(2,1, sharex=True)\n",
    "\n",
    "c = 'tab:blue'\n",
    "d_dm_11.GC.plot(ax=ax1, color=c, label='Consumption')\n",
    "ax1.fill_between(d_dm_11.index, d_d05_11.GC, d_d95_11.GC, alpha=0.3, color=c, lw=0)\n",
    "ax1.fill_between(d_dm_11.index, d_d25_11.GC, d_d75_11.GC, alpha=0.3, color=c, lw=0)\n",
    "ax1.set_ylim(ymin=0)\n",
    "ax1.legend(loc='upper left')\n",
    "\n",
    "c = 'tab:orange'\n",
    "d_dm_11.GG.plot(ax=ax2, color=c, label='PV production')\n",
    "ax2.fill_between(d_dm_11.index, d_d05_11.GG, d_d95_11.GG, alpha=0.3, color=c, lw=0)\n",
    "ax2.fill_between(d_dm_11.index, d_d25_11.GG, d_d75_11.GG, alpha=0.3, color=c, lw=0)\n",
    "ax2.legend(loc='upper left')\n",
    "\n",
    "ax1.set(\n",
    "    title='Customer %d daily pattern' % 100,\n",
    "    ylabel='Power (kW)'\n",
    ");\n",
    "ax2.set(\n",
    "    xlabel='hour of the day',\n",
    "    ylabel='Power (kW)'\n",
    ");\n",
    "fig.tight_layout()\n",
    "fig.savefig('daily_pattern_2011-2012.png', dpi=200, bbox_inches='tight')"
   ]
  },
  {
   "cell_type": "code",
   "execution_count": null,
   "id": "b9603511",
   "metadata": {},
   "outputs": [],
   "source": [
    "fig, (ax1, ax2) = plt.subplots(2,1, sharex=True)\n",
    "\n",
    "c = 'tab:blue'\n",
    "d_dm_12.GC.plot(ax=ax1, color=c, label='Consumption')\n",
    "ax1.fill_between(d_dm_12.index, d_d05_12.GC, d_d95_12.GC, alpha=0.3, color=c, lw=0)\n",
    "ax1.fill_between(d_dm_12.index, d_d25_12.GC, d_d75_12.GC, alpha=0.3, color=c, lw=0)\n",
    "ax1.set_ylim(ymin=0)\n",
    "ax1.legend(loc='upper left')\n",
    "\n",
    "c = 'tab:orange'\n",
    "d_dm_12.GG.plot(ax=ax2, color=c, label='PV production')\n",
    "ax2.fill_between(d_dm_12.index, d_d05_12.GG, d_d95_12.GG, alpha=0.3, color=c, lw=0)\n",
    "ax2.fill_between(d_dm_12.index, d_d25_12.GG, d_d75_12.GG, alpha=0.3, color=c, lw=0)\n",
    "ax2.legend(loc='upper left')\n",
    "\n",
    "ax1.set(\n",
    "    title='Customer %d daily pattern' % 100,\n",
    "    ylabel='Power (kW)'\n",
    ");\n",
    "ax2.set(\n",
    "    xlabel='hour of the day',\n",
    "    ylabel='Power (kW)'\n",
    ");\n",
    "fig.tight_layout()\n",
    "fig.savefig('daily_pattern_2012-2013.png', dpi=200, bbox_inches='tight')"
   ]
  },
  {
   "cell_type": "code",
   "execution_count": null,
   "id": "91e52de6",
   "metadata": {},
   "outputs": [],
   "source": [
    "quantiles_10 = np.linspace(0.05, 0.95, 19)\n",
    "quantiles_10"
   ]
  },
  {
   "cell_type": "code",
   "execution_count": null,
   "id": "7201f64a",
   "metadata": {},
   "outputs": [],
   "source": [
    "quantiles_11 = np.linspace(0.05, 0.95, 19)\n",
    "quantiles_11"
   ]
  },
  {
   "cell_type": "code",
   "execution_count": null,
   "id": "bebd56a7",
   "metadata": {},
   "outputs": [],
   "source": [
    "quantiles_12 = np.linspace(0.05, 0.95, 19)\n",
    "quantiles_12"
   ]
  },
  {
   "cell_type": "code",
   "execution_count": null,
   "id": "47ff7218",
   "metadata": {},
   "outputs": [],
   "source": [
    "def daily_pattern_10(ts_10):\n",
    "    dstats_10 = pd.DataFrame({\n",
    "        'q{:02.0f}'.format(q*100) : ts_10.groupby(by=hod_10).quantile(q)\n",
    "        for q in quantiles\n",
    "    })\n",
    "    dstats_10.insert(0, 'min',  ts_10.groupby(by=hod_10).min())\n",
    "    dstats_10.insert(0, 'mean', ts_10.groupby(by=hod_10).mean())\n",
    "    dstats_10['max'] = ts_10.groupby(by=hod_10).max()\n",
    "    return dstats_10"
   ]
  },
  {
   "cell_type": "code",
   "execution_count": null,
   "id": "40a4d13e",
   "metadata": {},
   "outputs": [],
   "source": [
    "def daily_pattern_11(ts_11):\n",
    "    dstats_11 = pd.DataFrame({\n",
    "        'q{:02.0f}'.format(q*100) : ts_11.groupby(by=hod_11).quantile(q)\n",
    "        for q in quantiles\n",
    "    })\n",
    "    dstats_11.insert(0, 'min',  ts_11.groupby(by=hod_11).min())\n",
    "    dstats_11.insert(0, 'mean', ts_11.groupby(by=hod_11).mean())\n",
    "    dstats_11['max'] = ts_11.groupby(by=hod_11).max()\n",
    "    return dstats_11"
   ]
  },
  {
   "cell_type": "code",
   "execution_count": null,
   "id": "7d93200f",
   "metadata": {},
   "outputs": [],
   "source": [
    "def daily_pattern_12(ts_12):\n",
    "    dstats_12 = pd.DataFrame({\n",
    "        'q{:02.0f}'.format(q*100) : ts_12.groupby(by=hod_12).quantile(q)\n",
    "        for q in quantiles\n",
    "    })\n",
    "    dstats_12.insert(0, 'min',  ts_12.groupby(by=hod_12).min())\n",
    "    dstats_12.insert(0, 'mean', ts_12.groupby(by=hod_12).mean())\n",
    "    dstats_12['max'] = ts_12.groupby(by=hod_12).max()\n",
    "    return dstats_12"
   ]
  },
  {
   "cell_type": "code",
   "execution_count": null,
   "id": "dc3a8568",
   "metadata": {},
   "outputs": [],
   "source": [
    "def plot_daily_pattern(dstats, title):\n",
    "    fig, ax = plt.subplots(1,1)\n",
    "    \n",
    "    q_names = [c for c in dstats.columns if c.startswith('q')]\n",
    "    \n",
    "    dstats[q_names[:9]].plot(ax=ax, color='tab:blue', lw=0.5)\n",
    "    dstats['q50'].plot(ax=ax, color='k')\n",
    "    dstats[q_names[11:]].plot(ax=ax, color='tab:red', lw=0.5)\n",
    "    dstats['min'].plot(ax=ax, color='tab:blue', label='min')\n",
    "    dstats['max'].plot(ax=ax, color='tab:red')\n",
    "    dstats['mean'].plot(ax=ax, color='k', lw=6, alpha=0.5)\n",
    "    plt.legend(ax.lines[-3:], ['min', 'max', 'mean']);\n",
    "    \n",
    "    ax.set(\n",
    "        xlabel='hour of the day',\n",
    "        ylabel='Power (kW)',\n",
    "        title=title)\n",
    "    fig.tight_layout()\n",
    "    return fig, ax"
   ]
  },
  {
   "cell_type": "markdown",
   "id": "e09d8243",
   "metadata": {},
   "source": [
    "### Weather Data"
   ]
  },
  {
   "cell_type": "code",
   "execution_count": null,
   "id": "57cd7577",
   "metadata": {},
   "outputs": [],
   "source": [
    "weather = pd.read_csv('weatherAUS.csv')"
   ]
  },
  {
   "cell_type": "code",
   "execution_count": null,
   "id": "138a3758",
   "metadata": {},
   "outputs": [],
   "source": [
    "weather"
   ]
  },
  {
   "cell_type": "code",
   "execution_count": null,
   "id": "50688fa5",
   "metadata": {},
   "outputs": [],
   "source": [
    "new_df_1 = new_df_10[1]\n",
    "del new_df_1['CL']\n",
    "new_df_1.reset_index(inplace=True)\n",
    "new_df_1 = new_df_1.rename(columns={'index': 'dt'})\n",
    "new_df_1['Date'] = new_df_1['dt'].dt.date\n",
    "new_df_1['Time'] = new_df_1['dt'].dt.time"
   ]
  },
  {
   "cell_type": "code",
   "execution_count": null,
   "id": "213596b8",
   "metadata": {},
   "outputs": [],
   "source": [
    "j = 0\n",
    "\n",
    "for i in range(len(weather)):\n",
    "    if(str(weather['Date'][i]) == str(new_df_1['Date'][0])):\n",
    "        j = i\n",
    "        break\n",
    "count = 0\n",
    "b = []\n",
    "c = []\n",
    "d = []\n",
    "e = []\n",
    "for i in range(len(new_df_1)):\n",
    "    if(str(new_df_1['Date'][i]) == str(weather['Date'][j])):\n",
    "        a = np.linspace(weather['MinTemp'][j],weather['MaxTemp'][j], num = 48)\n",
    "        b.append(a[count])\n",
    "        c.append(weather['MinTemp'][j])\n",
    "        d.append(weather['MaxTemp'][j])\n",
    "        e.append(weather['Rainfall'][j])\n",
    "        count = count + 1\n",
    "        if(count == 48):\n",
    "            count = 0\n",
    "            j = j + 1\n",
    "    else:\n",
    "        b.append(np.nan)\n",
    "        c.append(np.nan)\n",
    "        d.append(np.nan)\n",
    "        e.append(np.nan)\n",
    "        count = count + 1\n",
    "        if(count == 48):\n",
    "            count = 0"
   ]
  },
  {
   "cell_type": "code",
   "execution_count": null,
   "id": "a76bbb66",
   "metadata": {},
   "outputs": [],
   "source": [
    "new_df_1['Temp'] = b\n",
    "new_df_1['min_temp'] = c\n",
    "new_df_1['max_temp'] = d\n",
    "new_df_1['Rainfall'] = e"
   ]
  },
  {
   "cell_type": "code",
   "execution_count": null,
   "id": "f7de94ba",
   "metadata": {},
   "outputs": [],
   "source": [
    "new_df_1"
   ]
  },
  {
   "cell_type": "code",
   "execution_count": null,
   "id": "997ce8bd",
   "metadata": {},
   "outputs": [],
   "source": [
    "new_df_1[new_df_1.isnull().any(axis=1)]"
   ]
  },
  {
   "cell_type": "code",
   "execution_count": null,
   "id": "db4d0a03",
   "metadata": {},
   "outputs": [],
   "source": [
    "new_df_1.interpolate(method='ffill', limit_direction='forward', inplace=True)"
   ]
  },
  {
   "cell_type": "code",
   "execution_count": null,
   "id": "62eaaa25",
   "metadata": {},
   "outputs": [],
   "source": [
    "new_df_1[new_df_1.isnull().any(axis=1)]"
   ]
  },
  {
   "cell_type": "code",
   "execution_count": null,
   "id": "8e066f84",
   "metadata": {},
   "outputs": [],
   "source": [
    "new_df_1"
   ]
  },
  {
   "cell_type": "code",
   "execution_count": null,
   "id": "19968187",
   "metadata": {},
   "outputs": [],
   "source": [
    "dtf = new_df_1[['min_temp','max_temp','Rainfall','GC']]\n",
    "dtf"
   ]
  },
  {
   "cell_type": "code",
   "execution_count": null,
   "id": "2d18b43a",
   "metadata": {},
   "outputs": [],
   "source": [
    "dtf[dtf.isnull().any(axis=1)]"
   ]
  },
  {
   "cell_type": "code",
   "execution_count": null,
   "id": "7c9fb6eb",
   "metadata": {},
   "outputs": [],
   "source": [
    "train_set_1 = dtf.iloc[:17520].values"
   ]
  },
  {
   "cell_type": "code",
   "execution_count": null,
   "id": "7a89cf55",
   "metadata": {},
   "outputs": [],
   "source": [
    "import tensorflow as tf\n",
    "from tensorflow import keras\n",
    "from keras.models import Sequential\n",
    "from keras.layers import Dense\n",
    "from keras.layers import LSTM, GRU, Bidirectional\n",
    "from keras.layers import Dropout\n",
    "from sklearn.preprocessing import MinMaxScaler\n",
    "from sklearn.metrics import mean_squared_error\n",
    "from sklearn.metrics import mean_absolute_error\n",
    "from sklearn.metrics import r2_score\n",
    "from sklearn.model_selection import train_test_split\n",
    "from keras.callbacks import EarlyStopping"
   ]
  },
  {
   "cell_type": "code",
   "execution_count": null,
   "id": "9393fcef",
   "metadata": {},
   "outputs": [],
   "source": [
    "from sklearn.preprocessing import StandardScaler\n",
    "\n",
    "sc = StandardScaler()\n",
    "x_scale = sc.fit_transform(dtf)\n",
    "print(x_scale.shape)"
   ]
  },
  {
   "cell_type": "code",
   "execution_count": null,
   "id": "dc804ddd",
   "metadata": {},
   "outputs": [],
   "source": [
    "sc2 = StandardScaler()\n",
    "y_scale = sc2.fit_transform(dtf[['GC']])\n",
    "print(y_scale.shape)"
   ]
  },
  {
   "cell_type": "markdown",
   "id": "f2301f69",
   "metadata": {},
   "source": [
    "### Preparing Training Data"
   ]
  },
  {
   "cell_type": "code",
   "execution_count": null,
   "id": "9763f092",
   "metadata": {},
   "outputs": [],
   "source": [
    "x_train_1 = []\n",
    "y_train_1 = []\n",
    "y_train_2 = []\n",
    "for i in range(48, 17520):\n",
    "    x_train_1.append(x_scale[i-48:i])\n",
    "    y_train_1.append(y_scale[i][0])\n",
    "    y_train_2.append(x_scale[i])\n",
    "    \n",
    "x_train_1, y_train_1 = np.array(x_train_1), np.array(y_train_1)\n",
    "y_train_2 = np.array(y_train_2)\n",
    "x_train_1 = np.reshape(x_train_1, (x_train_1.shape[0], x_train_1.shape[1], 4))\n",
    "y_train_2 = np.reshape(y_train_2, (y_train_2.shape[0], 1, 4))\n",
    "print(x_train_1.shape)"
   ]
  },
  {
   "cell_type": "code",
   "execution_count": null,
   "id": "d383b2e6",
   "metadata": {},
   "outputs": [],
   "source": [
    "y_train_2.shape"
   ]
  },
  {
   "cell_type": "markdown",
   "id": "f7ec7175",
   "metadata": {},
   "source": [
    "### Modelling "
   ]
  },
  {
   "cell_type": "code",
   "execution_count": null,
   "id": "df658ce8",
   "metadata": {
    "scrolled": true
   },
   "outputs": [],
   "source": [
    "model = Sequential()\n",
    "#Adding the first LSTM layer and some Dropout regularisation\n",
    "model.add(LSTM(units = 50, return_sequences = True, input_shape = (x_train_1.shape[1], 4)))\n",
    "model.add(Dropout(0.2))\n",
    "# Adding a second LSTM layer and some Dropout regularisation\n",
    "model.add(LSTM(units = 50, return_sequences = True))\n",
    "model.add(Dropout(0.2))\n",
    "# Adding a third LSTM layer and some Dropout regularisation\n",
    "model.add(LSTM(units = 50, return_sequences = True))\n",
    "model.add(Dropout(0.2))\n",
    "# Adding a fourth LSTM layer and some Dropout regularisation\n",
    "model.add(LSTM(units = 50))\n",
    "model.add(Dropout(0.2))\n",
    "# Adding the output layer\n",
    "model.add(Dense(units = 1))\n",
    "\n",
    "# Compiling the RNN\n",
    "model.compile(optimizer = 'adam', loss = 'mean_squared_error')\n",
    "\n",
    "# Fitting the RNN to the Training set\n",
    "model.fit(x_train_1, y_train_1, epochs = 20, batch_size = 32)"
   ]
  },
  {
   "cell_type": "code",
   "execution_count": null,
   "id": "d5e87e02",
   "metadata": {
    "scrolled": true
   },
   "outputs": [],
   "source": [
    "model_gru = Sequential()\n",
    "model_gru.add(GRU(units = 50, return_sequences = True))\n",
    "model_gru.add(Dropout(0.2))\n",
    "model_gru.add(GRU(units = 50, return_sequences = True))\n",
    "model_gru.add(Dropout(0.2))\n",
    "model_gru.add(GRU(units = 50))\n",
    "model_gru.add(Dropout(0.2))\n",
    "model_gru.add(Dense(units = 1))\n",
    "model_gru.compile(optimizer = 'adam', loss = 'mean_squared_error')\n",
    "\n",
    "# Fitting the RNN to the Training set\n",
    "model_gru.fit(x_train_1, y_train_1, epochs = 20, batch_size = 32)"
   ]
  },
  {
   "cell_type": "code",
   "execution_count": null,
   "id": "4d749d26",
   "metadata": {
    "scrolled": true
   },
   "outputs": [],
   "source": [
    "model_bi = Sequential()\n",
    "model_bi.add(Bidirectional(LSTM(units = 50, return_sequences = True)))\n",
    "model_bi.add(Dropout(0.2))\n",
    "model_bi.add(Bidirectional(LSTM(units = 50, return_sequences = True)))\n",
    "model_bi.add(Dropout(0.2))\n",
    "model_bi.add(Bidirectional(LSTM(units = 50)))\n",
    "model_bi.add(Dropout(0.2))\n",
    "model_bi.add(Dense(units = 1))\n",
    "model_bi.compile(optimizer = 'adam', loss = 'mean_squared_error')\n",
    "\n",
    "# Fitting the RNN to the Training set\n",
    "model_bi.fit(x_train_1, y_train_1, epochs = 20, batch_size = 64)"
   ]
  },
  {
   "cell_type": "code",
   "execution_count": null,
   "id": "6c372585",
   "metadata": {},
   "outputs": [],
   "source": [
    "import keras\n",
    "from keras.models import Sequential, Model, load_model\n",
    "from keras.layers import LSTM, Dense, RepeatVector, TimeDistributed, Input, BatchNormalization, concatenate, Flatten, Activation, dot\n",
    "from keras.optimizers import Adam"
   ]
  },
  {
   "cell_type": "code",
   "execution_count": null,
   "id": "101c65fa",
   "metadata": {},
   "outputs": [],
   "source": [
    "encoder_inputs = tf.keras.layers.Input(shape=(48, 4))\n",
    "encoder_l1 = tf.keras.layers.LSTM(100,return_sequences = True, return_state=True)\n",
    "encoder_outputs1 = encoder_l1(encoder_inputs)\n",
    "encoder_states1 = encoder_outputs1[1:]\n",
    "encoder_l2 = tf.keras.layers.LSTM(100, return_state=True)\n",
    "encoder_outputs2 = encoder_l2(encoder_outputs1[0])\n",
    "encoder_states2 = encoder_outputs2[1:]\n",
    "#\n",
    "decoder_inputs = tf.keras.layers.RepeatVector(1)(encoder_outputs2[0])\n",
    "#\n",
    "decoder_l1 = tf.keras.layers.LSTM(100, return_sequences=True)(decoder_inputs,initial_state = encoder_states1)\n",
    "decoder_l2 = tf.keras.layers.LSTM(100, return_sequences=True)(decoder_l1,initial_state = encoder_states2)\n",
    "decoder_outputs2 = tf.keras.layers.TimeDistributed(tf.keras.layers.Dense(4))(decoder_l2)\n",
    "#\n",
    "model_e2d2 = tf.keras.models.Model(encoder_inputs,decoder_outputs2)\n",
    "#\n",
    "model_e2d2.summary()"
   ]
  },
  {
   "cell_type": "code",
   "execution_count": null,
   "id": "2fa08e05",
   "metadata": {
    "scrolled": true
   },
   "outputs": [],
   "source": [
    "opt = Adam(lr=0.01, clipnorm=1)\n",
    "model_e2d2.compile(loss='mean_squared_error', optimizer=opt, metrics=['mae'])\n",
    "model_e2d2.fit(x_train_1, y_train_2, validation_split=0.2, epochs = 20, verbose = 1, batch_size = 32)"
   ]
  },
  {
   "cell_type": "code",
   "execution_count": null,
   "id": "2a8e536d",
   "metadata": {},
   "outputs": [],
   "source": [
    "x_train_xgb = []\n",
    "for i in range(48, 17520):\n",
    "    x_train_xgb.append(y_scale[i-48:i])\n",
    "    \n",
    "x_train_xgb = np.array(x_train_xgb)"
   ]
  },
  {
   "cell_type": "code",
   "execution_count": null,
   "id": "fbea8b9c",
   "metadata": {},
   "outputs": [],
   "source": [
    "x_train_xgb.shape"
   ]
  },
  {
   "cell_type": "code",
   "execution_count": null,
   "id": "8002512e",
   "metadata": {},
   "outputs": [],
   "source": [
    "x_train_xgb = np.reshape(x_train_xgb, (x_train_xgb.shape[0], x_train_xgb.shape[1]))"
   ]
  },
  {
   "cell_type": "code",
   "execution_count": null,
   "id": "cf811d7e",
   "metadata": {},
   "outputs": [],
   "source": [
    "from xgboost import XGBRegressor\n",
    "\n",
    "model_xgb = XGBRegressor(objective='reg:squarederror', n_estimators=1000)\n",
    "model_xgb.fit(x_train_xgb, y_train_1)"
   ]
  },
  {
   "cell_type": "code",
   "execution_count": null,
   "id": "a48cded5",
   "metadata": {},
   "outputs": [],
   "source": [
    "# Prediction"
   ]
  },
  {
   "cell_type": "code",
   "execution_count": null,
   "id": "39c648c9",
   "metadata": {},
   "outputs": [],
   "source": [
    "predicted_lstm = model.predict(x_train_1)"
   ]
  },
  {
   "cell_type": "code",
   "execution_count": null,
   "id": "43c6627d",
   "metadata": {},
   "outputs": [],
   "source": [
    "predicted_gru = model_gru.predict(x_train_1)"
   ]
  },
  {
   "cell_type": "code",
   "execution_count": null,
   "id": "dae0691b",
   "metadata": {},
   "outputs": [],
   "source": [
    "predicted_bi = model_bi.predict(x_train_1)"
   ]
  },
  {
   "cell_type": "code",
   "execution_count": null,
   "id": "b37fb134",
   "metadata": {},
   "outputs": [],
   "source": [
    "pred_e2d2 = model_e2d2.predict(x_train_1)"
   ]
  },
  {
   "cell_type": "code",
   "execution_count": null,
   "id": "d093dcb7",
   "metadata": {},
   "outputs": [],
   "source": [
    "predicted_xgb = model_xgb.predict(x_train_xgb)"
   ]
  },
  {
   "cell_type": "code",
   "execution_count": null,
   "id": "e362f7b8",
   "metadata": {},
   "outputs": [],
   "source": [
    "pred_e2d2 = np.reshape(pred_e2d2, (pred_e2d2.shape[0], pred_e2d2.shape[2]))\n",
    "pe2d2 = pd.DataFrame(pred_e2d2)\n",
    "predicted_e2d2 = np.array(pe2d2[0])"
   ]
  },
  {
   "cell_type": "code",
   "execution_count": null,
   "id": "e51a88d6",
   "metadata": {},
   "outputs": [],
   "source": [
    "predicted_lstm"
   ]
  },
  {
   "cell_type": "code",
   "execution_count": null,
   "id": "72527a27",
   "metadata": {},
   "outputs": [],
   "source": [
    "predicted_e2d2"
   ]
  },
  {
   "cell_type": "code",
   "execution_count": null,
   "id": "e91a6d2e",
   "metadata": {},
   "outputs": [],
   "source": [
    "predicted_ense = []\n",
    "for i in range(0, 17472):\n",
    "    predicted_en = (predicted_lstm[i]+predicted_gru[i]+predicted_bi[i]+predicted_e2d2+predicted_xgb[i])/5\n",
    "    predicted_ense.append(predicted_en[0])"
   ]
  },
  {
   "cell_type": "code",
   "execution_count": null,
   "id": "6a360219",
   "metadata": {},
   "outputs": [],
   "source": [
    "predicted_e2d2 = np.reshape(predicted_e2d2, (predicted_e2d2.shape[0], 1))\n",
    "predicted_xgb = np.reshape(predicted_xgb, (predicted_xgb.shape[0], 1))"
   ]
  },
  {
   "cell_type": "code",
   "execution_count": null,
   "id": "f8eada98",
   "metadata": {},
   "outputs": [],
   "source": [
    "y_train = sc2.inverse_transform(y_scale)\n",
    "pre_lstm = sc2.inverse_transform(predicted_lstm)\n",
    "pre_gru = sc2.inverse_transform(predicted_gru)\n",
    "pre_bi = sc2.inverse_transform(predicted_bi)\n",
    "pre_e2d2 = sc2.inverse_transform(predicted_e2d2)\n",
    "pre_xgb = sc2.inverse_transform(predicted_xgb)"
   ]
  },
  {
   "cell_type": "code",
   "execution_count": null,
   "id": "fc8b1baa",
   "metadata": {},
   "outputs": [],
   "source": [
    "pre_ense = (pre_lstm + pre_gru + pre_bi + pre_e2d2 + pre_xgb)/5"
   ]
  },
  {
   "cell_type": "markdown",
   "id": "d8bd30c2",
   "metadata": {},
   "source": [
    "### Result"
   ]
  },
  {
   "cell_type": "code",
   "execution_count": null,
   "id": "26abf6d0",
   "metadata": {},
   "outputs": [],
   "source": [
    "mae_lstm = mean_absolute_error(y_train[48:], pre_lstm)\n",
    "mse_lstm = mean_squared_error(y_train[48:], pre_lstm)\n",
    "rmse_lstm = np.sqrt(mse_lstm)\n",
    "r2_lstm = r2_score(y_train[48:], pre_lstm)\n",
    "r2_adj_lstm = 1-(1-r2_lstm)*(1632-1)/(1632-48-1)\n",
    "\n",
    "mae_gru = mean_absolute_error(y_train[48:], pre_gru)\n",
    "mse_gru = mean_squared_error(y_train[48:], pre_gru)\n",
    "rmse_gru = np.sqrt(mse_gru)\n",
    "r2_gru = r2_score(y_train[48:], pre_gru)\n",
    "r2_adj_gru = 1-(1-r2_gru)*(1632-1)/(1632-48-1)\n",
    "\n",
    "mae_bi = mean_absolute_error(y_train[48:], pre_bi)\n",
    "mse_bi = mean_squared_error(y_train[48:], pre_bi)\n",
    "rmse_bi = np.sqrt(mse_bi)\n",
    "r2_bi = r2_score(y_train[48:], pre_bi)\n",
    "r2_adj_bi = 1-(1-r2_bi)*(1632-1)/(1632-48-1)\n",
    "\n",
    "mae_xgb = mean_absolute_error(y_train[48:], pre_xgb)\n",
    "mse_xgb = mean_squared_error(y_train[48:], pre_xgb)\n",
    "rmse_xgb = np.sqrt(mse_xgb)\n",
    "r2_xgb = r2_score(y_train[48:], pre_xgb)\n",
    "r2_adj_xgb = 1-(1-r2_xgb)*(1632-1)/(1632-48-1)\n",
    "\n",
    "mae_e2d2 = mean_absolute_error(y_train[48:], pre__e2d2)\n",
    "mse_e2d2 = mean_squared_error(y_train[48:], pre__e2d2)\n",
    "rmse_e2d2 = np.sqrt(mse_e2d2)\n",
    "r2_e2d2 = r2_score(y_train[48:], pre__e2d2)\n",
    "r2_adj_e2d2 = 1-(1-r2_e2d2)*(1632-1)/(1632-48-1)\n",
    "\n",
    "mae_en = mean_absolute_error(y_train[48:], pre_ense)\n",
    "mse_en = mean_squared_error(y_train[48:], pre_ense)\n",
    "rmse_en = np.sqrt(mse_en)\n",
    "r2_en = r2_score(y_train[48:], pre_ense)\n",
    "r2_adj_en = 1-(1-r2_en)*(1632-1)/(1632-48-1)"
   ]
  },
  {
   "cell_type": "code",
   "execution_count": null,
   "id": "895a6f1a",
   "metadata": {},
   "outputs": [],
   "source": [
    "print(\"MAE LSTM\",mae_lstm)\n",
    "print(\"MSE LSTM\",mse_lstm)\n",
    "print(\"RMSE LSTM\",rmse_lstm)\n",
    "print(\"R2 Score LSTM\",r2_lstm)\n",
    "# print(r2_adj_lstm)\n",
    "print(\"-------------------------\")\n",
    "print(\"MAE GRU\",mae_gru)\n",
    "print(\"MSE GRU\",mse_gru)\n",
    "print(\"RMSE GRU\",rmse_gru)\n",
    "print(\"R2 Score GRU\",r2_gru)\n",
    "# print(r2_adj_gru)\n",
    "print(\"-------------------------\")\n",
    "print(\"MAE Bi\",mae_bi)\n",
    "print(\"MSE Bi\",mse_bi)\n",
    "print(\"RMSE Bi\",rmse_bi)\n",
    "print(\"R2 Score Bi\",r2_bi)\n",
    "# print(r2_adj_bi)\n",
    "print(\"-------------------------\")\n",
    "print(\"MAE XGB\",mae_xgb)\n",
    "print(\"MSE XGB\",mse_xgb)\n",
    "print(\"RMSE XGB\",rmse_xgb)\n",
    "print(\"R2 Score XGB\",r2_xgb)\n",
    "# print(r2_adj_xgb)\n",
    "print(\"-------------------------\")\n",
    "print(\"MAE SEQ\",mae_e2d2)\n",
    "print(\"MSE SEQ\",mse_e2d2)\n",
    "print(\"RMSE SEQ\",rmse_e2d2)\n",
    "print(\"R2 Score SEQ\",r2_e2d2)\n",
    "# print(r2_adj_xgb)\n",
    "print(\"-------------------------\")\n",
    "print(\"MAE Ense\",mae_en)\n",
    "print(\"MSE Ense\",mse_en)\n",
    "print(\"RMSE Ense\",rmse_en)\n",
    "print(\"R2 Score Ense\",r2_en)\n",
    "# print(r2_adj_en)"
   ]
  },
  {
   "cell_type": "code",
   "execution_count": null,
   "id": "5c5d4439",
   "metadata": {},
   "outputs": [],
   "source": [
    "dataset_train = new_df_1.iloc[:17472]"
   ]
  },
  {
   "cell_type": "markdown",
   "id": "d2361e1e",
   "metadata": {},
   "source": [
    "### Actual vs Predicted Analysis"
   ]
  },
  {
   "cell_type": "code",
   "execution_count": null,
   "id": "33c70a60",
   "metadata": {
    "scrolled": true
   },
   "outputs": [],
   "source": [
    "plt.plot(dataset_train.dt, dataset_train.GC, color = 'red', label = 'Real Load')\n",
    "plt.plot(dataset_train.dt, pre_lstm, color = 'blue', label = 'LSTM Predicted Load')\n",
    "plt.xticks(np.arange(0,1680,1680))\n",
    "plt.title('House 1 Montly Load Prediction')\n",
    "plt.xlabel('Time (30 Minutes interval)')\n",
    "plt.ylabel('Load')\n",
    "plt.legend()\n",
    "plt.show()"
   ]
  },
  {
   "cell_type": "code",
   "execution_count": null,
   "id": "93966a8c",
   "metadata": {},
   "outputs": [],
   "source": [
    "week_1_true_lstm = []\n",
    "week_1_predicted_lstm = []\n",
    "b = dataset_train.GC\n",
    "for i in range(0, 336):\n",
    "    week_1_true_lstm.append(b[i])\n",
    "    week_1_predicted_lstm.append(pre_lstm[i])"
   ]
  },
  {
   "cell_type": "code",
   "execution_count": null,
   "id": "630282f4",
   "metadata": {},
   "outputs": [],
   "source": [
    "plt.plot(week_1_true_lstm, color = 'red', label = 'Real Load')\n",
    "plt.plot(week_1_predicted_lstm, color = 'blue', label = 'LSTM Predicted Load')\n",
    "plt.xticks(np.arange(0,336,336))\n",
    "plt.title('House 1 Weekly Load Prediction')\n",
    "plt.xlabel('Time (30 Minutes interval)')\n",
    "plt.ylabel('Load')\n",
    "plt.legend()\n",
    "plt.show()"
   ]
  },
  {
   "cell_type": "code",
   "execution_count": null,
   "id": "84b4648d",
   "metadata": {},
   "outputs": [],
   "source": [
    "day_1_true_lstm = []\n",
    "day_1_predicted_lstm = []\n",
    "b = dataset_train.GC\n",
    "for i in range(0, 48):\n",
    "    day_1_true_lstm.append(b[i])\n",
    "    day_1_predicted_lstm.append(pre_lstm[i])"
   ]
  },
  {
   "cell_type": "code",
   "execution_count": null,
   "id": "7f94406c",
   "metadata": {},
   "outputs": [],
   "source": [
    "plt.plot(day_1_true_lstm, color = 'red', label = 'Real Load')\n",
    "plt.plot(day_1_predicted_lstm, color = 'blue', label = 'LSTM Predicted Load')\n",
    "plt.xticks(np.arange(0,48,48))\n",
    "plt.title('House 1 Daily Load Prediction')\n",
    "plt.xlabel('Time (30 Minutes interval)')\n",
    "plt.ylabel('Load')\n",
    "plt.legend()\n",
    "plt.show()"
   ]
  },
  {
   "cell_type": "code",
   "execution_count": null,
   "id": "501b01a4",
   "metadata": {
    "scrolled": true
   },
   "outputs": [],
   "source": [
    "plt.plot(dataset_train.dt, dataset_train.GC, color = 'red', label = 'Real Load')\n",
    "plt.plot(dataset_train.dt, pre_gru, color = 'blue', label = 'GRU Predicted Load')\n",
    "plt.xticks(np.arange(0,1680,1680))\n",
    "plt.title('House 1 Montly Load Prediction')\n",
    "plt.xlabel('Time (30 Minutes interval)')\n",
    "plt.ylabel('Load')\n",
    "plt.legend()\n",
    "plt.show()"
   ]
  },
  {
   "cell_type": "code",
   "execution_count": null,
   "id": "9f30791d",
   "metadata": {},
   "outputs": [],
   "source": [
    "week_1_true_gru = []\n",
    "week_1_predicted_gru = []\n",
    "b = dataset_train.GC\n",
    "for i in range(0, 336):\n",
    "    week_1_true_gru.append(b[i])\n",
    "    week_1_predicted_gru.append(pre_gru[i])"
   ]
  },
  {
   "cell_type": "code",
   "execution_count": null,
   "id": "b9a89741",
   "metadata": {},
   "outputs": [],
   "source": [
    "plt.plot(week_1_true_gru, color = 'red', label = 'Real Load')\n",
    "plt.plot(week_1_predicted_gru, color = 'blue', label = 'GRU Predicted Load')\n",
    "plt.xticks(np.arange(0,336,336))\n",
    "plt.title('House 1 Weekly Load Prediction')\n",
    "plt.xlabel('Time (30 Minutes interval)')\n",
    "plt.ylabel('Load')\n",
    "plt.legend()\n",
    "plt.show()"
   ]
  },
  {
   "cell_type": "code",
   "execution_count": null,
   "id": "af1bfe53",
   "metadata": {},
   "outputs": [],
   "source": [
    "day_1_true_gru = []\n",
    "day_1_predicted_gru = []\n",
    "b = dataset_train.GC\n",
    "for i in range(0, 48):\n",
    "    day_1_true_gru.append(b[i])\n",
    "    day_1_predicted_gru.append(pre_gru[i])"
   ]
  },
  {
   "cell_type": "code",
   "execution_count": null,
   "id": "7ecfe48a",
   "metadata": {},
   "outputs": [],
   "source": [
    "plt.plot(day_1_true_lstm, color = 'red', label = 'Real Load')\n",
    "plt.plot(day_1_predicted_gru, color = 'blue', label = 'GRU Predicted Load')\n",
    "plt.xticks(np.arange(0,48,48))\n",
    "plt.title('House 1 Daily Load Prediction')\n",
    "plt.xlabel('Time (30 Minutes interval)')\n",
    "plt.ylabel('Load')\n",
    "plt.legend()\n",
    "plt.show()"
   ]
  },
  {
   "cell_type": "code",
   "execution_count": null,
   "id": "fcc93ca5",
   "metadata": {
    "scrolled": true
   },
   "outputs": [],
   "source": [
    "plt.plot(dataset_train.dt, dataset_train.GC, color = 'red', label = 'Real Load')\n",
    "plt.plot(dataset_train.dt, predicted_bi, color = 'blue', label = 'Bidirectional LSTM Predicted Load')\n",
    "plt.xticks(np.arange(0,1680,1680))\n",
    "plt.title('House 1 Montly Load Prediction')\n",
    "plt.xlabel('Time (30 Minutes interval)')\n",
    "plt.ylabel('Load')\n",
    "plt.legend()\n",
    "plt.show()"
   ]
  },
  {
   "cell_type": "code",
   "execution_count": null,
   "id": "5cca385d",
   "metadata": {},
   "outputs": [],
   "source": [
    "week_1_true_bi = []\n",
    "week_1_predicted_bi = []\n",
    "b = dataset_train.GC\n",
    "for i in range(0, 336):\n",
    "    week_1_true_bi.append(b[i])\n",
    "    week_1_predicted_bi.append(pre_bi[i])"
   ]
  },
  {
   "cell_type": "code",
   "execution_count": null,
   "id": "92d68086",
   "metadata": {},
   "outputs": [],
   "source": [
    "plt.plot(week_1_true_bi, color = 'red', label = 'Real Load')\n",
    "plt.plot(week_1_predicted_bi, color = 'blue', label = 'Bidirectional LSTM Predicted Load')\n",
    "plt.xticks(np.arange(0,336,336))\n",
    "plt.title('House 1 Weekly Load Prediction')\n",
    "plt.xlabel('Time (30 Minutes interval)')\n",
    "plt.ylabel('Load')\n",
    "plt.legend()\n",
    "plt.show()"
   ]
  },
  {
   "cell_type": "code",
   "execution_count": null,
   "id": "64ae8edf",
   "metadata": {},
   "outputs": [],
   "source": [
    "day_1_true_bi = []\n",
    "day_1_predicted_bi = []\n",
    "b = dataset_train.GC\n",
    "for i in range(0, 48):\n",
    "    day_1_true_bi.append(b[i])\n",
    "    day_1_predicted_bi.append(predicted_bi[i])"
   ]
  },
  {
   "cell_type": "code",
   "execution_count": null,
   "id": "f4b8a282",
   "metadata": {},
   "outputs": [],
   "source": [
    "plt.plot(day_1_true_bi, color = 'red', label = 'Real Load')\n",
    "plt.plot(day_1_predicted_bi, color = 'blue', label = 'Bidirectional LSTM Predicted Load')\n",
    "plt.xticks(np.arange(0,48,48))\n",
    "plt.title('House 1 Daily Load Prediction')\n",
    "plt.xlabel('Time (30 Minutes interval)')\n",
    "plt.ylabel('Load')\n",
    "plt.legend()\n",
    "plt.show()"
   ]
  },
  {
   "cell_type": "code",
   "execution_count": null,
   "id": "c7a0b4da",
   "metadata": {
    "scrolled": true
   },
   "outputs": [],
   "source": [
    "plt.plot(dataset_train.dt, dataset_train.GC, color = 'red', label = 'Real Load')\n",
    "plt.plot(dataset_train.dt, predicted_xgb, color = 'blue', label = 'XGBoost Predicted Load')\n",
    "plt.xticks(np.arange(0,1680,1680))\n",
    "plt.title('House 1 Montly Load Prediction')\n",
    "plt.xlabel('Time (30 Minutes interval)')\n",
    "plt.ylabel('Load')\n",
    "plt.legend()\n",
    "plt.show()"
   ]
  },
  {
   "cell_type": "code",
   "execution_count": null,
   "id": "8b98ce08",
   "metadata": {},
   "outputs": [],
   "source": [
    "week_1_true_xgb = []\n",
    "week_1_predicted_xgb = []\n",
    "b = dataset_train.GC\n",
    "for i in range(0, 336):\n",
    "    week_1_true_xgb.append(b[i])\n",
    "    week_1_predicted_xgb.append(pre_xgb[i])"
   ]
  },
  {
   "cell_type": "code",
   "execution_count": null,
   "id": "8e186cb5",
   "metadata": {},
   "outputs": [],
   "source": [
    "plt.plot(week_1_true_xgb, color = 'red', label = 'Real Load')\n",
    "plt.plot(week_1_predicted_xgb, color = 'blue', label = 'XGBoost Predicted Load')\n",
    "plt.xticks(np.arange(0,336,336))\n",
    "plt.title('House 1 Weekly Load Prediction')\n",
    "plt.xlabel('Time (30 Minutes interval)')\n",
    "plt.ylabel('Load')\n",
    "plt.legend()\n",
    "plt.show()"
   ]
  },
  {
   "cell_type": "code",
   "execution_count": null,
   "id": "68ac9ab3",
   "metadata": {},
   "outputs": [],
   "source": [
    "day_1_true_xgb = []\n",
    "day_1_predicted_xgb = []\n",
    "b = dataset_train.GC\n",
    "for i in range(0, 48):\n",
    "    day_1_true_xgb.append(b[i])\n",
    "    day_1_predicted_xgb.append(pre_xgb[i])"
   ]
  },
  {
   "cell_type": "code",
   "execution_count": null,
   "id": "3388a457",
   "metadata": {},
   "outputs": [],
   "source": [
    "plt.plot(day_1_true_xgb, color = 'red', label = 'Real Load')\n",
    "plt.plot(day_1_predicted_xgb, color = 'blue', label = 'XGBoost Predicted Load')\n",
    "plt.xticks(np.arange(0,48,48))\n",
    "plt.title('House 1 Daily Load Prediction')\n",
    "plt.xlabel('Time (30 Minutes interval)')\n",
    "plt.ylabel('Load')\n",
    "plt.legend()\n",
    "plt.show()"
   ]
  },
  {
   "cell_type": "code",
   "execution_count": null,
   "id": "73ca7005",
   "metadata": {
    "scrolled": true
   },
   "outputs": [],
   "source": [
    "plt.plot(dataset_train.dt, dataset_train.GC, color = 'red', label = 'Real Load')\n",
    "plt.plot(dataset_train.dt, pre__e2d2, color = 'blue', label = 'Seq-2-seq Predicted Load')\n",
    "plt.xticks(np.arange(0,1680,1680))\n",
    "plt.title('House 1 Montly Load Prediction')\n",
    "plt.xlabel('Time (30 Minutes interval)')\n",
    "plt.ylabel('Load')\n",
    "plt.legend()\n",
    "plt.show()"
   ]
  },
  {
   "cell_type": "code",
   "execution_count": null,
   "id": "fe068f58",
   "metadata": {},
   "outputs": [],
   "source": [
    "week_1_true_e2d2 = []\n",
    "week_1_predicted_e2d2 = []\n",
    "b = dataset_train.GC\n",
    "for i in range(0, 336):\n",
    "    week_1_true_e2d2.append(b[i])\n",
    "    week_1_predicted_e2d2.append(pre__e2d2[i])"
   ]
  },
  {
   "cell_type": "code",
   "execution_count": null,
   "id": "4688ddf2",
   "metadata": {},
   "outputs": [],
   "source": [
    "plt.plot(week_1_true_e2d2, color = 'red', label = 'Real Load')\n",
    "plt.plot(week_1_predicted_e2d2, color = 'blue', label = 'Seq-2-seq Predicted Load')\n",
    "plt.xticks(np.arange(0,336,336))\n",
    "plt.title('House 1 Weekly Load Prediction')\n",
    "plt.xlabel('Time (30 Minutes interval)')\n",
    "plt.ylabel('Load')\n",
    "plt.legend()\n",
    "plt.show()"
   ]
  },
  {
   "cell_type": "code",
   "execution_count": null,
   "id": "df6fbc7b",
   "metadata": {},
   "outputs": [],
   "source": [
    "day_1_true_e2d2 = []\n",
    "day_1_predicted_e2d2 = []\n",
    "b = dataset_train.GC\n",
    "for i in range(0, 48):\n",
    "    day_1_true_e2d2.append(b[i])\n",
    "    day_1_predicted_e2d2.append(pre__e2d2[i])"
   ]
  },
  {
   "cell_type": "code",
   "execution_count": null,
   "id": "4f26f8c0",
   "metadata": {},
   "outputs": [],
   "source": [
    "plt.plot(day_1_true_e2d2, color = 'red', label = 'Real Load')\n",
    "plt.plot(day_1_predicted_e2d2, color = 'blue', label = 'Seq-2-seq Predicted Load')\n",
    "plt.xticks(np.arange(0,48,48))\n",
    "plt.title('House 1 Daily Load Prediction')\n",
    "plt.xlabel('Time (30 Minutes interval)')\n",
    "plt.ylabel('Load')\n",
    "plt.legend()\n",
    "plt.show()"
   ]
  },
  {
   "cell_type": "code",
   "execution_count": null,
   "id": "5bfc6e79",
   "metadata": {
    "scrolled": true
   },
   "outputs": [],
   "source": [
    "plt.plot(dataset_train.dt, dataset_train.GC, color = 'red', label = 'Real Load')\n",
    "plt.plot(dataset_train.dt, pre_ense, color = 'blue', label = 'Ensemble Predicted Load')\n",
    "plt.xticks(np.arange(0,1680,1680))\n",
    "plt.title('Average Monthly load prediction for each house in Community')\n",
    "plt.xlabel('Time (30 Minutes interval)')\n",
    "plt.ylabel('Load')\n",
    "plt.legend()\n",
    "plt.show()"
   ]
  },
  {
   "cell_type": "code",
   "execution_count": null,
   "id": "0a885614",
   "metadata": {},
   "outputs": [],
   "source": [
    "week_1_true_en = []\n",
    "week_1_predicted_en = []\n",
    "b = dataset_train.GC\n",
    "for i in range(0, 336):\n",
    "    week_1_true_en.append(b[i])\n",
    "    week_1_predicted_en.append(pre_ense[i])"
   ]
  },
  {
   "cell_type": "code",
   "execution_count": null,
   "id": "2b92f272",
   "metadata": {},
   "outputs": [],
   "source": [
    "plt.plot(week_1_true_en, color = 'red', label = 'Real Load')\n",
    "plt.plot(week_1_predicted_en, color = 'blue', label = 'Ensemble Predicted Load')\n",
    "plt.xticks(np.arange(0,336,336))\n",
    "plt.title('Average Weekly load prediction for each house in Community')\n",
    "plt.xlabel('Time (30 Minutes interval)')\n",
    "plt.ylabel('Load')\n",
    "plt.legend()\n",
    "plt.show()"
   ]
  },
  {
   "cell_type": "code",
   "execution_count": null,
   "id": "a42dd7c3",
   "metadata": {},
   "outputs": [],
   "source": [
    "day_1_true_en = []\n",
    "day_1_predicted_en = []\n",
    "b = dataset_train.GC\n",
    "for i in range(0, 48):\n",
    "    day_1_true_en.append(b[i])\n",
    "    day_1_predicted_en.append(pre_ense[i])"
   ]
  },
  {
   "cell_type": "code",
   "execution_count": null,
   "id": "bb6852e1",
   "metadata": {},
   "outputs": [],
   "source": [
    "plt.plot(day_1_true_en, color = 'red', label = 'Real Load')\n",
    "plt.plot(day_1_predicted_en, color = 'blue', label = 'Ensemble Predicted Load')\n",
    "plt.xticks(np.arange(0,48,48))\n",
    "plt.title('Average Daily load prediction for each house in Community')\n",
    "plt.xlabel('Time (30 Minutes interval)')\n",
    "plt.ylabel('Load')\n",
    "plt.legend()\n",
    "plt.show()"
   ]
  },
  {
   "cell_type": "code",
   "execution_count": null,
   "id": "aca47238",
   "metadata": {},
   "outputs": [],
   "source": [
    "lstm1 = pd.DataFrame(dataset_train['Date'])\n",
    "lstm1['Time'] = dataset_train['Time']\n",
    "lstm1['Actual'] = dataset_train['GC']\n",
    "lstm1['Predicted'] = pre_lstm"
   ]
  },
  {
   "cell_type": "code",
   "execution_count": null,
   "id": "84b14593",
   "metadata": {
    "scrolled": false
   },
   "outputs": [],
   "source": [
    "lstm1 = lstm1.round(3)\n",
    "lstm1"
   ]
  },
  {
   "cell_type": "code",
   "execution_count": null,
   "id": "b1ecc1a0",
   "metadata": {},
   "outputs": [],
   "source": [
    "gru1 = pd.DataFrame(dataset_train['Date'])\n",
    "gru1['Time'] = dataset_train['Time']\n",
    "gru1['Actual'] = dataset_train['GC']\n",
    "gru1['Predicted'] = pre_gru"
   ]
  },
  {
   "cell_type": "code",
   "execution_count": null,
   "id": "a8080e56",
   "metadata": {},
   "outputs": [],
   "source": [
    "gru1 = gru1.round(3)\n",
    "gru1"
   ]
  },
  {
   "cell_type": "code",
   "execution_count": null,
   "id": "8bd928a0",
   "metadata": {},
   "outputs": [],
   "source": [
    "bi1 = pd.DataFrame(dataset_train['Date'])\n",
    "bi1['Time'] = dataset_train['Time']\n",
    "bi1['Actual'] = dataset_train['GC']\n",
    "bi1['Predicted'] = pre_bi"
   ]
  },
  {
   "cell_type": "code",
   "execution_count": null,
   "id": "e1ad2664",
   "metadata": {},
   "outputs": [],
   "source": [
    "bi1 = bi1.round(3)\n",
    "bi1"
   ]
  },
  {
   "cell_type": "code",
   "execution_count": null,
   "id": "fc99ce92",
   "metadata": {},
   "outputs": [],
   "source": [
    "e2d21 = pd.DataFrame(dataset_train['Date'])\n",
    "e2d21['Time'] = dataset_train['Time']\n",
    "e2d21['Actual'] = dataset_train['GC']\n",
    "e2d21['Predicted'] = pre__e2d2"
   ]
  },
  {
   "cell_type": "code",
   "execution_count": null,
   "id": "07ec8065",
   "metadata": {},
   "outputs": [],
   "source": [
    "e2d21 = e2d21.round(3)\n",
    "e2d21"
   ]
  },
  {
   "cell_type": "code",
   "execution_count": null,
   "id": "03c2a40a",
   "metadata": {},
   "outputs": [],
   "source": [
    "xgb1 = pd.DataFrame(dataset_train['Date'])\n",
    "xgb1['Time'] = dataset_train['Time']\n",
    "xgb1['Actual'] = dataset_train['GC']\n",
    "xgb1['Predicted'] = pre_xgb"
   ]
  },
  {
   "cell_type": "code",
   "execution_count": null,
   "id": "b3366642",
   "metadata": {},
   "outputs": [],
   "source": [
    "xgb1 = xgb1.round(3)\n",
    "xgb1"
   ]
  },
  {
   "cell_type": "code",
   "execution_count": null,
   "id": "00233001",
   "metadata": {},
   "outputs": [],
   "source": [
    "ense1 = pd.DataFrame(dataset_train['Date'])\n",
    "ense1['Time'] = dataset_train['Time']\n",
    "ense1['Actual'] = dataset_train['GC']\n",
    "ense1['Predicted'] = pre_ense"
   ]
  },
  {
   "cell_type": "code",
   "execution_count": null,
   "id": "1dc7fd87",
   "metadata": {},
   "outputs": [],
   "source": [
    "ense1 = ense1.round(3)\n",
    "ense1"
   ]
  },
  {
   "cell_type": "code",
   "execution_count": null,
   "id": "6c276f80",
   "metadata": {},
   "outputs": [],
   "source": []
  },
  {
   "cell_type": "code",
   "execution_count": null,
   "id": "c79862ba",
   "metadata": {},
   "outputs": [],
   "source": []
  },
  {
   "cell_type": "code",
   "execution_count": null,
   "id": "70b2e7a4",
   "metadata": {},
   "outputs": [],
   "source": []
  },
  {
   "cell_type": "code",
   "execution_count": null,
   "id": "d6768c53",
   "metadata": {},
   "outputs": [],
   "source": []
  },
  {
   "cell_type": "code",
   "execution_count": null,
   "id": "1cb99b15",
   "metadata": {},
   "outputs": [],
   "source": []
  },
  {
   "cell_type": "code",
   "execution_count": null,
   "id": "7e4b0514",
   "metadata": {},
   "outputs": [],
   "source": []
  },
  {
   "cell_type": "code",
   "execution_count": null,
   "id": "a25913da",
   "metadata": {},
   "outputs": [],
   "source": []
  },
  {
   "cell_type": "code",
   "execution_count": null,
   "id": "30602af9",
   "metadata": {},
   "outputs": [],
   "source": []
  },
  {
   "cell_type": "code",
   "execution_count": null,
   "id": "58a95fa9",
   "metadata": {},
   "outputs": [],
   "source": []
  },
  {
   "cell_type": "code",
   "execution_count": null,
   "id": "ccc2a27a",
   "metadata": {},
   "outputs": [],
   "source": []
  },
  {
   "cell_type": "code",
   "execution_count": null,
   "id": "ea8ec6b7",
   "metadata": {},
   "outputs": [],
   "source": []
  },
  {
   "cell_type": "code",
   "execution_count": null,
   "id": "b154d66f",
   "metadata": {},
   "outputs": [],
   "source": []
  },
  {
   "cell_type": "code",
   "execution_count": null,
   "id": "a2807fe6",
   "metadata": {},
   "outputs": [],
   "source": []
  },
  {
   "cell_type": "code",
   "execution_count": null,
   "id": "c0daa7cd",
   "metadata": {},
   "outputs": [],
   "source": []
  },
  {
   "cell_type": "code",
   "execution_count": null,
   "id": "fff106b4",
   "metadata": {},
   "outputs": [],
   "source": []
  },
  {
   "cell_type": "code",
   "execution_count": null,
   "id": "1472c64d",
   "metadata": {},
   "outputs": [],
   "source": []
  },
  {
   "cell_type": "code",
   "execution_count": null,
   "id": "705456d1",
   "metadata": {},
   "outputs": [],
   "source": []
  },
  {
   "cell_type": "code",
   "execution_count": null,
   "id": "5a8f795c",
   "metadata": {},
   "outputs": [],
   "source": []
  },
  {
   "cell_type": "code",
   "execution_count": null,
   "id": "6d961015",
   "metadata": {},
   "outputs": [],
   "source": []
  },
  {
   "cell_type": "code",
   "execution_count": null,
   "id": "53a7654b",
   "metadata": {},
   "outputs": [],
   "source": []
  },
  {
   "cell_type": "code",
   "execution_count": null,
   "id": "2571e021",
   "metadata": {},
   "outputs": [],
   "source": []
  },
  {
   "cell_type": "code",
   "execution_count": null,
   "id": "c0dfa2e1",
   "metadata": {},
   "outputs": [],
   "source": []
  },
  {
   "cell_type": "code",
   "execution_count": null,
   "id": "1e421cb9",
   "metadata": {},
   "outputs": [],
   "source": []
  },
  {
   "cell_type": "code",
   "execution_count": null,
   "id": "a2f173a2",
   "metadata": {},
   "outputs": [],
   "source": []
  },
  {
   "cell_type": "code",
   "execution_count": null,
   "id": "573f0ad8",
   "metadata": {},
   "outputs": [],
   "source": []
  },
  {
   "cell_type": "code",
   "execution_count": null,
   "id": "b79328ac",
   "metadata": {},
   "outputs": [],
   "source": [
    "a = pd.DataFrame(y_train)\n",
    "b = pd.DataFrame(pre_ense)\n",
    "a = a.round(3)\n",
    "b = b.round(3)"
   ]
  },
  {
   "cell_type": "code",
   "execution_count": null,
   "id": "1b0589d6",
   "metadata": {},
   "outputs": [],
   "source": [
    "ense_pred = []\n",
    "for i in range(0,48):\n",
    "    ense_pred.append(a[0][i])\n",
    "for i in range(len(pre_ense)):\n",
    "    ense_pred.append(b[0][i])"
   ]
  },
  {
   "cell_type": "code",
   "execution_count": null,
   "id": "a7b8c1e2",
   "metadata": {},
   "outputs": [],
   "source": [
    "new_df_1['Pred'] = ense_pred\n",
    "new_df_1['dt'] = new_df_1['dt'].apply(str)\n",
    "new_df_1['Date'] = new_df_1['Date'].apply(str)\n",
    "new_df_1['Time'] = new_df_1['Time'].apply(str)"
   ]
  },
  {
   "cell_type": "code",
   "execution_count": null,
   "id": "a249f14f",
   "metadata": {
    "scrolled": true
   },
   "outputs": [],
   "source": [
    "new_df_1"
   ]
  },
  {
   "cell_type": "code",
   "execution_count": null,
   "id": "b46dd7ce",
   "metadata": {},
   "outputs": [],
   "source": [
    "new_df_1.to_json(r'House_3.json', orient='records')"
   ]
  },
  {
   "cell_type": "code",
   "execution_count": null,
   "id": "b9429bdc",
   "metadata": {},
   "outputs": [],
   "source": []
  }
 ],
 "metadata": {
  "kernelspec": {
   "display_name": "Python 3 (ipykernel)",
   "language": "python",
   "name": "python3"
  },
  "language_info": {
   "codemirror_mode": {
    "name": "ipython",
    "version": 3
   },
   "file_extension": ".py",
   "mimetype": "text/x-python",
   "name": "python",
   "nbconvert_exporter": "python",
   "pygments_lexer": "ipython3",
   "version": "3.9.12"
  }
 },
 "nbformat": 4,
 "nbformat_minor": 5
}
